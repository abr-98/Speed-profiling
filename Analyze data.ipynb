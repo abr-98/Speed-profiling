{
 "cells": [
  {
   "cell_type": "code",
   "execution_count": 6,
   "metadata": {},
   "outputs": [
    {
     "name": "stdout",
     "output_type": "stream",
     "text": [
      "a\n"
     ]
    },
    {
     "data": {
      "text/plain": [
       "0.4873358348968105"
      ]
     },
     "execution_count": 6,
     "metadata": {},
     "output_type": "execute_result"
    }
   ],
   "source": [
    "import pandas as pd\n",
    "import numpy as np\n",
    "import matplotlib.pyplot as plt\n",
    "\n",
    "from sklearn.model_selection import train_test_split\n",
    "from sklearn.neighbors import KNeighborsClassifier\n",
    "\n",
    "\n",
    "list=pd.read_csv('dataset.csv')\n",
    "X=list[['Honk_duration','RMS','Intersection density','WiFi density']].values\n",
    "Y=list['Class'].values\n",
    "\n",
    "X_d=pd.DataFrame(X)\n",
    "Y_d=pd.DataFrame(Y)\n",
    "Y_d_2=pd.get_dummies(Y_d)\n",
    "X_train, X_test, y_train, y_test = train_test_split(X_d,Y_d_2,test_size=0.4,random_state=42)\n",
    "\n",
    "knn=KNeighborsClassifier(n_neighbors=6)\n",
    "knn.fit(X_train,y_train)\n",
    "#knn.score(X_train,y_train)\n",
    "print(\"a\")\n",
    "knn.score(X_test,y_test)\n",
    "\n",
    "\n",
    "\n",
    "import pandas as pd\n",
    "import numpy as np\n",
    "import matplotlib.pyplot as plt\n",
    "\n",
    "from sklearn.model_selection import train_test_split\n",
    "from sklearn.neighbors import KNeighborsClassifier\n",
    "\n",
    "\n",
    "list=pd.read_csv('dataset.csv')\n",
    "X=list[['Honk_duration','RMS','Intersection density','WiFi density']].values\n",
    "Y=list['Class'].values\n",
    "\n",
    "X_d=pd.DataFrame(X)\n",
    "Y_d=pd.DataFrame(Y)\n",
    "Y_d_2=pd.get_dummies(Y_d)\n",
    "X_train, X_test, y_train, y_test = train_test_split(X_d,Y_d_2,test_size=0.4,random_state=42)\n",
    "\n",
    "knn=KNeighborsClassifier(n_neighbors=4)\n",
    "knn.fit(X_train,y_train)\n",
    "#knn.score(X_train,y_train)\n",
    "print(\"a\")\n",
    "knn.score(X_test,y_test)"
   ]
  },
  {
   "cell_type": "code",
   "execution_count": null,
   "metadata": {},
   "outputs": [],
   "source": []
  },
  {
   "cell_type": "code",
   "execution_count": 8,
   "metadata": {},
   "outputs": [
    {
     "name": "stdout",
     "output_type": "stream",
     "text": [
      "a\n"
     ]
    },
    {
     "data": {
      "text/plain": [
       "0.5802063789868668"
      ]
     },
     "execution_count": 8,
     "metadata": {},
     "output_type": "execute_result"
    }
   ],
   "source": [
    "import pandas as pd\n",
    "import numpy as np\n",
    "import matplotlib.pyplot as plt\n",
    "\n",
    "from sklearn.model_selection import train_test_split\n",
    "from sklearn.neighbors import KNeighborsClassifier\n",
    "\n",
    "\n",
    "list=pd.read_csv('dataset.csv')\n",
    "X=list[['Honk_duration','RMS','Intersection density','WiFi density']].values\n",
    "Y=list['Class'].values\n",
    "\n",
    "X_d=pd.DataFrame(X)\n",
    "Y_d=pd.DataFrame(Y)\n",
    "Y_d_2=pd.get_dummies(Y_d)\n",
    "X_train, X_test, y_train, y_test = train_test_split(X_d,Y_d_2,test_size=0.4,random_state=42)\n",
    "\n",
    "knn=KNeighborsClassifier(n_neighbors=9)\n",
    "knn.fit(X_train,y_train)\n",
    "#knn.score(X_train,y_train)\n",
    "print(\"a\")\n",
    "knn.score(X_test,y_test)"
   ]
  },
  {
   "cell_type": "code",
   "execution_count": 9,
   "metadata": {},
   "outputs": [
    {
     "name": "stdout",
     "output_type": "stream",
     "text": [
      "a\n"
     ]
    },
    {
     "data": {
      "text/plain": [
       "0.5304878048780488"
      ]
     },
     "execution_count": 9,
     "metadata": {},
     "output_type": "execute_result"
    }
   ],
   "source": [
    "import pandas as pd\n",
    "import numpy as np\n",
    "import matplotlib.pyplot as plt\n",
    "\n",
    "from sklearn.model_selection import train_test_split\n",
    "from sklearn.neighbors import KNeighborsClassifier\n",
    "\n",
    "\n",
    "list=pd.read_csv('dataset.csv')\n",
    "X=list[['Honk_duration','RMS','Intersection density','WiFi density']].values\n",
    "Y=list['Class'].values\n",
    "\n",
    "X_d=pd.DataFrame(X)\n",
    "Y_d=pd.DataFrame(Y)\n",
    "Y_d_2=pd.get_dummies(Y_d)\n",
    "X_train, X_test, y_train, y_test = train_test_split(X_d,Y_d_2,test_size=0.4,random_state=42)\n",
    "\n",
    "knn=KNeighborsClassifier(n_neighbors=12)\n",
    "knn.fit(X_train,y_train)\n",
    "#knn.score(X_train,y_train)\n",
    "print(\"a\")\n",
    "knn.score(X_test,y_test)"
   ]
  },
  {
   "cell_type": "code",
   "execution_count": 10,
   "metadata": {},
   "outputs": [
    {
     "name": "stdout",
     "output_type": "stream",
     "text": [
      "a\n"
     ]
    },
    {
     "data": {
      "text/plain": [
       "0.5844277673545967"
      ]
     },
     "execution_count": 10,
     "metadata": {},
     "output_type": "execute_result"
    }
   ],
   "source": [
    "import pandas as pd\n",
    "import numpy as np\n",
    "import matplotlib.pyplot as plt\n",
    "\n",
    "from sklearn.model_selection import train_test_split\n",
    "from sklearn.neighbors import KNeighborsClassifier\n",
    "\n",
    "\n",
    "list=pd.read_csv('dataset.csv')\n",
    "X=list[['Honk_duration','RMS','Intersection density','WiFi density']].values\n",
    "Y=list['Class'].values\n",
    "\n",
    "X_d=pd.DataFrame(X)\n",
    "Y_d=pd.DataFrame(Y)\n",
    "Y_d_2=pd.get_dummies(Y_d)\n",
    "X_train, X_test, y_train, y_test = train_test_split(X_d,Y_d_2,test_size=0.4,random_state=42)\n",
    "\n",
    "knn=KNeighborsClassifier(n_neighbors=11)\n",
    "knn.fit(X_train,y_train)\n",
    "#knn.score(X_train,y_train)\n",
    "print(\"a\")\n",
    "knn.score(X_test,y_test)"
   ]
  },
  {
   "cell_type": "code",
   "execution_count": 11,
   "metadata": {},
   "outputs": [
    {
     "name": "stdout",
     "output_type": "stream",
     "text": [
      "a\n"
     ]
    },
    {
     "data": {
      "text/plain": [
       "0.5159474671669794"
      ]
     },
     "execution_count": 11,
     "metadata": {},
     "output_type": "execute_result"
    }
   ],
   "source": [
    "import pandas as pd\n",
    "import numpy as np\n",
    "import matplotlib.pyplot as plt\n",
    "\n",
    "from sklearn.model_selection import train_test_split\n",
    "from sklearn.neighbors import KNeighborsClassifier\n",
    "\n",
    "\n",
    "list=pd.read_csv('dataset.csv')\n",
    "X=list[['Honk_duration','RMS','Intersection density','WiFi density']].values\n",
    "Y=list['Class'].values\n",
    "\n",
    "X_d=pd.DataFrame(X)\n",
    "Y_d=pd.DataFrame(Y)\n",
    "Y_d_2=pd.get_dummies(Y_d)\n",
    "X_train, X_test, y_train, y_test = train_test_split(X_d,Y_d_2,test_size=0.4,random_state=42)\n",
    "\n",
    "knn=KNeighborsClassifier(n_neighbors=10)\n",
    "knn.fit(X_train,y_train)\n",
    "#knn.score(X_train,y_train)\n",
    "print(\"a\")\n",
    "knn.score(X_test,y_test)"
   ]
  },
  {
   "cell_type": "code",
   "execution_count": 12,
   "metadata": {},
   "outputs": [
    {
     "name": "stdout",
     "output_type": "stream",
     "text": [
      "a\n"
     ]
    },
    {
     "data": {
      "text/plain": [
       "0.5844277673545967"
      ]
     },
     "execution_count": 12,
     "metadata": {},
     "output_type": "execute_result"
    }
   ],
   "source": [
    "import pandas as pd\n",
    "import numpy as np\n",
    "import matplotlib.pyplot as plt\n",
    "\n",
    "from sklearn.model_selection import train_test_split\n",
    "from sklearn.neighbors import KNeighborsClassifier\n",
    "\n",
    "\n",
    "list=pd.read_csv('dataset.csv')\n",
    "X=list[['Honk_duration','RMS','Intersection density','WiFi density']].values\n",
    "Y=list['Class'].values\n",
    "\n",
    "X_d=pd.DataFrame(X)\n",
    "Y_d=pd.DataFrame(Y)\n",
    "Y_d_2=pd.get_dummies(Y_d)\n",
    "X_train, X_test, y_train, y_test = train_test_split(X_d,Y_d_2,test_size=0.4,random_state=42)\n",
    "\n",
    "knn=KNeighborsClassifier(n_neighbors=11)\n",
    "knn.fit(X_train,y_train)\n",
    "#knn.score(X_train,y_train)\n",
    "print(\"a\")\n",
    "knn.score(X_test,y_test)"
   ]
  },
  {
   "cell_type": "code",
   "execution_count": 13,
   "metadata": {},
   "outputs": [
    {
     "name": "stdout",
     "output_type": "stream",
     "text": [
      "a\n"
     ]
    },
    {
     "data": {
      "text/plain": [
       "0.5830206378986866"
      ]
     },
     "execution_count": 13,
     "metadata": {},
     "output_type": "execute_result"
    }
   ],
   "source": [
    "import pandas as pd\n",
    "import numpy as np\n",
    "import matplotlib.pyplot as plt\n",
    "\n",
    "from sklearn.model_selection import train_test_split\n",
    "from sklearn.neighbors import KNeighborsClassifier\n",
    "\n",
    "\n",
    "list=pd.read_csv('dataset.csv')\n",
    "X=list[['Honk_duration','RMS','Intersection density','WiFi density']].values\n",
    "Y=list['Class'].values\n",
    "\n",
    "X_d=pd.DataFrame(X)\n",
    "Y_d=pd.DataFrame(Y)\n",
    "Y_d_2=pd.get_dummies(Y_d)\n",
    "X_train, X_test, y_train, y_test = train_test_split(X_d,Y_d_2,test_size=0.4,random_state=42)\n",
    "\n",
    "knn=KNeighborsClassifier(n_neighbors=11,weights='distance')\n",
    "knn.fit(X_train,y_train)\n",
    "#knn.score(X_train,y_train)\n",
    "print(\"a\")\n",
    "knn.score(X_test,y_test)"
   ]
  },
  {
   "cell_type": "code",
   "execution_count": 14,
   "metadata": {},
   "outputs": [
    {
     "name": "stdout",
     "output_type": "stream",
     "text": [
      "a\n"
     ]
    },
    {
     "data": {
      "text/plain": [
       "0.5806754221388368"
      ]
     },
     "execution_count": 14,
     "metadata": {},
     "output_type": "execute_result"
    }
   ],
   "source": [
    "import pandas as pd\n",
    "import numpy as np\n",
    "import matplotlib.pyplot as plt\n",
    "\n",
    "from sklearn.model_selection import train_test_split\n",
    "from sklearn.neighbors import KNeighborsClassifier\n",
    "\n",
    "\n",
    "list=pd.read_csv('dataset.csv')\n",
    "X=list[['Honk_duration','RMS','Intersection density','WiFi density']].values\n",
    "Y=list['Class'].values\n",
    "\n",
    "X_d=pd.DataFrame(X)\n",
    "Y_d=pd.DataFrame(Y)\n",
    "Y_d_2=pd.get_dummies(Y_d)\n",
    "X_train, X_test, y_train, y_test = train_test_split(X_d,Y_d_2,test_size=0.4,random_state=42)\n",
    "\n",
    "knn=KNeighborsClassifier(n_neighbors=14,weights='distance')\n",
    "knn.fit(X_train,y_train)\n",
    "#knn.score(X_train,y_train)\n",
    "print(\"a\")\n",
    "knn.score(X_test,y_test)"
   ]
  },
  {
   "cell_type": "code",
   "execution_count": 15,
   "metadata": {},
   "outputs": [
    {
     "name": "stdout",
     "output_type": "stream",
     "text": [
      "a\n"
     ]
    },
    {
     "data": {
      "text/plain": [
       "0.5802063789868668"
      ]
     },
     "execution_count": 15,
     "metadata": {},
     "output_type": "execute_result"
    }
   ],
   "source": [
    "import pandas as pd\n",
    "import numpy as np\n",
    "import matplotlib.pyplot as plt\n",
    "\n",
    "from sklearn.model_selection import train_test_split\n",
    "from sklearn.neighbors import KNeighborsClassifier\n",
    "\n",
    "\n",
    "list=pd.read_csv('dataset.csv')\n",
    "X=list[['Honk_duration','RMS','Intersection density','WiFi density']].values\n",
    "Y=list['Class'].values\n",
    "\n",
    "X_d=pd.DataFrame(X)\n",
    "Y_d=pd.DataFrame(Y)\n",
    "Y_d_2=pd.get_dummies(Y_d)\n",
    "X_train, X_test, y_train, y_test = train_test_split(X_d,Y_d_2,test_size=0.4,random_state=42)\n",
    "\n",
    "knn=KNeighborsClassifier(n_neighbors=13,weights='distance')\n",
    "knn.fit(X_train,y_train)\n",
    "#knn.score(X_train,y_train)\n",
    "print(\"a\")\n",
    "knn.score(X_test,y_test)"
   ]
  },
  {
   "cell_type": "code",
   "execution_count": 16,
   "metadata": {},
   "outputs": [
    {
     "name": "stdout",
     "output_type": "stream",
     "text": [
      "a\n"
     ]
    },
    {
     "data": {
      "text/plain": [
       "0.5773921200750469"
      ]
     },
     "execution_count": 16,
     "metadata": {},
     "output_type": "execute_result"
    }
   ],
   "source": [
    "import pandas as pd\n",
    "import numpy as np\n",
    "import matplotlib.pyplot as plt\n",
    "\n",
    "from sklearn.model_selection import train_test_split\n",
    "from sklearn.neighbors import KNeighborsClassifier\n",
    "\n",
    "\n",
    "list=pd.read_csv('dataset.csv')\n",
    "X=list[['Honk_duration','RMS','Intersection density','WiFi density']].values\n",
    "Y=list['Class'].values\n",
    "\n",
    "X_d=pd.DataFrame(X)\n",
    "Y_d=pd.DataFrame(Y)\n",
    "Y_d_2=pd.get_dummies(Y_d)\n",
    "X_train, X_test, y_train, y_test = train_test_split(X_d,Y_d_2,test_size=0.4,random_state=42)\n",
    "\n",
    "knn=KNeighborsClassifier(n_neighbors=8,weights='distance')\n",
    "knn.fit(X_train,y_train)\n",
    "#knn.score(X_train,y_train)\n",
    "print(\"a\")\n",
    "knn.score(X_test,y_test)"
   ]
  },
  {
   "cell_type": "code",
   "execution_count": 17,
   "metadata": {},
   "outputs": [
    {
     "name": "stdout",
     "output_type": "stream",
     "text": [
      "a\n"
     ]
    },
    {
     "data": {
      "text/plain": [
       "0.549249530956848"
      ]
     },
     "execution_count": 17,
     "metadata": {},
     "output_type": "execute_result"
    }
   ],
   "source": [
    "import pandas as pd\n",
    "import numpy as np\n",
    "import matplotlib.pyplot as plt\n",
    "\n",
    "from sklearn.model_selection import train_test_split\n",
    "from sklearn.neighbors import KNeighborsClassifier\n",
    "\n",
    "\n",
    "list=pd.read_csv('dataset.csv')\n",
    "X=list[['RMS','Intersection density','WiFi density']].values\n",
    "Y=list['Class'].values\n",
    "\n",
    "X_d=pd.DataFrame(X)\n",
    "Y_d=pd.DataFrame(Y)\n",
    "Y_d_2=pd.get_dummies(Y_d)\n",
    "X_train, X_test, y_train, y_test = train_test_split(X_d,Y_d_2,test_size=0.4,random_state=42)\n",
    "\n",
    "knn=KNeighborsClassifier(n_neighbors=8,weights='distance')\n",
    "knn.fit(X_train,y_train)\n",
    "#knn.score(X_train,y_train)\n",
    "print(\"a\")\n",
    "knn.score(X_test,y_test)"
   ]
  },
  {
   "cell_type": "code",
   "execution_count": 18,
   "metadata": {},
   "outputs": [
    {
     "name": "stdout",
     "output_type": "stream",
     "text": [
      "a\n"
     ]
    },
    {
     "data": {
      "text/plain": [
       "0.5539399624765479"
      ]
     },
     "execution_count": 18,
     "metadata": {},
     "output_type": "execute_result"
    }
   ],
   "source": [
    "import pandas as pd\n",
    "import numpy as np\n",
    "import matplotlib.pyplot as plt\n",
    "\n",
    "from sklearn.model_selection import train_test_split\n",
    "from sklearn.neighbors import KNeighborsClassifier\n",
    "\n",
    "\n",
    "list=pd.read_csv('dataset.csv')\n",
    "X=list[['RMS','Intersection density','WiFi density']].values\n",
    "Y=list['Class'].values\n",
    "\n",
    "X_d=pd.DataFrame(X)\n",
    "Y_d=pd.DataFrame(Y)\n",
    "Y_d_2=pd.get_dummies(Y_d)\n",
    "X_train, X_test, y_train, y_test = train_test_split(X_d,Y_d_2,test_size=0.4,random_state=42)\n",
    "\n",
    "knn=KNeighborsClassifier(n_neighbors=11,weights='distance')\n",
    "knn.fit(X_train,y_train)\n",
    "#knn.score(X_train,y_train)\n",
    "print(\"a\")\n",
    "knn.score(X_test,y_test)"
   ]
  },
  {
   "cell_type": "code",
   "execution_count": 19,
   "metadata": {},
   "outputs": [
    {
     "name": "stdout",
     "output_type": "stream",
     "text": [
      "a\n"
     ]
    },
    {
     "data": {
      "text/plain": [
       "0.549718574108818"
      ]
     },
     "execution_count": 19,
     "metadata": {},
     "output_type": "execute_result"
    }
   ],
   "source": [
    "import pandas as pd\n",
    "import numpy as np\n",
    "import matplotlib.pyplot as plt\n",
    "\n",
    "from sklearn.model_selection import train_test_split\n",
    "from sklearn.neighbors import KNeighborsClassifier\n",
    "\n",
    "\n",
    "list=pd.read_csv('dataset.csv')\n",
    "X=list[['RMS','Intersection density','WiFi density']].values\n",
    "Y=list['Class'].values\n",
    "\n",
    "X_d=pd.DataFrame(X)\n",
    "Y_d=pd.DataFrame(Y)\n",
    "Y_d_2=pd.get_dummies(Y_d)\n",
    "X_train, X_test, y_train, y_test = train_test_split(X_d,Y_d_2,test_size=0.4,random_state=42)\n",
    "\n",
    "knn=KNeighborsClassifier(n_neighbors=11)\n",
    "knn.fit(X_train,y_train)\n",
    "#knn.score(X_train,y_train)\n",
    "print(\"a\")\n",
    "knn.score(X_test,y_test)"
   ]
  },
  {
   "cell_type": "code",
   "execution_count": 20,
   "metadata": {},
   "outputs": [
    {
     "name": "stdout",
     "output_type": "stream",
     "text": [
      "a\n"
     ]
    },
    {
     "data": {
      "text/plain": [
       "0.42870544090056284"
      ]
     },
     "execution_count": 20,
     "metadata": {},
     "output_type": "execute_result"
    }
   ],
   "source": [
    "import pandas as pd\n",
    "import numpy as np\n",
    "import matplotlib.pyplot as plt\n",
    "\n",
    "from sklearn.model_selection import train_test_split\n",
    "from sklearn.neighbors import KNeighborsClassifier\n",
    "\n",
    "\n",
    "list=pd.read_csv('dataset.csv')\n",
    "X=list[['RMS','Intersection density','WiFi density']].values\n",
    "Y=list['Class'].values\n",
    "\n",
    "X_d=pd.DataFrame(X)\n",
    "Y_d=pd.DataFrame(Y)\n",
    "Y_d_2=pd.get_dummies(Y_d)\n",
    "X_train, X_test, y_train, y_test = train_test_split(X_d,Y_d_2,test_size=0.4,random_state=42)\n",
    "\n",
    "knn=KNeighborsClassifier(n_neighbors=6)\n",
    "knn.fit(X_train,y_train)\n",
    "#knn.score(X_train,y_train)\n",
    "print(\"a\")\n",
    "knn.score(X_test,y_test)"
   ]
  },
  {
   "cell_type": "code",
   "execution_count": 21,
   "metadata": {},
   "outputs": [
    {
     "name": "stdout",
     "output_type": "stream",
     "text": [
      "a\n"
     ]
    },
    {
     "data": {
      "text/plain": [
       "0.5093808630393997"
      ]
     },
     "execution_count": 21,
     "metadata": {},
     "output_type": "execute_result"
    }
   ],
   "source": [
    "import pandas as pd\n",
    "import numpy as np\n",
    "import matplotlib.pyplot as plt\n",
    "\n",
    "from sklearn.model_selection import train_test_split\n",
    "from sklearn.neighbors import KNeighborsClassifier\n",
    "\n",
    "\n",
    "list=pd.read_csv('dataset.csv')\n",
    "X=list[['RMS','Intersection density','WiFi density']].values\n",
    "Y=list['Class'].values\n",
    "\n",
    "X_d=pd.DataFrame(X)\n",
    "Y_d=pd.DataFrame(Y)\n",
    "Y_d_2=pd.get_dummies(Y_d)\n",
    "X_train, X_test, y_train, y_test = train_test_split(X_d,Y_d_2,test_size=0.4,random_state=42)\n",
    "\n",
    "knn=KNeighborsClassifier(n_neighbors=14)\n",
    "knn.fit(X_train,y_train)\n",
    "#knn.score(X_train,y_train)\n",
    "print(\"a\")\n",
    "knn.score(X_test,y_test)"
   ]
  },
  {
   "cell_type": "code",
   "execution_count": 22,
   "metadata": {},
   "outputs": [
    {
     "data": {
      "image/png": "[encoded data removed]",
      "text/plain": [
       "<matplotlib.figure.Figure at 0x7f02111e3400>"
      ]
     },
     "metadata": {
      "needs_background": "light"
     },
     "output_type": "display_data"
    }
   ],
   "source": [
    "import numpy as np\n",
    "import pandas as pd\n",
    "import matplotlib.pyplot as pyplot\n",
    "from sklearn.model_selection import train_test_split\n",
    "from sklearn.neighbors import KNeighborsClassifier\n",
    "road=pd.read_csv('dataset.csv')\n",
    "\n",
    "road.head()\n",
    "'''road_lookup=road.Zone.unique()'''\n",
    "X=road[['Segment_length','WiFi count','Honk_duration','RMS']]\n",
    "y=road['Class']\n",
    "\n",
    "X_train,X_test,y_train,y_test=train_test_split(X,y,random_state=0)\n",
    "'''knn=KNeighborsClassifier(n_neighbors=5)\n",
    "knn.fit(X_train,y_train) \n",
    "knn.score(X_test,y_test)\n",
    "road_prediction=knn.predict([[181.365898,5,0,6.35698]])\n",
    "road_lookup[road_prediction[0]]'''\n",
    "k_range=np.arange(1,101)\n",
    "train_accuracy=np.empty(len(k_range))\n",
    "test_accuracy=np.empty(len(k_range))\n",
    "for i,k in enumerate(k_range):\n",
    "\tknn=KNeighborsClassifier(n_neighbors=k)\n",
    "\tknn.fit(X_train,y_train)\n",
    "\ttrain_accuracy[i]=knn.score(X_train,y_train)\n",
    "\ttest_accuracy[i]=knn.score(X_test,y_test)\n",
    "plt.title('k-NN: Varying Number of Neighbors')\n",
    "plt.plot(k_range, test_accurac-y, label = 'Testing Accuracy')\n",
    "plt.plot(k_range, train_accuracy, label = 'Training Accuracy')\n",
    "plt.legend()\n",
    "plt.xlabel('Number of Neighbors')\n",
    "plt.ylabel('Accuracy')\n",
    "plt.xticks(np.arange(0,105,5))\n",
    "plt.show()\n"
   ]
  },
  {
   "cell_type": "code",
   "execution_count": 24,
   "metadata": {},
   "outputs": [
    {
     "data": {
      "image/png": "[encoded data removed]",
      "text/plain": [
       "<matplotlib.figure.Figure at 0x7f0211e4c390>"
      ]
     },
     "metadata": {
      "needs_background": "light"
     },
     "output_type": "display_data"
    }
   ],
   "source": [
    "import numpy as np\n",
    "import pandas as pd\n",
    "import matplotlib.pyplot as pyplot\n",
    "from sklearn.model_selection import train_test_split\n",
    "from sklearn.neighbors import KNeighborsClassifier\n",
    "road=pd.read_csv('dataset.csv')\n",
    "\n",
    "road.head()\n",
    "'''road_lookup=road.Zone.unique()'''\n",
    "X=road[['Intersection density','WiFi density','Honk_duration','RMS']]\n",
    "y=road['Class']\n",
    "\n",
    "X_train,X_test,y_train,y_test=train_test_split(X,y,random_state=0)\n",
    "'''knn=KNeighborsClassifier(n_neighbors=5)\n",
    "knn.fit(X_train,y_train) \n",
    "knn.score(X_test,y_test)\n",
    "road_prediction=knn.predict([[181.365898,5,0,6.35698]])\n",
    "road_lookup[road_prediction[0]]'''\n",
    "k_range=np.arange(1,101)\n",
    "train_accuracy=np.empty(len(k_range))\n",
    "test_accuracy=np.empty(len(k_range))\n",
    "for i,k in enumerate(k_range):\n",
    "\tknn=KNeighborsClassifier(n_neighbors=k)\n",
    "\tknn.fit(X_train,y_train)\n",
    "\ttrain_accuracy[i]=knn.score(X_train,y_train)\n",
    "\ttest_accuracy[i]=knn.score(X_test,y_test)\n",
    "plt.title('k-NN: Varying Number of Neighbors')\n",
    "plt.plot(k_range, test_accuracy, label = 'Testing Accuracy')\n",
    "plt.plot(k_range, train_accuracy, label = 'Training Accuracy')\n",
    "plt.legend()\n",
    "plt.xlabel('Number of Neighbors')\n",
    "plt.ylabel('Accuracy')\n",
    "plt.xticks(np.arange(0,105,5))\n",
    "plt.show()\n"
   ]
  },
  {
   "cell_type": "code",
   "execution_count": 26,
   "metadata": {},
   "outputs": [
    {
     "data": {
      "image/png": "[encoded data removed]",
      "text/plain": [
       "<matplotlib.figure.Figure at 0x7f02109df710>"
      ]
     },
     "metadata": {
      "needs_background": "light"
     },
     "output_type": "display_data"
    }
   ],
   "source": [
    "import numpy as np\n",
    "import pandas as pd\n",
    "import matplotlib.pyplot as pyplot\n",
    "from sklearn.model_selection import train_test_split\n",
    "from sklearn.neighbors import KNeighborsClassifier\n",
    "road=pd.read_csv('dataset.csv')\n",
    "\n",
    "road.head()\n",
    "'''road_lookup=road.Zone.unique()'''\n",
    "X=road[['Intersection density','WiFi density','Honk_duration','RMS']]\n",
    "y=road['Class']\n",
    "\n",
    "X_train,X_test,y_train,y_test=train_test_split(X,y,random_state=0)\n",
    "'''knn=KNeighborsClassifier(n_neighbors=5)\n",
    "knn.fit(X_train,y_train) \n",
    "knn.score(X_test,y_test)\n",
    "road_prediction=knn.predict([[181.365898,5,0,6.35698]])\n",
    "road_lookup[road_prediction[0]]'''\n",
    "k_range=np.arange(1,101)\n",
    "train_accuracy=np.empty(len(k_range))\n",
    "test_accuracy=np.empty(len(k_range))\n",
    "for i,k in enumerate(k_range):\n",
    "\tknn=KNeighborsClassifier(n_neighbors=k,weights='distance')\n",
    "\tknn.fit(X_train,y_train)\n",
    "\ttrain_accuracy[i]=knn.score(X_train,y_train)\n",
    "\ttest_accuracy[i]=knn.score(X_test,y_test)\n",
    "plt.title('k-NN: Varying Number of Neighbors')\n",
    "plt.plot(k_range, test_accuracy, label = 'Testing Accuracy')\n",
    "plt.plot(k_range, train_accuracy, label = 'Training Accuracy')\n",
    "plt.legend()\n",
    "plt.xlabel('Number of Neighbors')\n",
    "plt.ylabel('Accuracy')\n",
    "plt.xticks(np.arange(0,105,5))\n",
    "plt.show()\n"
   ]
  },
  {
   "cell_type": "code",
   "execution_count": 27,
   "metadata": {},
   "outputs": [
    {
     "name": "stdout",
     "output_type": "stream",
     "text": [
      "[[254 244   4  50]\n",
      " [269 896  31  37]\n",
      " [ 15 101  53   0]\n",
      " [ 57  22   1  98]]\n",
      "              precision    recall  f1-score   support\n",
      "\n",
      "        Fast       0.43      0.46      0.44       552\n",
      "      Normal       0.71      0.73      0.72      1233\n",
      "        Slow       0.60      0.31      0.41       169\n",
      "   Very Fast       0.53      0.55      0.54       178\n",
      "\n",
      "   micro avg       0.61      0.61      0.61      2132\n",
      "   macro avg       0.57      0.51      0.53      2132\n",
      "weighted avg       0.61      0.61      0.61      2132\n",
      "\n"
     ]
    }
   ],
   "source": [
    "from sklearn.metrics import classification_report\n",
    "from sklearn.metrics import confusion_matrix\n",
    "from sklearn.neighbors import KNeighborsClassifier\n",
    "import pandas as pd\n",
    "# Create training and test set\n",
    "X_train, X_test, y_train, y_test = train_test_split(X,y,test_size=0.4,random_state=42)\n",
    "# Instantiate a k-NN classifier: knn\n",
    "\n",
    "list=pd.read_csv('dataset.csv')\n",
    "x=['Honk_duration','RMS','Intersection density','WiFi density']\n",
    "X=list[['Honk_duration','RMS','Intersection density','WiFi density']].values\n",
    "X_d=pd.DataFrame(X)\n",
    "Y=list['Class'].values\n",
    "Y_d=pd.DataFrame(Y)\n",
    "Y_d_2=pd.get_dummies(Y_d)\n",
    "knn = KNeighborsClassifier(n_neighbors=6)\n",
    "\n",
    "# Fit the classifier to the training data\n",
    "knn.fit(X_train,y_train)\n",
    "\n",
    "# Predict the labels of the test data: y_pred\n",
    "y_pred = knn.predict(X_test)\n",
    "\n",
    "# Generate the confusion matrix and classification report\n",
    "print(confusion_matrix(y_test,y_pred))\n",
    "print(classification_report(y_test,y_pred))"
   ]
  },
  {
   "cell_type": "code",
   "execution_count": 28,
   "metadata": {},
   "outputs": [
    {
     "name": "stdout",
     "output_type": "stream",
     "text": [
      "[[220 279   5  48]\n",
      " [186 970  39  38]\n",
      " [ 10 103  56   0]\n",
      " [ 56  21   1 100]]\n",
      "              precision    recall  f1-score   support\n",
      "\n",
      "        Fast       0.47      0.40      0.43       552\n",
      "      Normal       0.71      0.79      0.74      1233\n",
      "        Slow       0.55      0.33      0.41       169\n",
      "   Very Fast       0.54      0.56      0.55       178\n",
      "\n",
      "   micro avg       0.63      0.63      0.63      2132\n",
      "   macro avg       0.57      0.52      0.53      2132\n",
      "weighted avg       0.62      0.63      0.62      2132\n",
      "\n"
     ]
    }
   ],
   "source": [
    "from sklearn.metrics import classification_report\n",
    "from sklearn.metrics import confusion_matrix\n",
    "from sklearn.neighbors import KNeighborsClassifier\n",
    "import pandas as pd\n",
    "# Create training and test set\n",
    "X_train, X_test, y_train, y_test = train_test_split(X,y,test_size=0.4,random_state=42)\n",
    "# Instantiate a k-NN classifier: knn\n",
    "\n",
    "list=pd.read_csv('dataset.csv')\n",
    "x=['Honk_duration','RMS','Intersection density','WiFi density']\n",
    "X=list[['Honk_duration','RMS','Intersection density','WiFi density']].values\n",
    "X_d=pd.DataFrame(X)\n",
    "Y=list['Class'].values\n",
    "Y_d=pd.DataFrame(Y)\n",
    "Y_d_2=pd.get_dummies(Y_d)\n",
    "knn = KNeighborsClassifier(n_neighbors=11)\n",
    "\n",
    "# Fit the classifier to the training data\n",
    "knn.fit(X_train,y_train)\n",
    "\n",
    "# Predict the labels of the test data: y_pred\n",
    "y_pred = knn.predict(X_test)\n",
    "\n",
    "# Generate the confusion matrix and classification report\n",
    "print(confusion_matrix(y_test,y_pred))\n",
    "print(classification_report(y_test,y_pred))"
   ]
  },
  {
   "cell_type": "code",
   "execution_count": 29,
   "metadata": {},
   "outputs": [
    {
     "name": "stdout",
     "output_type": "stream",
     "text": [
      "[[236 264   3  49]\n",
      " [228 928  38  39]\n",
      " [ 10 107  52   0]\n",
      " [ 61  18   1  98]]\n",
      "              precision    recall  f1-score   support\n",
      "\n",
      "        Fast       0.44      0.43      0.43       552\n",
      "      Normal       0.70      0.75      0.73      1233\n",
      "        Slow       0.55      0.31      0.40       169\n",
      "   Very Fast       0.53      0.55      0.54       178\n",
      "\n",
      "   micro avg       0.62      0.62      0.62      2132\n",
      "   macro avg       0.56      0.51      0.52      2132\n",
      "weighted avg       0.61      0.62      0.61      2132\n",
      "\n"
     ]
    }
   ],
   "source": [
    "from sklearn.metrics import classification_report\n",
    "from sklearn.metrics import confusion_matrix\n",
    "from sklearn.neighbors import KNeighborsClassifier\n",
    "import pandas as pd\n",
    "# Create training and test set\n",
    "X_train, X_test, y_train, y_test = train_test_split(X,y,test_size=0.4,random_state=42)\n",
    "# Instantiate a k-NN classifier: knn\n",
    "\n",
    "list=pd.read_csv('dataset.csv')\n",
    "x=['Honk_duration','RMS','Intersection density','WiFi density']\n",
    "X=list[['Honk_duration','RMS','Intersection density','WiFi density']].values\n",
    "X_d=pd.DataFrame(X)\n",
    "Y=list['Class'].values\n",
    "Y_d=pd.DataFrame(Y)\n",
    "Y_d_2=pd.get_dummies(Y_d)\n",
    "knn = KNeighborsClassifier(n_neighbors=10)\n",
    "\n",
    "# Fit the classifier to the training data\n",
    "knn.fit(X_train,y_train)\n",
    "\n",
    "# Predict the labels of the test data: y_pred\n",
    "y_pred = knn.predict(X_test)\n",
    "\n",
    "# Generate the confusion matrix and classification report\n",
    "print(confusion_matrix(y_test,y_pred))\n",
    "print(classification_report(y_test,y_pred))"
   ]
  },
  {
   "cell_type": "code",
   "execution_count": 30,
   "metadata": {},
   "outputs": [
    {
     "name": "stdout",
     "output_type": "stream",
     "text": [
      "[[215 270   9  58]\n",
      " [202 942  47  42]\n",
      " [ 13 100  56   0]\n",
      " [ 52  21   1 104]]\n",
      "              precision    recall  f1-score   support\n",
      "\n",
      "        Fast       0.45      0.39      0.42       552\n",
      "      Normal       0.71      0.76      0.73      1233\n",
      "        Slow       0.50      0.33      0.40       169\n",
      "   Very Fast       0.51      0.58      0.54       178\n",
      "\n",
      "   micro avg       0.62      0.62      0.62      2132\n",
      "   macro avg       0.54      0.52      0.52      2132\n",
      "weighted avg       0.61      0.62      0.61      2132\n",
      "\n"
     ]
    }
   ],
   "source": [
    "from sklearn.metrics import classification_report\n",
    "from sklearn.metrics import confusion_matrix\n",
    "from sklearn.neighbors import KNeighborsClassifier\n",
    "import pandas as pd\n",
    "# Create training and test set\n",
    "X_train, X_test, y_train, y_test = train_test_split(X,y,test_size=0.4,random_state=42)\n",
    "# Instantiate a k-NN classifier: knn\n",
    "\n",
    "list=pd.read_csv('dataset.csv')\n",
    "x=['Honk_duration','RMS','Intersection density','WiFi density']\n",
    "X=list[['Honk_duration','RMS','Intersection density','WiFi density']].values\n",
    "X_d=pd.DataFrame(X)\n",
    "Y=list['Class'].values\n",
    "Y_d=pd.DataFrame(Y)\n",
    "Y_d_2=pd.get_dummies(Y_d)\n",
    "knn = KNeighborsClassifier(n_neighbors=10,weights='distance')\n",
    "\n",
    "# Fit the classifier to the training data\n",
    "knn.fit(X_train,y_train)\n",
    "\n",
    "# Predict the labels of the test data: y_pred\n",
    "y_pred = knn.predict(X_test)\n",
    "\n",
    "# Generate the confusion matrix and classification report\n",
    "print(confusion_matrix(y_test,y_pred))\n",
    "print(classification_report(y_test,y_pred))"
   ]
  },
  {
   "cell_type": "code",
   "execution_count": 31,
   "metadata": {},
   "outputs": [
    {
     "name": "stdout",
     "output_type": "stream",
     "text": [
      "a\n"
     ]
    },
    {
     "data": {
      "text/plain": [
       "0.42870544090056284"
      ]
     },
     "execution_count": 31,
     "metadata": {},
     "output_type": "execute_result"
    }
   ],
   "source": [
    "import pandas as pd\n",
    "import numpy as np\n",
    "import matplotlib.pyplot as plt\n",
    "\n",
    "from sklearn.model_selection import train_test_split\n",
    "from sklearn.neighbors import KNeighborsClassifier\n",
    "\n",
    "\n",
    "list=pd.read_csv('dataset.csv')\n",
    "X=list[['RMS','Intersection density','WiFi density']].values\n",
    "Y=list['Class'].values\n",
    "\n",
    "X_d=pd.DataFrame(X)\n",
    "Y_d=pd.DataFrame(Y)\n",
    "Y_d_2=pd.get_dummies(Y_d)\n",
    "X_train, X_test, y_train, y_test = train_test_split(X_d,Y_d_2,test_size=0.4,random_state=42)\n",
    "\n",
    "knn=KNeighborsClassifier(n_neighbors=6,algorithm='kd_tree')\n",
    "knn.fit(X_train,y_train)\n",
    "#knn.score(X_train,y_train)\n",
    "print(\"a\")\n",
    "knn.score(X_test,y_test)"
   ]
  },
  {
   "cell_type": "code",
   "execution_count": 32,
   "metadata": {},
   "outputs": [
    {
     "name": "stdout",
     "output_type": "stream",
     "text": [
      "a\n"
     ]
    },
    {
     "data": {
      "text/plain": [
       "0.549718574108818"
      ]
     },
     "execution_count": 32,
     "metadata": {},
     "output_type": "execute_result"
    }
   ],
   "source": [
    "import pandas as pd\n",
    "import numpy as np\n",
    "import matplotlib.pyplot as plt\n",
    "\n",
    "from sklearn.model_selection import train_test_split\n",
    "from sklearn.neighbors import KNeighborsClassifier\n",
    "\n",
    "\n",
    "list=pd.read_csv('dataset.csv')\n",
    "X=list[['RMS','Intersection density','WiFi density']].values\n",
    "Y=list['Class'].values\n",
    "\n",
    "X_d=pd.DataFrame(X)\n",
    "Y_d=pd.DataFrame(Y)\n",
    "Y_d_2=pd.get_dummies(Y_d)\n",
    "X_train, X_test, y_train, y_test = train_test_split(X_d,Y_d_2,test_size=0.4,random_state=42)\n",
    "\n",
    "knn=KNeighborsClassifier(n_neighbors=11,algorithm='kd_tree')\n",
    "knn.fit(X_train,y_train)\n",
    "#knn.score(X_train,y_train)\n",
    "print(\"a\")\n",
    "knn.score(X_test,y_test)"
   ]
  },
  {
   "cell_type": "code",
   "execution_count": 33,
   "metadata": {},
   "outputs": [
    {
     "name": "stdout",
     "output_type": "stream",
     "text": [
      "a\n"
     ]
    },
    {
     "data": {
      "text/plain": [
       "0.549718574108818"
      ]
     },
     "execution_count": 33,
     "metadata": {},
     "output_type": "execute_result"
    }
   ],
   "source": [
    "import pandas as pd\n",
    "import numpy as np\n",
    "import matplotlib.pyplot as plt\n",
    "\n",
    "from sklearn.model_selection import train_test_split\n",
    "from sklearn.neighbors import KNeighborsClassifier\n",
    "\n",
    "\n",
    "list=pd.read_csv('dataset.csv')\n",
    "X=list[['RMS','Intersection density','WiFi density']].values\n",
    "Y=list['Class'].values\n",
    "\n",
    "X_d=pd.DataFrame(X)\n",
    "Y_d=pd.DataFrame(Y)\n",
    "Y_d_2=pd.get_dummies(Y_d)\n",
    "X_train, X_test, y_train, y_test = train_test_split(X_d,Y_d_2,test_size=0.4,random_state=42)\n",
    "\n",
    "knn=KNeighborsClassifier(n_neighbors=11,algorithm='ball_tree')\n",
    "knn.fit(X_train,y_train)\n",
    "#knn.score(X_train,y_train)\n",
    "print(\"a\")\n",
    "knn.score(X_test,y_test)"
   ]
  },
  {
   "cell_type": "code",
   "execution_count": 36,
   "metadata": {},
   "outputs": [
    {
     "name": "stdout",
     "output_type": "stream",
     "text": [
      "a\n"
     ]
    },
    {
     "data": {
      "text/plain": [
       "0.5844277673545967"
      ]
     },
     "execution_count": 36,
     "metadata": {},
     "output_type": "execute_result"
    }
   ],
   "source": [
    "import pandas as pd\n",
    "import numpy as np\n",
    "import matplotlib.pyplot as plt\n",
    "\n",
    "from sklearn.model_selection import train_test_split\n",
    "from sklearn.neighbors import KNeighborsClassifier\n",
    "\n",
    "\n",
    "list=pd.read_csv('dataset.csv')\n",
    "X=list[['RMS','Intersection density','WiFi density','Honk_duration']].values\n",
    "Y=list['Class'].values\n",
    "\n",
    "X_d=pd.DataFrame(X)\n",
    "Y_d=pd.DataFrame(Y)\n",
    "Y_d_2=pd.get_dummies(Y_d)\n",
    "X_train, X_test, y_train, y_test = train_test_split(X_d,Y_d_2,test_size=0.4,random_state=42)\n",
    "\n",
    "knn=KNeighborsClassifier(n_neighbors=11,algorithm='ball_tree')\n",
    "knn.fit(X_train,y_train)\n",
    "#knn.score(X_train,y_train)\n",
    "print(\"a\")\n",
    "knn.score(X_test,y_test)"
   ]
  },
  {
   "cell_type": "code",
   "execution_count": 37,
   "metadata": {},
   "outputs": [
    {
     "name": "stdout",
     "output_type": "stream",
     "text": [
      "a\n"
     ]
    },
    {
     "data": {
      "text/plain": [
       "0.5844277673545967"
      ]
     },
     "execution_count": 37,
     "metadata": {},
     "output_type": "execute_result"
    }
   ],
   "source": [
    "import pandas as pd\n",
    "import numpy as np\n",
    "import matplotlib.pyplot as plt\n",
    "\n",
    "from sklearn.model_selection import train_test_split\n",
    "from sklearn.neighbors import KNeighborsClassifier\n",
    "\n",
    "\n",
    "list=pd.read_csv('dataset.csv')\n",
    "X=list[['RMS','Intersection density','WiFi density','Honk_duration']].values\n",
    "Y=list['Class'].values\n",
    "\n",
    "X_d=pd.DataFrame(X)\n",
    "Y_d=pd.DataFrame(Y)\n",
    "Y_d_2=pd.get_dummies(Y_d)\n",
    "X_train, X_test, y_train, y_test = train_test_split(X_d,Y_d_2,test_size=0.4,random_state=42)\n",
    "\n",
    "knn=KNeighborsClassifier(n_neighbors=11,algorithm='kd_tree')\n",
    "knn.fit(X_train,y_train)\n",
    "#knn.score(X_train,y_train)\n",
    "print(\"a\")\n",
    "knn.score(X_test,y_test)"
   ]
  },
  {
   "cell_type": "code",
   "execution_count": 38,
   "metadata": {},
   "outputs": [
    {
     "name": "stdout",
     "output_type": "stream",
     "text": [
      "a\n"
     ]
    }
   ],
   "source": [
    "import pandas as pd\n",
    "import numpy as np\n",
    "import matplotlib.pyplot as plt\n",
    "\n",
    "from sklearn.model_selection import train_test_split\n",
    "from sklearn.neighbors import KNeighborsClassifier\n",
    "\n",
    "\n",
    "list=pd.read_csv('dataset.csv')\n",
    "X=list[['RMS','Intersection density','WiFi density','Honk_duration']].values\n",
    "Y=list['Class'].values\n",
    "\n",
    "X_d=pd.DataFrame(X)\n",
    "Y_d=pd.DataFrame(Y)\n",
    "Y_d_2=pd.get_dummies(Y_d)\n",
    "X_train, X_test, y_train, y_test = train_test_split(X_d,Y_d_2,test_size=0.4,random_state=42)\n",
    "\n",
    "knn=KNeighborsClassifier(n_neighbors=11,algorithm='kd_tree')\n",
    "knn.fit(X_train,y_train)\n",
    "knn.score(X_train,y_train)\n",
    "print(\"a\")\n",
    "#knn.score(X_test,y_test)"
   ]
  },
  {
   "cell_type": "code",
   "execution_count": 39,
   "metadata": {},
   "outputs": [
    {
     "name": "stdout",
     "output_type": "stream",
     "text": [
      "a\n"
     ]
    },
    {
     "data": {
      "text/plain": [
       "0.5811444652908068"
      ]
     },
     "execution_count": 39,
     "metadata": {},
     "output_type": "execute_result"
    }
   ],
   "source": [
    "import pandas as pd\n",
    "import numpy as np\n",
    "import matplotlib.pyplot as plt\n",
    "\n",
    "from sklearn.model_selection import train_test_split\n",
    "from sklearn.neighbors import KNeighborsClassifier\n",
    "\n",
    "\n",
    "list=pd.read_csv('dataset.csv')\n",
    "X=list[['RMS','Intersection density','WiFi count','Honk_duration']].values\n",
    "Y=list['Class'].values\n",
    "\n",
    "X_d=pd.DataFrame(X)\n",
    "Y_d=pd.DataFrame(Y)\n",
    "Y_d_2=pd.get_dummies(Y_d)\n",
    "X_train, X_test, y_train, y_test = train_test_split(X_d,Y_d_2,test_size=0.4,random_state=42)\n",
    "\n",
    "knn=KNeighborsClassifier(n_neighbors=11,algorithm='kd_tree')\n",
    "knn.fit(X_train,y_train)\n",
    "#knn.score(X_train,y_train)\n",
    "print(\"a\")\n",
    "knn.score(X_test,y_test)"
   ]
  },
  {
   "cell_type": "code",
   "execution_count": 40,
   "metadata": {},
   "outputs": [
    {
     "name": "stdout",
     "output_type": "stream",
     "text": [
      "a\n"
     ]
    },
    {
     "data": {
      "text/plain": [
       "0.6355534709193246"
      ]
     },
     "execution_count": 40,
     "metadata": {},
     "output_type": "execute_result"
    }
   ],
   "source": [
    "import pandas as pd\n",
    "import numpy as np\n",
    "import matplotlib.pyplot as plt\n",
    "\n",
    "from sklearn.model_selection import train_test_split\n",
    "from sklearn.neighbors import KNeighborsClassifier\n",
    "\n",
    "\n",
    "list=pd.read_csv('dataset.csv')\n",
    "X=list[['RMS','Intersection count','WiFi count','Honk_duration']].values\n",
    "Y=list['Class'].values\n",
    "\n",
    "X_d=pd.DataFrame(X)\n",
    "Y_d=pd.DataFrame(Y)\n",
    "Y_d_2=pd.get_dummies(Y_d)\n",
    "X_train, X_test, y_train, y_test = train_test_split(X_d,Y_d_2,test_size=0.4,random_state=42)\n",
    "\n",
    "knn=KNeighborsClassifier(n_neighbors=11,algorithm='kd_tree')\n",
    "knn.fit(X_train,y_train)\n",
    "#knn.score(X_train,y_train)\n",
    "print(\"a\")\n",
    "knn.score(X_test,y_test)"
   ]
  },
  {
   "cell_type": "code",
   "execution_count": 41,
   "metadata": {},
   "outputs": [
    {
     "name": "stdout",
     "output_type": "stream",
     "text": [
      "a\n"
     ]
    },
    {
     "data": {
      "text/plain": [
       "0.5708255159474672"
      ]
     },
     "execution_count": 41,
     "metadata": {},
     "output_type": "execute_result"
    }
   ],
   "source": [
    "import pandas as pd\n",
    "import numpy as np\n",
    "import matplotlib.pyplot as plt\n",
    "\n",
    "from sklearn.model_selection import train_test_split\n",
    "from sklearn.neighbors import KNeighborsClassifier\n",
    "\n",
    "\n",
    "list=pd.read_csv('dataset.csv')\n",
    "X=list[['Intersection count','WiFi count','Honk_duration']].values\n",
    "Y=list['Class'].values\n",
    "\n",
    "X_d=pd.DataFrame(X)\n",
    "Y_d=pd.DataFrame(Y)\n",
    "Y_d_2=pd.get_dummies(Y_d)\n",
    "X_train, X_test, y_train, y_test = train_test_split(X_d,Y_d_2,test_size=0.4,random_state=42)\n",
    "\n",
    "knn=KNeighborsClassifier(n_neighbors=11,algorithm='kd_tree')\n",
    "knn.fit(X_train,y_train)\n",
    "#knn.score(X_train,y_train)\n",
    "print(\"a\")\n",
    "knn.score(X_test,y_test)"
   ]
  },
  {
   "cell_type": "code",
   "execution_count": 42,
   "metadata": {},
   "outputs": [
    {
     "name": "stdout",
     "output_type": "stream",
     "text": [
      "a\n"
     ]
    },
    {
     "data": {
      "text/plain": [
       "0.6355534709193246"
      ]
     },
     "execution_count": 42,
     "metadata": {},
     "output_type": "execute_result"
    }
   ],
   "source": [
    "import pandas as pd\n",
    "import numpy as np\n",
    "import matplotlib.pyplot as plt\n",
    "\n",
    "from sklearn.model_selection import train_test_split\n",
    "from sklearn.neighbors import KNeighborsClassifier\n",
    "\n",
    "\n",
    "list=pd.read_csv('dataset.csv')\n",
    "X=list[['RMS','Intersection count','WiFi count','Honk_duration']].values\n",
    "Y=list['Class'].values\n",
    "\n",
    "X_d=pd.DataFrame(X)\n",
    "Y_d=pd.DataFrame(Y)\n",
    "Y_d_2=pd.get_dummies(Y_d)\n",
    "X_train, X_test, y_train, y_test = train_test_split(X_d,Y_d_2,test_size=0.4,random_state=42)\n",
    "\n",
    "knn=KNeighborsClassifier(n_neighbors=11,algorithm='ball_tree')\n",
    "knn.fit(X_train,y_train)\n",
    "#knn.score(X_train,y_train)\n",
    "print(\"a\")\n",
    "knn.score(X_test,y_test)"
   ]
  },
  {
   "cell_type": "code",
   "execution_count": 43,
   "metadata": {},
   "outputs": [
    {
     "name": "stdout",
     "output_type": "stream",
     "text": [
      "a\n"
     ]
    },
    {
     "data": {
      "text/plain": [
       "0.6355534709193246"
      ]
     },
     "execution_count": 43,
     "metadata": {},
     "output_type": "execute_result"
    }
   ],
   "source": [
    "import pandas as pd\n",
    "import numpy as np\n",
    "import matplotlib.pyplot as plt\n",
    "\n",
    "from sklearn.model_selection import train_test_split\n",
    "from sklearn.neighbors import KNeighborsClassifier\n",
    "\n",
    "\n",
    "list=pd.read_csv('dataset.csv')\n",
    "X=list[['RMS','Intersection count','WiFi count','Honk_duration']].values\n",
    "Y=list['Class'].values\n",
    "\n",
    "X_d=pd.DataFrame(X)\n",
    "Y_d=pd.DataFrame(Y)\n",
    "Y_d_2=pd.get_dummies(Y_d)\n",
    "X_train, X_test, y_train, y_test = train_test_split(X_d,Y_d_2,test_size=0.4,random_state=42)\n",
    "\n",
    "knn=KNeighborsClassifier(n_neighbors=11)\n",
    "knn.fit(X_train,y_train)\n",
    "#knn.score(X_train,y_train)\n",
    "print(\"a\")\n",
    "knn.score(X_test,y_test)"
   ]
  },
  {
   "cell_type": "code",
   "execution_count": 44,
   "metadata": {},
   "outputs": [
    {
     "name": "stdout",
     "output_type": "stream",
     "text": [
      "a\n"
     ]
    },
    {
     "data": {
      "text/plain": [
       "0.573170731707317"
      ]
     },
     "execution_count": 44,
     "metadata": {},
     "output_type": "execute_result"
    }
   ],
   "source": [
    "import pandas as pd\n",
    "import numpy as np\n",
    "import matplotlib.pyplot as plt\n",
    "\n",
    "from sklearn.model_selection import train_test_split\n",
    "from sklearn.neighbors import KNeighborsClassifier\n",
    "\n",
    "\n",
    "list=pd.read_csv('dataset.csv')\n",
    "X=list[['RMS','Intersection count','WiFi count','Honk_duration']].values\n",
    "Y=list['Class'].values\n",
    "\n",
    "X_d=pd.DataFrame(X)\n",
    "Y_d=pd.DataFrame(Y)\n",
    "Y_d_2=pd.get_dummies(Y_d)\n",
    "X_train, X_test, y_train, y_test = train_test_split(X_d,Y_d_2,test_size=0.4,random_state=42)\n",
    "\n",
    "knn=KNeighborsClassifier(n_neighbors=8)\n",
    "knn.fit(X_train,y_train)\n",
    "#knn.score(X_train,y_train)\n",
    "print(\"a\")\n",
    "knn.score(X_test,y_test)"
   ]
  },
  {
   "cell_type": "code",
   "execution_count": 45,
   "metadata": {},
   "outputs": [
    {
     "name": "stdout",
     "output_type": "stream",
     "text": [
      "a\n"
     ]
    },
    {
     "data": {
      "text/plain": [
       "0.5877110694183865"
      ]
     },
     "execution_count": 45,
     "metadata": {},
     "output_type": "execute_result"
    }
   ],
   "source": [
    "import pandas as pd\n",
    "import numpy as np\n",
    "import matplotlib.pyplot as plt\n",
    "\n",
    "from sklearn.model_selection import train_test_split\n",
    "from sklearn.neighbors import KNeighborsClassifier\n",
    "\n",
    "\n",
    "list=pd.read_csv('dataset.csv')\n",
    "X=list[['RMS','Intersection count','WiFi count','Honk_duration']].values\n",
    "Y=list['Class'].values\n",
    "\n",
    "X_d=pd.DataFrame(X)\n",
    "Y_d=pd.DataFrame(Y)\n",
    "Y_d_2=pd.get_dummies(Y_d)\n",
    "X_train, X_test, y_train, y_test = train_test_split(X_d,Y_d_2,test_size=0.4,random_state=42)\n",
    "\n",
    "knn=KNeighborsClassifier(n_neighbors=12)\n",
    "knn.fit(X_train,y_train)\n",
    "#knn.score(X_train,y_train)\n",
    "print(\"a\")\n",
    "knn.score(X_test,y_test)"
   ]
  },
  {
   "cell_type": "code",
   "execution_count": 46,
   "metadata": {},
   "outputs": [
    {
     "name": "stdout",
     "output_type": "stream",
     "text": [
      "[[ 250  241    3   58]\n",
      " [ 156 1034   19   24]\n",
      " [  10  114   45    0]\n",
      " [  60   11    0  107]]\n",
      "              precision    recall  f1-score   support\n",
      "\n",
      "        Fast       0.53      0.45      0.49       552\n",
      "      Normal       0.74      0.84      0.79      1233\n",
      "        Slow       0.67      0.27      0.38       169\n",
      "   Very Fast       0.57      0.60      0.58       178\n",
      "\n",
      "   micro avg       0.67      0.67      0.67      2132\n",
      "   macro avg       0.63      0.54      0.56      2132\n",
      "weighted avg       0.66      0.67      0.66      2132\n",
      "\n"
     ]
    }
   ],
   "source": [
    "from sklearn.metrics import classification_report\n",
    "from sklearn.metrics import confusion_matrix\n",
    "from sklearn.neighbors import KNeighborsClassifier\n",
    "import pandas as pd\n",
    "# Create training and test set\n",
    "X_train, X_test, y_train, y_test = train_test_split(X,y,test_size=0.4,random_state=42)\n",
    "# Instantiate a k-NN classifier: knn\n",
    "\n",
    "list=pd.read_csv('dataset.csv')\n",
    "x=['Honk_duration','RMS','Intersection density','WiFi density']\n",
    "X=list[['Honk_duration','RMS','Intersection count','WiFi count']].values\n",
    "X_d=pd.DataFrame(X)\n",
    "Y=list['Class'].values\n",
    "Y_d=pd.DataFrame(Y)\n",
    "Y_d_2=pd.get_dummies(Y_d)\n",
    "knn = KNeighborsClassifier(n_neighbors=11)\n",
    "\n",
    "# Fit the classifier to the training data\n",
    "knn.fit(X_train,y_train)\n",
    "\n",
    "# Predict the labels of the test data: y_pred\n",
    "y_pred = knn.predict(X_test)\n",
    "\n",
    "# Generate the confusion matrix and classification report\n",
    "print(confusion_matrix(y_test,y_pred))\n",
    "print(classification_report(y_test,y_pred))"
   ]
  },
  {
   "cell_type": "code",
   "execution_count": 47,
   "metadata": {},
   "outputs": [
    {
     "data": {
      "image/png": "[encoded data removed]",
      "text/plain": [
       "<matplotlib.figure.Figure at 0x7f0210cc7828>"
      ]
     },
     "metadata": {
      "needs_background": "light"
     },
     "output_type": "display_data"
    }
   ],
   "source": [
    "import numpy as np\n",
    "import pandas as pd\n",
    "import matplotlib.pyplot as pyplot\n",
    "from sklearn.model_selection import train_test_split\n",
    "from sklearn.neighbors import KNeighborsClassifier\n",
    "road=pd.read_csv('dataset.csv')\n",
    "\n",
    "road.head()\n",
    "'''road_lookup=road.Zone.unique()'''\n",
    "X=road[['Intersection count\n",
    " [0. 1. 0. 0.]\n",
    " [0. 1. 0. 0.]\n",
    " ...\n",
    " [0. 1. 0. 0.]\n",
    " [0. 0. 0. 1.]\n",
    " [0. 1. 0. 0.]]\n",
    "0.6613508442776735\n",
    "￼','WiFi count','Honk_duration','RMS']]\n",
    "y=road['Class']\n",
    "\n",
    "X_train,X_test,y_train,y_test=train_test_split(X,y,random_state=0)\n",
    "'''knn=KNeighborsClassifier(n_neighbors=5)\n",
    "knn.fit(X_train,y_train) \n",
    "knn.score(X_test,y_test)\n",
    "road_prediction=knn.predict([[181.365898,5,0,6.35698]])\n",
    "road_lookup[road_prediction[0]]'''\n",
    "k_range=np.arange(1,101)\n",
    "train_accuracy=np.empty(len(k_range))\n",
    "test_accuracy=np.empty(len(k_range))\n",
    "for i,k in enumerate(k_range):\n",
    "\tknn=KNeighborsClassifier(n_neighbors=k)\n",
    "\tknn.fit(X_train,y_train)\n",
    "\ttrain_accuracy[i]=knn.score(X_train,y_train)\n",
    "\ttest_accuracy[i]=knn.score(X_test,y_test)\n",
    "plt.title('k-NN: Varying Number of Neighbors')\n",
    "plt.plot(k_range, test_accuracy, label = 'Testing Accuracy')\n",
    "plt.plot(k_range, train_accuracy, label = 'Training Accuracy')\n",
    "plt.legend()\n",
    "plt.xlabel('Number of Neighbors')\n",
    "plt.ylabel('Accuracy')\n",
    "plt.xticks(np.arange(0,105,5))\n",
    "plt.show()\n"
   ]
  },
  {
   "cell_type": "code",
   "execution_count": 4,
   "metadata": {},
   "outputs": [
    {
     "name": "stdout",
     "output_type": "stream",
     "text": [
      "0.6834208552138035\n"
     ]
    }
   ],
   "source": [
    "import pandas as pd\n",
    "import numpy as np\n",
    "from matplotlib import cm\n",
    "from sklearn.model_selection import train_test_split\n",
    "from sklearn.tree import DecisionTreeClassifier\n",
    "list=pd.read_csv('dataset.csv')\n",
    "X=list[['Honk_duration','RMS','Intersection density','WiFi density']].values\n",
    "X_d=pd.DataFrame(X)\n",
    "Y=list['Class'].values\n",
    "Y_d=pd.DataFrame(Y)\n",
    "X_train,X_test,y_train,y_test=train_test_split(X_d,Y_d,test_size=0.25,random_state=21)\n",
    "clf = DecisionTreeClassifier(max_depth=9,min_samples_leaf=6)\n",
    "clf.fit(X_train,y_train)\n",
    "print(clf.score(X_test,y_test))\n"
   ]
  },
  {
   "cell_type": "code",
   "execution_count": 6,
   "metadata": {},
   "outputs": [
    {
     "name": "stdout",
     "output_type": "stream",
     "text": [
      "0.6991747936984246\n"
     ]
    }
   ],
   "source": [
    "import pandas as pd\n",
    "import numpy as np\n",
    "from matplotlib import cm\n",
    "from sklearn.model_selection import train_test_split\n",
    "from sklearn.tree import DecisionTreeClassifier\n",
    "list=pd.read_csv('dataset.csv')\n",
    "X=list[['Honk_duration','RMS','Intersection count','WiFi count']].values\n",
    "X_d=pd.DataFrame(X)\n",
    "Y=list['Class'].values\n",
    "Y_d=pd.DataFrame(Y)\n",
    "X_train,X_test,y_train,y_test=train_test_split(X_d,Y_d,test_size=0.25,random_state=21)\n",
    "clf = DecisionTreeClassifier(max_depth=9,min_samples_leaf=6)\n",
    "clf.fit(X_train,y_train)\n",
    "print(clf.score(X_test,y_test))\n"
   ]
  },
  {
   "cell_type": "code",
   "execution_count": 52,
   "metadata": {},
   "outputs": [
    {
     "name": "stdout",
     "output_type": "stream",
     "text": [
      "0.6730769230769231\n"
     ]
    }
   ],
   "source": [
    "import pandas as pd\n",
    "import numpy as np\n",
    "from matplotlib import cm\n",
    "from sklearn.model_selection import train_test_split\n",
    "from sklearn.tree import DecisionTreeClassifier\n",
    "list=pd.read_csv('dataset.csv')\n",
    "X=list[['Honk_duration','RMS','Intersection count','WiFi count']].values\n",
    "X_d=pd.DataFrame(X)\n",
    "Y=list['Class'].values\n",
    "Y_d=pd.DataFrame(y)\n",
    "X_train,X_test,y_train,y_test=train_test_split(X_d,Y_d,test_size=0.4,random_state=21)\n",
    "clf = DecisionTreeClassifier(max_depth=9,min_samples_leaf=6)\n",
    "clf.fit(X_train,y_train)\n",
    "print(clf.score(X_test,y_test))\n"
   ]
  },
  {
   "cell_type": "code",
   "execution_count": 54,
   "metadata": {},
   "outputs": [
    {
     "name": "stdout",
     "output_type": "stream",
     "text": [
      "0.6951219512195121\n"
     ]
    }
   ],
   "source": [
    "import pandas as pd\n",
    "import numpy as np\n",
    "from matplotlib import cm\n",
    "from sklearn.model_selection import train_test_split\n",
    "from sklearn.tree import DecisionTreeClassifier\n",
    "list=pd.read_csv('dataset.csv')\n",
    "X=list[['Honk_duration','RMS','Intersection count','WiFi count']].values\n",
    "X_d=pd.DataFrame(X)\n",
    "Y=list['Class'].values\n",
    "Y_d=pd.DataFrame(y)\n",
    "X_train,X_test,y_train,y_test=train_test_split(X_d,Y_d,test_size=0.2,random_state=21)\n",
    "clf = DecisionTreeClassifier(max_depth=10,min_samples_leaf=6)\n",
    "clf.fit(X_train,y_train)\n",
    "print(clf.score(X_test,y_test))\n"
   ]
  },
  {
   "cell_type": "code",
   "execution_count": 55,
   "metadata": {},
   "outputs": [
    {
     "name": "stdout",
     "output_type": "stream",
     "text": [
      "0.6904315196998124\n"
     ]
    }
   ],
   "source": [
    "import pandas as pd\n",
    "import numpy as np\n",
    "from matplotlib import cm\n",
    "from sklearn.model_selection import train_test_split\n",
    "from sklearn.tree import DecisionTreeClassifier\n",
    "list=pd.read_csv('dataset.csv')\n",
    "X=list[['Honk_duration','RMS','Intersection count','WiFi count']].values\n",
    "X_d=pd.DataFrame(X)\n",
    "Y=list['Class'].values\n",
    "Y_d=pd.DataFrame(y)\n",
    "X_train,X_test,y_train,y_test=train_test_split(X_d,Y_d,test_size=0.2,random_state=21)\n",
    "clf = DecisionTreeClassifier(max_depth=9,min_samples_leaf=10)\n",
    "clf.fit(X_train,y_train)\n",
    "print(clf.score(X_test,y_test))\n"
   ]
  },
  {
   "cell_type": "code",
   "execution_count": 56,
   "metadata": {},
   "outputs": [
    {
     "name": "stdout",
     "output_type": "stream",
     "text": [
      "0.6693245778611632\n"
     ]
    }
   ],
   "source": [
    "import pandas as pd\n",
    "import numpy as np\n",
    "from matplotlib import cm\n",
    "from sklearn.model_selection import train_test_split\n",
    "from sklearn.tree import DecisionTreeClassifier\n",
    "list=pd.read_csv('dataset.csv')\n",
    "X=list[['Honk_duration','RMS','Intersection count','WiFi count']].values\n",
    "X_d=pd.DataFrame(X)\n",
    "Y=list['Class'].values\n",
    "Y_d=pd.DataFrame(y)\n",
    "X_train,X_test,y_train,y_test=train_test_split(X_d,Y_d,test_size=0.4,random_state=21)\n",
    "clf = DecisionTreeClassifier(max_depth=9,min_samples_leaf=5)\n",
    "clf.fit(X_train,y_train)\n",
    "print(clf.score(X_test,y_test))\n"
   ]
  },
  {
   "cell_type": "code",
   "execution_count": 57,
   "metadata": {},
   "outputs": [
    {
     "name": "stdout",
     "output_type": "stream",
     "text": [
      "0.6730769230769231\n"
     ]
    }
   ],
   "source": [
    "import pandas as pd\n",
    "import numpy as np\n",
    "from matplotlib import cm\n",
    "from sklearn.model_selection import train_test_split\n",
    "from sklearn.tree import DecisionTreeClassifier\n",
    "list=pd.read_csv('dataset.csv')\n",
    "X=list[['Honk_duration','RMS','Intersection count','WiFi count']].values\n",
    "X_d=pd.DataFrame(X)\n",
    "Y=list['Class'].values\n",
    "Y_d=pd.DataFrame(y)\n",
    "X_train,X_test,y_train,y_test=train_test_split(X_d,Y_d,test_size=0.4,random_state=21)\n",
    "clf = DecisionTreeClassifier(max_depth=9,min_samples_leaf=12)\n",
    "clf.fit(X_train,y_train)\n",
    "print(clf.score(X_test,y_test))\n"
   ]
  },
  {
   "cell_type": "code",
   "execution_count": 58,
   "metadata": {
    "scrolled": true
   },
   "outputs": [
    {
     "data": {
      "image/png": "[encoded data removed]",
      "text/plain": [
       "<matplotlib.figure.Figure at 0x7f02112939b0>"
      ]
     },
     "metadata": {
      "needs_background": "light"
     },
     "output_type": "display_data"
    }
   ],
   "source": [
    "\n"
   ]
  },
  {
   "cell_type": "code",
   "execution_count": 61,
   "metadata": {},
   "outputs": [
    {
     "name": "stdout",
     "output_type": "stream",
     "text": [
      "0.5891181988742964\n"
     ]
    }
   ],
   "source": [
    "\n",
    "import pandas as pd\n",
    "import numpy as np\n",
    "from sklearn.model_selection import train_test_split\n",
    "from sklearn.model_selection import cross_val_score\n",
    "#from sklearn.preprocessing import Imputer\n",
    "from sklearn.tree import DecisionTreeClassifier\n",
    "\n",
    "\n",
    "list=pd.read_csv('dataset.csv')\n",
    "\n",
    "X=list[['Honk_duration','RMS','Intersection count','WiFi count']].values\n",
    "X_d=pd.DataFrame(X)\n",
    "y=list['Class'].values\n",
    "y_d=pd.DataFrame(y)\n",
    "\n",
    "X_d_2=pd.get_dummies(X_d)\n",
    "y_d_2=pd.get_dummies(y_d)\n",
    "#print(\"c\")\n",
    "X_train,X_test,y_train,y_test=train_test_split(X_d_2,y_d_2,test_size=0.1,random_state=21)\n",
    "#print(\"d\")\n",
    "clf = DecisionTreeClassifier(max_depth=8,min_samples_leaf=8)\n",
    "#print(\"e\")\n",
    "knn.fit(X_train,y_train)\n",
    "#print(\"f\")\n",
    "\n",
    "y_pred=knn.predict(X_test)\n",
    "#print(\"g\")\n",
    "#print(y_pred)\n",
    "print(knn.score(X_test,y_test))\n"
   ]
  },
  {
   "cell_type": "code",
   "execution_count": 62,
   "metadata": {},
   "outputs": [
    {
     "name": "stdout",
     "output_type": "stream",
     "text": [
      "[[ 282  206    7   57]\n",
      " [ 166 1011   41   15]\n",
      " [  13   89   67    0]\n",
      " [  56   10    1  111]]\n",
      "              precision    recall  f1-score   support\n",
      "\n",
      "        Fast       0.55      0.51      0.53       552\n",
      "      Normal       0.77      0.82      0.79      1233\n",
      "        Slow       0.58      0.40      0.47       169\n",
      "   Very Fast       0.61      0.62      0.61       178\n",
      "\n",
      "   micro avg       0.69      0.69      0.69      2132\n",
      "   macro avg       0.62      0.59      0.60      2132\n",
      "weighted avg       0.68      0.69      0.68      2132\n",
      "\n"
     ]
    }
   ],
   "source": [
    "from sklearn.metrics import classification_report\n",
    "from sklearn.metrics import confusion_matrix\n",
    "from sklearn.tree import DecisionTreeClassifier\n",
    "\n",
    "import pandas as pd\n",
    "# Create training and test set\n",
    "X_train, X_test, y_train, y_test = train_test_split(X,y,test_size=0.4,random_state=42)\n",
    "# Instantiate a k-NN classifier: knn\n",
    "\n",
    "list=pd.read_csv('dataset.csv')\n",
    "x=['Honk_duration','RMS','Intersection density','WiFi density']\n",
    "X=list[['Honk_duration','RMS','Intersection density','WiFi density']].values\n",
    "X_d=pd.DataFrame(X)\n",
    "Y=list['Class'].values\n",
    "Y_d=pd.DataFrame(Y)\n",
    "Y_d_2=pd.get_dummies(Y_d)\n",
    "clf = DecisionTreeClassifier(max_depth=8,min_samples_leaf=8)\n",
    "\n",
    "# Fit the classifier to the training data\n",
    "clf.fit(X_train,y_train)\n",
    "\n",
    "# Predict the labels of the test data: y_pred\n",
    "y_pred = clf.predict(X_test)\n",
    "\n",
    "# Generate the confusion matrix and classification report\n",
    "print(confusion_matrix(y_test,y_pred))\n",
    "print(classification_report(y_test,y_pred))\n"
   ]
  },
  {
   "cell_type": "code",
   "execution_count": 63,
   "metadata": {},
   "outputs": [
    {
     "name": "stdout",
     "output_type": "stream",
     "text": [
      "[[286 202   4  60]\n",
      " [181 995  40  17]\n",
      " [ 10  91  68   0]\n",
      " [ 51  18   0 109]]\n",
      "              precision    recall  f1-score   support\n",
      "\n",
      "        Fast       0.54      0.52      0.53       552\n",
      "      Normal       0.76      0.81      0.78      1233\n",
      "        Slow       0.61      0.40      0.48       169\n",
      "   Very Fast       0.59      0.61      0.60       178\n",
      "\n",
      "   micro avg       0.68      0.68      0.68      2132\n",
      "   macro avg       0.62      0.58      0.60      2132\n",
      "weighted avg       0.68      0.68      0.68      2132\n",
      "\n"
     ]
    }
   ],
   "source": [
    "from sklearn.metrics import classification_report\n",
    "from sklearn.metrics import confusion_matrix\n",
    "from sklearn.tree import DecisionTreeClassifier\n",
    "\n",
    "import pandas as pd\n",
    "# Create training and test set\n",
    "X_train, X_test, y_train, y_test = train_test_split(X,y,test_size=0.4,random_state=42)\n",
    "# Instantiate a k-NN classifier: knn\n",
    "\n",
    "list=pd.read_csv('dataset.csv')\n",
    "x=['Honk_duration','RMS','Intersection density','WiFi density']\n",
    "X=list[['Honk_duration','RMS','Intersection density','WiFi density']].values\n",
    "X_d=pd.DataFrame(X)\n",
    "Y=list['Class'].values\n",
    "Y_d=pd.DataFrame(Y)\n",
    "Y_d_2=pd.get_dummies(Y_d)\n",
    "clf = DecisionTreeClassifier(max_depth=9,min_samples_leaf=6)\n",
    "\n",
    "# Fit the classifier to the training data\n",
    "clf.fit(X_train,y_train)\n",
    "\n",
    "# Predict the labels of the test data: y_pred\n",
    "y_pred = clf.predict(X_test)\n",
    "\n",
    "# Generate the confusion matrix and classification report\n",
    "print(confusion_matrix(y_test,y_pred))\n",
    "print(classification_report(y_test,y_pred))\n"
   ]
  },
  {
   "cell_type": "code",
   "execution_count": 64,
   "metadata": {},
   "outputs": [
    {
     "name": "stdout",
     "output_type": "stream",
     "text": [
      "0.5340339402370886\n"
     ]
    }
   ],
   "source": [
    "import pandas as pd\n",
    "import numpy as np\n",
    "#from sklearn.model_selection import train_test_split\n",
    "from sklearn.model_selection import cross_val_score\n",
    "#from sklearn.preprocessing import Imputer\n",
    "from sklearn.neighbors import KNeighborsClassifier\n",
    "\n",
    "\n",
    "list=pd.read_csv('dataset.csv')\n",
    "\n",
    "X=list[['Honk_duration','RMS','Intersection density','WiFi density']].values\n",
    "X_d=pd.DataFrame(X)\n",
    "y=list['Class'].values\n",
    "y_d=pd.DataFrame(y)\n",
    "#print(\"a\")\n",
    "X_d_2=pd.get_dummies(X_d)\n",
    "#print(\"b\")\n",
    "y_d_2=pd.get_dummies(y_d)\n",
    "#print(\"c\")\n",
    "#X_train,X_test,y_train,y_test=train_test_split(X_d_2,y_d_2,test_size=0.1,random_state=21)\n",
    "#print(\"d\")\n",
    "knn = KNeighborsClassifier(n_neighbors=11)\n",
    "#print(\"e\")\n",
    "cv_scores = cross_val_score(knn, X_d_2, y_d_2,cv=8)\n",
    "print(np.mean(cv_scores))\n"
   ]
  },
  {
   "cell_type": "code",
   "execution_count": 65,
   "metadata": {},
   "outputs": [
    {
     "name": "stdout",
     "output_type": "stream",
     "text": [
      "0.5190158744641116\n"
     ]
    }
   ],
   "source": [
    "import pandas as pd\n",
    "import numpy as np\n",
    "#from sklearn.model_selection import train_test_split\n",
    "from sklearn.model_selection import cross_val_score\n",
    "#from sklearn.preprocessing import Imputer\n",
    "from sklearn.neighbors import KNeighborsClassifier\n",
    "\n",
    "\n",
    "list=pd.read_csv('dataset.csv')\n",
    "\n",
    "X=list[['Honk_duration','RMS','Intersection density','WiFi density']].values\n",
    "X_d=pd.DataFrame(X)\n",
    "y=list['Class'].values\n",
    "y_d=pd.DataFrame(y)\n",
    "#print(\"a\")\n",
    "X_d_2=pd.get_dummies(X_d)\n",
    "#print(\"b\")\n",
    "y_d_2=pd.get_dummies(y_d)\n",
    "#print(\"c\")\n",
    "#X_train,X_test,y_train,y_test=train_test_split(X_d_2,y_d_2,test_size=0.1,random_state=21)\n",
    "#print(\"d\")\n",
    "knn = KNeighborsClassifier(n_neighbors=11)\n",
    "#print(\"e\")\n",
    "cv_scores = cross_val_score(knn, X_d_2, y_d_2,cv=4)\n",
    "print(np.mean(cv_scores))\n"
   ]
  },
  {
   "cell_type": "code",
   "execution_count": 72,
   "metadata": {},
   "outputs": [
    {
     "name": "stdout",
     "output_type": "stream",
     "text": [
      "c\n",
      "b\n",
      "a\n",
      "[[0. 1. 0. 0.]\n",
      " [0. 1. 0. 0.]\n",
      " [0. 1. 0. 0.]\n",
      " ...\n",
      " [0. 1. 0. 0.]\n",
      " [1. 0. 0. 0.]\n",
      " [0. 1. 0. 0.]]\n",
      "0.6200750469043153\n"
     ]
    }
   ],
   "source": [
    "import pandas as pd\n",
    "import numpy as np\n",
    "\n",
    "from sklearn.model_selection import cross_val_score\n",
    "from sklearn.ensemble import RandomForestClassifier\n",
    "\n",
    "list=pd.read_csv('dataset.csv')\n",
    "X=list[['Honk_duration','RMS','Intersection count','WiFi density']].values\n",
    "X_d=pd.DataFrame(X)\n",
    "y=list['Class'].values\n",
    "print(\"c\")\n",
    "y_d=pd.DataFrame(y)\n",
    "y_d_2=pd.get_dummies(y_d)\n",
    "X_train, X_test, y_train, y_test = train_test_split(X_d,y_d_2,test_size=0.2,random_state=42)\n",
    "print(\"b\")\n",
    "clf=RandomForestClassifier(n_estimators=20)\n",
    "clf.fit(X_train,y_train)\n",
    "print(\"a\")\n",
    "y_pred=clf.predict(X_test)\n",
    "print(y_pred)\n",
    "print(clf.score(X_test,y_test))\n"
   ]
  },
  {
   "cell_type": "code",
   "execution_count": 74,
   "metadata": {},
   "outputs": [
    {
     "name": "stdout",
     "output_type": "stream",
     "text": [
      "c\n",
      "b\n",
      "a\n",
      "[[0. 1. 0. 0.]\n",
      " [0. 1. 0. 0.]\n",
      " [0. 1. 0. 0.]\n",
      " ...\n",
      " [0. 1. 0. 0.]\n",
      " [1. 0. 0. 0.]\n",
      " [0. 1. 0. 0.]]\n",
      "0.6416510318949343\n"
     ]
    }
   ],
   "source": [
    "import pandas as pd\n",
    "import numpy as np\n",
    "\n",
    "from sklearn.model_selection import cross_val_score\n",
    "from sklearn.ensemble import RandomForestClassifier\n",
    "\n",
    "list=pd.read_csv('dataset.csv')\n",
    "X=list[['Honk_duration','RMS','Intersection count','WiFi density']].values\n",
    "X_d=pd.DataFrame(X)\n",
    "y=list['Class'].values\n",
    "print(\"c\")\n",
    "y_d=pd.DataFrame(y)\n",
    "y_d_2=pd.get_dummies(y_d)\n",
    "X_train, X_test, y_train, y_test = train_test_split(X_d,y_d_2,test_size=0.2,random_state=42)\n",
    "print(\"b\")\n",
    "clf=RandomForestClassifier(n_estimators=200)\n",
    "clf.fit(X_train,y_train)\n",
    "print(\"a\")\n",
    "y_pred=clf.predict(X_test)\n",
    "print(y_pred)\n",
    "print(clf.score(X_test,y_test))\n"
   ]
  },
  {
   "cell_type": "code",
   "execution_count": 75,
   "metadata": {},
   "outputs": [
    {
     "name": "stdout",
     "output_type": "stream",
     "text": [
      "c\n",
      "b\n",
      "a\n",
      "[[0. 1. 0. 0.]\n",
      " [0. 1. 0. 0.]\n",
      " [0. 1. 0. 0.]\n",
      " ...\n",
      " [0. 1. 0. 0.]\n",
      " [1. 0. 0. 0.]\n",
      " [0. 1. 0. 0.]]\n",
      "0.6425891181988743\n"
     ]
    }
   ],
   "source": [
    "import pandas as pd\n",
    "import numpy as np\n",
    "\n",
    "from sklearn.model_selection import cross_val_score\n",
    "from sklearn.ensemble import RandomForestClassifier\n",
    "\n",
    "list=pd.read_csv('dataset.csv')\n",
    "X=list[['Honk_duration','RMS','Intersection count','WiFi density']].values\n",
    "X_d=pd.DataFrame(X)\n",
    "y=list['Class'].values\n",
    "print(\"c\")\n",
    "y_d=pd.DataFrame(y)\n",
    "y_d_2=pd.get_dummies(y_d)\n",
    "X_train, X_test, y_train, y_test = train_test_split(X_d,y_d_2,test_size=0.2,random_state=42)\n",
    "print(\"b\")\n",
    "clf=RandomForestClassifier(n_estimators=100)\n",
    "clf.fit(X_train,y_train)\n",
    "print(\"a\")\n",
    "y_pred=clf.predict(X_test)\n",
    "print(y_pred)\n",
    "print(clf.score(X_test,y_test))\n"
   ]
  },
  {
   "cell_type": "code",
   "execution_count": 76,
   "metadata": {},
   "outputs": [
    {
     "name": "stdout",
     "output_type": "stream",
     "text": [
      "c\n",
      "b\n",
      "a\n",
      "[[0. 1. 0. 0.]\n",
      " [0. 1. 0. 0.]\n",
      " [0. 1. 0. 0.]\n",
      " ...\n",
      " [0. 1. 0. 0.]\n",
      " [0. 0. 0. 0.]\n",
      " [0. 1. 0. 0.]]\n",
      "0.6519699812382739\n"
     ]
    }
   ],
   "source": [
    "import pandas as pd\n",
    "import numpy as np\n",
    "\n",
    "from sklearn.model_selection import cross_val_score\n",
    "from sklearn.ensemble import RandomForestClassifier\n",
    "\n",
    "list=pd.read_csv('dataset.csv')\n",
    "X=list[['Honk_duration','RMS','Intersection count','WiFi density']].values\n",
    "X_d=pd.DataFrame(X)\n",
    "y=list['Class'].values\n",
    "print(\"c\")\n",
    "y_d=pd.DataFrame(y)\n",
    "y_d_2=pd.get_dummies(y_d)\n",
    "X_train, X_test, y_train, y_test = train_test_split(X_d,y_d_2,test_size=0.2,random_state=42)\n",
    "print(\"b\")\n",
    "clf=RandomForestClassifier(n_estimators=150)\n",
    "clf.fit(X_train,y_train)\n",
    "print(\"a\")\n",
    "y_pred=clf.predict(X_test)\n",
    "print(y_pred)\n",
    "print(clf.score(X_test,y_test))"
   ]
  },
  {
   "cell_type": "code",
   "execution_count": 77,
   "metadata": {},
   "outputs": [
    {
     "name": "stdout",
     "output_type": "stream",
     "text": [
      "c\n",
      "b\n",
      "a\n",
      "[[0. 1. 0. 0.]\n",
      " [0. 1. 0. 0.]\n",
      " [0. 1. 0. 0.]\n",
      " ...\n",
      " [0. 1. 0. 0.]\n",
      " [1. 0. 0. 0.]\n",
      " [0. 1. 0. 0.]]\n",
      "0.6538461538461539\n"
     ]
    }
   ],
   "source": [
    "import pandas as pd\n",
    "import numpy as np\n",
    "\n",
    "from sklearn.model_selection import cross_val_score\n",
    "from sklearn.ensemble import RandomForestClassifier\n",
    "\n",
    "list=pd.read_csv('dataset.csv')\n",
    "X=list[['Honk_duration','RMS','Intersection count','WiFi density']].values\n",
    "X_d=pd.DataFrame(X)\n",
    "y=list['Class'].values\n",
    "print(\"c\")\n",
    "y_d=pd.DataFrame(y)\n",
    "y_d_2=pd.get_dummies(y_d)\n",
    "X_train, X_test, y_train, y_test = train_test_split(X_d,y_d_2,test_size=0.2,random_state=42)\n",
    "print(\"b\")\n",
    "clf=RandomForestClassifier(n_estimators=170)\n",
    "clf.fit(X_train,y_train)\n",
    "print(\"a\")\n",
    "y_pred=clf.predict(X_test)\n",
    "print(y_pred)\n",
    "print(clf.score(X_test,y_test))"
   ]
  },
  {
   "cell_type": "code",
   "execution_count": 78,
   "metadata": {},
   "outputs": [
    {
     "name": "stdout",
     "output_type": "stream",
     "text": [
      "c\n",
      "b\n",
      "a\n",
      "[[0. 1. 0. 0.]\n",
      " [0. 1. 0. 0.]\n",
      " [0. 1. 0. 0.]\n",
      " ...\n",
      " [0. 1. 0. 0.]\n",
      " [1. 0. 0. 0.]\n",
      " [0. 1. 0. 0.]]\n",
      "0.651031894934334\n"
     ]
    }
   ],
   "source": [
    "import pandas as pd\n",
    "import numpy as np\n",
    "\n",
    "from sklearn.model_selection import cross_val_score\n",
    "from sklearn.ensemble import RandomForestClassifier\n",
    "\n",
    "list=pd.read_csv('dataset.csv')\n",
    "X=list[['Honk_duration','RMS','Intersection count','WiFi density']].values\n",
    "X_d=pd.DataFrame(X)\n",
    "y=list['Class'].values\n",
    "print(\"c\")\n",
    "y_d=pd.DataFrame(y)\n",
    "y_d_2=pd.get_dummies(y_d)\n",
    "X_train, X_test, y_train, y_test = train_test_split(X_d,y_d_2,test_size=0.2,random_state=42)\n",
    "print(\"b\")\n",
    "clf=RandomForestClassifier(n_estimators=180)\n",
    "clf.fit(X_train,y_train)\n",
    "print(\"a\")\n",
    "y_pred=clf.predict(X_test)\n",
    "print(y_pred)\n",
    "print(clf.score(X_test,y_test))"
   ]
  },
  {
   "cell_type": "code",
   "execution_count": 79,
   "metadata": {},
   "outputs": [
    {
     "name": "stdout",
     "output_type": "stream",
     "text": [
      "c\n",
      "b\n",
      "a\n",
      "[[0. 1. 0. 0.]\n",
      " [0. 1. 0. 0.]\n",
      " [0. 1. 0. 0.]\n",
      " ...\n",
      " [0. 1. 0. 0.]\n",
      " [1. 0. 0. 0.]\n",
      " [0. 1. 0. 0.]]\n",
      "0.6472795497185742\n"
     ]
    }
   ],
   "source": [
    "import pandas as pd\n",
    "import numpy as np\n",
    "\n",
    "from sklearn.model_selection import cross_val_score\n",
    "from sklearn.ensemble import RandomForestClassifier\n",
    "\n",
    "list=pd.read_csv('dataset.csv')\n",
    "X=list[['Honk_duration','RMS','Intersection count','WiFi density']].values\n",
    "X_d=pd.DataFrame(X)\n",
    "y=list['Class'].values\n",
    "print(\"c\")\n",
    "y_d=pd.DataFrame(y)\n",
    "y_d_2=pd.get_dummies(y_d)\n",
    "X_train, X_test, y_train, y_test = train_test_split(X_d,y_d_2,test_size=0.2,random_state=42)\n",
    "print(\"b\")\n",
    "clf=RandomForestClassifier(n_estimators=175)\n",
    "clf.fit(X_train,y_train)\n",
    "print(\"a\")\n",
    "y_pred=clf.predict(X_test)\n",
    "print(y_pred)\n",
    "print(clf.score(X_test,y_test))"
   ]
  },
  {
   "cell_type": "code",
   "execution_count": 80,
   "metadata": {},
   "outputs": [
    {
     "name": "stdout",
     "output_type": "stream",
     "text": [
      "c\n",
      "b\n",
      "a\n",
      "[[0. 1. 0. 0.]\n",
      " [0. 1. 0. 0.]\n",
      " [0. 1. 0. 0.]\n",
      " ...\n",
      " [0. 0. 0. 0.]\n",
      " [1. 0. 0. 0.]\n",
      " [0. 1. 0. 0.]]\n",
      "0.6285178236397748\n"
     ]
    }
   ],
   "source": [
    "import pandas as pd\n",
    "import numpy as np\n",
    "\n",
    "from sklearn.model_selection import cross_val_score\n",
    "from sklearn.ensemble import RandomForestClassifier\n",
    "\n",
    "list=pd.read_csv('dataset.csv')\n",
    "X=list[['Honk_duration','RMS','Intersection count','WiFi count']].values\n",
    "X_d=pd.DataFrame(X)\n",
    "y=list['Class'].values\n",
    "print(\"c\")\n",
    "y_d=pd.DataFrame(y)\n",
    "y_d_2=pd.get_dummies(y_d)\n",
    "X_train, X_test, y_train, y_test = train_test_split(X_d,y_d_2,test_size=0.2,random_state=42)\n",
    "print(\"b\")\n",
    "clf=RandomForestClassifier(n_estimators=180)\n",
    "clf.fit(X_train,y_train)\n",
    "print(\"a\")\n",
    "y_pred=clf.predict(X_test)\n",
    "print(y_pred)\n",
    "print(clf.score(X_test,y_test))"
   ]
  },
  {
   "cell_type": "code",
   "execution_count": 81,
   "metadata": {},
   "outputs": [
    {
     "name": "stdout",
     "output_type": "stream",
     "text": [
      "c\n",
      "b\n",
      "a\n",
      "[[0. 1. 0. 0.]\n",
      " [0. 1. 0. 0.]\n",
      " [0. 1. 0. 0.]\n",
      " ...\n",
      " [0. 0. 0. 0.]\n",
      " [1. 0. 0. 0.]\n",
      " [0. 1. 0. 0.]]\n",
      "0.6219512195121951\n"
     ]
    }
   ],
   "source": [
    "import pandas as pd\n",
    "import numpy as np\n",
    "\n",
    "from sklearn.model_selection import cross_val_score\n",
    "from sklearn.ensemble import RandomForestClassifier\n",
    "\n",
    "list=pd.read_csv('dataset.csv')\n",
    "X=list[['Honk_duration','RMS','Intersection count','WiFi count']].values\n",
    "X_d=pd.DataFrame(X)\n",
    "y=list['Class'].values\n",
    "print(\"c\")\n",
    "y_d=pd.DataFrame(y)\n",
    "y_d_2=pd.get_dummies(y_d)\n",
    "X_train, X_test, y_train, y_test = train_test_split(X_d,y_d_2,test_size=0.2,random_state=42)\n",
    "print(\"b\")\n",
    "clf=RandomForestClassifier(n_estimators=150)\n",
    "clf.fit(X_train,y_train)\n",
    "print(\"a\")\n",
    "y_pred=clf.predict(X_test)\n",
    "print(y_pred)\n",
    "print(clf.score(X_test,y_test))"
   ]
  },
  {
   "cell_type": "code",
   "execution_count": 82,
   "metadata": {},
   "outputs": [
    {
     "name": "stdout",
     "output_type": "stream",
     "text": [
      "c\n",
      "b\n",
      "a\n",
      "[[0. 1. 0. 0.]\n",
      " [0. 1. 0. 0.]\n",
      " [0. 1. 0. 0.]\n",
      " ...\n",
      " [0. 1. 0. 0.]\n",
      " [1. 0. 0. 0.]\n",
      " [0. 1. 0. 0.]]\n",
      "0.625703564727955\n"
     ]
    }
   ],
   "source": [
    "import pandas as pd\n",
    "import numpy as np\n",
    "\n",
    "from sklearn.model_selection import cross_val_score\n",
    "from sklearn.ensemble import RandomForestClassifier\n",
    "\n",
    "list=pd.read_csv('dataset.csv')\n",
    "X=list[['Honk_duration','RMS','Intersection count','WiFi count']].values\n",
    "X_d=pd.DataFrame(X)\n",
    "y=list['Class'].values\n",
    "print(\"c\")\n",
    "y_d=pd.DataFrame(y)\n",
    "y_d_2=pd.get_dummies(y_d)\n",
    "X_train, X_test, y_train, y_test = train_test_split(X_d,y_d_2,test_size=0.2,random_state=42)\n",
    "print(\"b\")\n",
    "clf=RandomForestClassifier(n_estimators=220)\n",
    "clf.fit(X_train,y_train)\n",
    "print(\"a\")\n",
    "y_pred=clf.predict(X_test)\n",
    "print(y_pred)\n",
    "print(clf.score(X_test,y_test))"
   ]
  },
  {
   "cell_type": "code",
   "execution_count": 83,
   "metadata": {},
   "outputs": [
    {
     "name": "stdout",
     "output_type": "stream",
     "text": [
      "c\n",
      "b\n",
      "a\n",
      "[[0. 1. 0. 0.]\n",
      " [0. 1. 0. 0.]\n",
      " [0. 1. 0. 0.]\n",
      " ...\n",
      " [0. 1. 0. 0.]\n",
      " [1. 0. 0. 0.]\n",
      " [0. 1. 0. 0.]]\n",
      "0.6472795497185742\n"
     ]
    }
   ],
   "source": [
    "import pandas as pd\n",
    "import numpy as np\n",
    "\n",
    "from sklearn.model_selection import cross_val_score\n",
    "from sklearn.ensemble import RandomForestClassifier\n",
    "\n",
    "list=pd.read_csv('dataset.csv')\n",
    "X=list[['Honk_duration','RMS','Intersection density','WiFi density']].values\n",
    "X_d=pd.DataFrame(X)\n",
    "y=list['Class'].values\n",
    "print(\"c\")\n",
    "y_d=pd.DataFrame(y)\n",
    "y_d_2=pd.get_dummies(y_d)\n",
    "X_train, X_test, y_train, y_test = train_test_split(X_d,y_d_2,test_size=0.2,random_state=42)\n",
    "print(\"b\")\n",
    "clf=RandomForestClassifier(n_estimators=220)\n",
    "clf.fit(X_train,y_train)\n",
    "print(\"a\")\n",
    "y_pred=clf.predict(X_test)\n",
    "print(y_pred)\n",
    "print(clf.score(X_test,y_test))"
   ]
  },
  {
   "cell_type": "code",
   "execution_count": 84,
   "metadata": {},
   "outputs": [
    {
     "name": "stdout",
     "output_type": "stream",
     "text": [
      "c\n",
      "b\n",
      "a\n",
      "[[0. 1. 0. 0.]\n",
      " [0. 1. 0. 0.]\n",
      " [0. 1. 0. 0.]\n",
      " ...\n",
      " [0. 1. 0. 0.]\n",
      " [1. 0. 0. 0.]\n",
      " [0. 1. 0. 0.]]\n",
      "0.6472795497185742\n"
     ]
    }
   ],
   "source": [
    "import pandas as pd\n",
    "import numpy as np\n",
    "\n",
    "from sklearn.model_selection import cross_val_score\n",
    "from sklearn.ensemble import RandomForestClassifier\n",
    "\n",
    "list=pd.read_csv('dataset.csv')\n",
    "X=list[['Honk_duration','RMS','Intersection density','WiFi density']].values\n",
    "X_d=pd.DataFrame(X)\n",
    "y=list['Class'].values\n",
    "print(\"c\")\n",
    "y_d=pd.DataFrame(y)\n",
    "y_d_2=pd.get_dummies(y_d)\n",
    "X_train, X_test, y_train, y_test = train_test_split(X_d,y_d_2,test_size=0.2,random_state=42)\n",
    "print(\"b\")\n",
    "clf=RandomForestClassifier(n_estimators=180)\n",
    "clf.fit(X_train,y_train)\n",
    "print(\"a\")\n",
    "y_pred=clf.predict(X_test)\n",
    "print(y_pred)\n",
    "print(clf.score(X_test,y_test))"
   ]
  },
  {
   "cell_type": "code",
   "execution_count": 115,
   "metadata": {},
   "outputs": [
    {
     "name": "stdout",
     "output_type": "stream",
     "text": [
      "c\n",
      "b\n",
      "a\n",
      "[[0. 1. 0. 0.]\n",
      " [0. 1. 0. 0.]\n",
      " [0. 1. 0. 0.]\n",
      " ...\n",
      " [0. 1. 0. 0.]\n",
      " [1. 0. 0. 0.]\n",
      " [0. 1. 0. 0.]]\n",
      "0.6529080675422139\n"
     ]
    }
   ],
   "source": [
    "import pandas as pd\n",
    "import numpy as np\n",
    "\n",
    "from sklearn.model_selection import cross_val_score\n",
    "from sklearn.ensemble import RandomForestClassifier\n",
    "\n",
    "list=pd.read_csv('dataset.csv')\n",
    "X=list[['Honk_duration','RMS','Intersection density','WiFi density']].values\n",
    "X_d=pd.DataFrame(X)\n",
    "y=list['Class'].values\n",
    "print(\"c\")\n",
    "y_d=pd.DataFrame(y)\n",
    "y_d_2=pd.get_dummies(y_d)\n",
    "X_train, X_test, y_train, y_test = train_test_split(X_d,y_d_2,test_size=0.2,random_state=42)\n",
    "print(\"b\")\n",
    "clf=RandomForestClassifier(n_estimators=150)\n",
    "clf.fit(X_train,y_train)\n",
    "print(\"a\")\n",
    "y_pred=clf.predict(X_test)\n",
    "print(y_pred)\n",
    "print(clf.score(X_test,y_test))"
   ]
  },
  {
   "cell_type": "code",
   "execution_count": 116,
   "metadata": {},
   "outputs": [
    {
     "name": "stdout",
     "output_type": "stream",
     "text": [
      "c\n",
      "b\n",
      "a\n",
      "[[0. 1. 0. 0.]\n",
      " [0. 1. 0. 0.]\n",
      " [0. 1. 0. 0.]\n",
      " ...\n",
      " [0. 1. 0. 0.]\n",
      " [1. 0. 0. 0.]\n",
      " [0. 1. 0. 0.]]\n",
      "0.6557223264540337\n"
     ]
    }
   ],
   "source": [
    "import pandas as pd\n",
    "import numpy as np\n",
    "\n",
    "from sklearn.model_selection import cross_val_score\n",
    "from sklearn.ensemble import RandomForestClassifier\n",
    "\n",
    "list=pd.read_csv('dataset.csv')\n",
    "X=list[['Honk_duration','RMS','Intersection density','WiFi density']].values\n",
    "X_d=pd.DataFrame(X)\n",
    "y=list['Class'].values\n",
    "print(\"c\")\n",
    "y_d=pd.DataFrame(y)\n",
    "y_d_2=pd.get_dummies(y_d)\n",
    "X_train, X_test, y_train, y_test = train_test_split(X_d,y_d_2,test_size=0.2,random_state=42)\n",
    "print(\"b\")\n",
    "clf=RandomForestClassifier(n_estimators=130)\n",
    "clf.fit(X_train,y_train)\n",
    "print(\"a\")\n",
    "y_pred=clf.predict(X_test)\n",
    "print(y_pred)\n",
    "print(clf.score(X_test,y_test))"
   ]
  },
  {
   "cell_type": "code",
   "execution_count": 87,
   "metadata": {},
   "outputs": [
    {
     "name": "stdout",
     "output_type": "stream",
     "text": [
      "c\n",
      "b\n",
      "a\n",
      "[[0. 1. 0. 0.]\n",
      " [0. 1. 0. 0.]\n",
      " [0. 1. 0. 0.]\n",
      " ...\n",
      " [0. 0. 0. 0.]\n",
      " [0. 0. 0. 1.]\n",
      " [0. 1. 0. 0.]]\n",
      "0.6529080675422139\n"
     ]
    }
   ],
   "source": [
    "import pandas as pd\n",
    "import numpy as np\n",
    "\n",
    "from sklearn.model_selection import cross_val_score\n",
    "from sklearn.ensemble import RandomForestClassifier\n",
    "\n",
    "list=pd.read_csv('dataset.csv')\n",
    "X=list[['Honk_duration','RMS','Intersection count','WiFi density']].values\n",
    "X_d=pd.DataFrame(X)\n",
    "y=list['Class'].values\n",
    "print(\"c\")\n",
    "y_d=pd.DataFrame(y)\n",
    "y_d_2=pd.get_dummies(y_d)\n",
    "X_train, X_test, y_train, y_test = train_test_split(X_d,y_d_2,test_size=0.2,random_state=42)\n",
    "print(\"b\")\n",
    "clf=RandomForestClassifier(n_estimators=170,max_depth=6)\n",
    "clf.fit(X_train,y_train)\n",
    "print(\"a\")\n",
    "y_pred=clf.predict(X_test)\n",
    "print(y_pred)\n",
    "print(clf.score(X_test,y_test))"
   ]
  },
  {
   "cell_type": "code",
   "execution_count": 88,
   "metadata": {},
   "outputs": [
    {
     "name": "stdout",
     "output_type": "stream",
     "text": [
      "c\n",
      "b\n",
      "a\n",
      "[[0. 1. 0. 0.]\n",
      " [0. 1. 0. 0.]\n",
      " [0. 1. 0. 0.]\n",
      " ...\n",
      " [0. 1. 0. 0.]\n",
      " [0. 0. 0. 1.]\n",
      " [0. 1. 0. 0.]]\n",
      "0.6585365853658537\n"
     ]
    }
   ],
   "source": [
    "import pandas as pd\n",
    "import numpy as np\n",
    "\n",
    "from sklearn.model_selection import cross_val_score\n",
    "from sklearn.ensemble import RandomForestClassifier\n",
    "\n",
    "list=pd.read_csv('dataset.csv')\n",
    "X=list[['Honk_duration','RMS','Intersection count','WiFi density']].values\n",
    "X_d=pd.DataFrame(X)\n",
    "y=list['Class'].values\n",
    "print(\"c\")\n",
    "y_d=pd.DataFrame(y)\n",
    "y_d_2=pd.get_dummies(y_d)\n",
    "X_train, X_test, y_train, y_test = train_test_split(X_d,y_d_2,test_size=0.2,random_state=42)\n",
    "print(\"b\")\n",
    "clf=RandomForestClassifier(n_estimators=170,max_depth=10)\n",
    "clf.fit(X_train,y_train)\n",
    "print(\"a\")\n",
    "y_pred=clf.predict(X_test)\n",
    "print(y_pred)\n",
    "print(clf.score(X_test,y_test))"
   ]
  },
  {
   "cell_type": "code",
   "execution_count": 89,
   "metadata": {},
   "outputs": [
    {
     "name": "stdout",
     "output_type": "stream",
     "text": [
      "c\n",
      "b\n",
      "a\n",
      "[[0. 1. 0. 0.]\n",
      " [0. 1. 0. 0.]\n",
      " [0. 1. 0. 0.]\n",
      " ...\n",
      " [0. 1. 0. 0.]\n",
      " [1. 0. 0. 0.]\n",
      " [0. 1. 0. 0.]]\n",
      "0.6547842401500938\n"
     ]
    }
   ],
   "source": [
    "import pandas as pd\n",
    "import numpy as np\n",
    "\n",
    "from sklearn.model_selection import cross_val_score\n",
    "from sklearn.ensemble import RandomForestClassifier\n",
    "\n",
    "list=pd.read_csv('dataset.csv')\n",
    "X=list[['Honk_duration','RMS','Intersection count','WiFi density']].values\n",
    "X_d=pd.DataFrame(X)\n",
    "y=list['Class'].values\n",
    "print(\"c\")\n",
    "y_d=pd.DataFrame(y)\n",
    "y_d_2=pd.get_dummies(y_d)\n",
    "X_train, X_test, y_train, y_test = train_test_split(X_d,y_d_2,test_size=0.2,random_state=42)\n",
    "print(\"b\")\n",
    "clf=RandomForestClassifier(n_estimators=170,max_depth=15)\n",
    "clf.fit(X_train,y_train)\n",
    "print(\"a\")\n",
    "y_pred=clf.predict(X_test)\n",
    "print(y_pred)\n",
    "print(clf.score(X_test,y_test))"
   ]
  },
  {
   "cell_type": "code",
   "execution_count": 90,
   "metadata": {},
   "outputs": [
    {
     "name": "stdout",
     "output_type": "stream",
     "text": [
      "c\n",
      "b\n",
      "a\n",
      "[[0. 1. 0. 0.]\n",
      " [0. 1. 0. 0.]\n",
      " [0. 1. 0. 0.]\n",
      " ...\n",
      " [0. 1. 0. 0.]\n",
      " [0. 0. 0. 0.]\n",
      " [0. 1. 0. 0.]]\n",
      "0.6566604127579737\n"
     ]
    }
   ],
   "source": [
    "import pandas as pd\n",
    "import numpy as np\n",
    "\n",
    "from sklearn.model_selection import cross_val_score\n",
    "from sklearn.ensemble import RandomForestClassifier\n",
    "\n",
    "list=pd.read_csv('dataset.csv')\n",
    "X=list[['Honk_duration','RMS','Intersection count','WiFi density']].values\n",
    "X_d=pd.DataFrame(X)\n",
    "y=list['Class'].values\n",
    "print(\"c\")\n",
    "y_d=pd.DataFrame(y)\n",
    "y_d_2=pd.get_dummies(y_d)\n",
    "X_train, X_test, y_train, y_test = train_test_split(X_d,y_d_2,test_size=0.2,random_state=42)\n",
    "print(\"b\")\n",
    "clf=RandomForestClassifier(n_estimators=170,max_depth=12)\n",
    "clf.fit(X_train,y_train)\n",
    "print(\"a\")\n",
    "y_pred=clf.predict(X_test)\n",
    "print(y_pred)\n",
    "print(clf.score(X_test,y_test))"
   ]
  },
  {
   "cell_type": "code",
   "execution_count": 99,
   "metadata": {},
   "outputs": [
    {
     "name": "stdout",
     "output_type": "stream",
     "text": [
      "c\n",
      "b\n",
      "a\n",
      "[[0. 1. 0. 0.]\n",
      " [0. 1. 0. 0.]\n",
      " [0. 1. 0. 0.]\n",
      " ...\n",
      " [0. 1. 0. 0.]\n",
      " [0. 0. 0. 1.]\n",
      " [0. 1. 0. 0.]]\n",
      "0.6632270168855535\n"
     ]
    }
   ],
   "source": [
    "import pandas as pd\n",
    "import numpy as np\n",
    "\n",
    "from sklearn.model_selection import cross_val_score\n",
    "from sklearn.ensemble import RandomForestClassifier\n",
    "\n",
    "list=pd.read_csv('dataset.csv')\n",
    "X=list[['Honk_duration','RMS','Intersection count','WiFi density']].values\n",
    "X_d=pd.DataFrame(X)\n",
    "y=list['Class'].values\n",
    "print(\"c\")\n",
    "y_d=pd.DataFrame(y)\n",
    "y_d_2=pd.get_dummies(y_d)\n",
    "X_train, X_test, y_train, y_test = train_test_split(X_d,y_d_2,test_size=0.2,random_state=42)\n",
    "print(\"b\")\n",
    "clf=RandomForestClassifier(n_estimators=170,max_depth=10,min_samples_split=5)\n",
    "clf.fit(X_train,y_train)\n",
    "print(\"a\")\n",
    "y_pred=clf.predict(X_test)\n",
    "print(y_pred)\n",
    "print(clf.score(X_test,y_test))"
   ]
  },
  {
   "cell_type": "code",
   "execution_count": 92,
   "metadata": {},
   "outputs": [
    {
     "name": "stdout",
     "output_type": "stream",
     "text": [
      "c\n",
      "b\n",
      "a\n",
      "[[0. 1. 0. 0.]\n",
      " [0. 1. 0. 0.]\n",
      " [0. 1. 0. 0.]\n",
      " ...\n",
      " [0. 1. 0. 0.]\n",
      " [0. 0. 0. 1.]\n",
      " [0. 1. 0. 0.]]\n",
      "0.6529080675422139\n"
     ]
    }
   ],
   "source": [
    "import pandas as pd\n",
    "import numpy as np\n",
    "\n",
    "from sklearn.model_selection import cross_val_score\n",
    "from sklearn.ensemble import RandomForestClassifier\n",
    "\n",
    "list=pd.read_csv('dataset.csv')\n",
    "X=list[['Honk_duration','RMS','Intersection count','WiFi density']].values\n",
    "X_d=pd.DataFrame(X)\n",
    "y=list['Class'].values\n",
    "print(\"c\")\n",
    "y_d=pd.DataFrame(y)\n",
    "y_d_2=pd.get_dummies(y_d)\n",
    "X_train, X_test, y_train, y_test = train_test_split(X_d,y_d_2,test_size=0.2,random_state=42)\n",
    "print(\"b\")\n",
    "clf=RandomForestClassifier(n_estimators=170,max_depth=10,min_samples_split=9)\n",
    "clf.fit(X_train,y_train)\n",
    "print(\"a\")\n",
    "y_pred=clf.predict(X_test)\n",
    "print(y_pred)\n",
    "print(clf.score(X_test,y_test))"
   ]
  },
  {
   "cell_type": "code",
   "execution_count": 93,
   "metadata": {},
   "outputs": [
    {
     "name": "stdout",
     "output_type": "stream",
     "text": [
      "c\n",
      "b\n",
      "a\n",
      "[[0. 1. 0. 0.]\n",
      " [0. 1. 0. 0.]\n",
      " [0. 1. 0. 0.]\n",
      " ...\n",
      " [0. 1. 0. 0.]\n",
      " [0. 0. 0. 1.]\n",
      " [0. 1. 0. 0.]]\n",
      "0.648217636022514\n"
     ]
    }
   ],
   "source": [
    "import pandas as pd\n",
    "import numpy as np\n",
    "\n",
    "from sklearn.model_selection import cross_val_score\n",
    "from sklearn.ensemble import RandomForestClassifier\n",
    "\n",
    "list=pd.read_csv('dataset.csv')\n",
    "X=list[['Honk_duration','RMS','Intersection count','WiFi density']].values\n",
    "X_d=pd.DataFrame(X)\n",
    "y=list['Class'].values\n",
    "print(\"c\")\n",
    "y_d=pd.DataFrame(y)\n",
    "y_d_2=pd.get_dummies(y_d)\n",
    "X_train, X_test, y_train, y_test = train_test_split(X_d,y_d_2,test_size=0.2,random_state=42)\n",
    "print(\"b\")\n",
    "clf=RandomForestClassifier(n_estimators=170,max_depth=10,min_samples_split=8)\n",
    "clf.fit(X_train,y_train)\n",
    "print(\"a\")\n",
    "y_pred=clf.predict(X_test)\n",
    "print(y_pred)\n",
    "print(clf.score(X_test,y_test))"
   ]
  },
  {
   "cell_type": "code",
   "execution_count": 94,
   "metadata": {},
   "outputs": [
    {
     "name": "stdout",
     "output_type": "stream",
     "text": [
      "c\n",
      "b\n",
      "a\n",
      "[[0. 1. 0. 0.]\n",
      " [0. 1. 0. 0.]\n",
      " [0. 1. 0. 0.]\n",
      " ...\n",
      " [0. 1. 0. 0.]\n",
      " [0. 0. 0. 1.]\n",
      " [0. 1. 0. 0.]]\n",
      "0.6557223264540337\n"
     ]
    }
   ],
   "source": [
    "import pandas as pd\n",
    "import numpy as np\n",
    "\n",
    "from sklearn.model_selection import cross_val_score\n",
    "from sklearn.ensemble import RandomForestClassifier\n",
    "\n",
    "list=pd.read_csv('dataset.csv')\n",
    "X=list[['Honk_duration','RMS','Intersection count','WiFi density']].values\n",
    "X_d=pd.DataFrame(X)\n",
    "y=list['Class'].values\n",
    "print(\"c\")\n",
    "y_d=pd.DataFrame(y)\n",
    "y_d_2=pd.get_dummies(y_d)\n",
    "X_train, X_test, y_train, y_test = train_test_split(X_d,y_d_2,test_size=0.2,random_state=42)\n",
    "print(\"b\")\n",
    "clf=RandomForestClassifier(n_estimators=170,max_depth=10,min_samples_split=7)\n",
    "clf.fit(X_train,y_train)\n",
    "print(\"a\")\n",
    "y_pred=clf.predict(X_test)\n",
    "print(y_pred)\n",
    "print(clf.score(X_test,y_test))"
   ]
  },
  {
   "cell_type": "code",
   "execution_count": 95,
   "metadata": {},
   "outputs": [
    {
     "name": "stdout",
     "output_type": "stream",
     "text": [
      "c\n",
      "b\n",
      "a\n",
      "[[0. 1. 0. 0.]\n",
      " [0. 1. 0. 0.]\n",
      " [0. 1. 0. 0.]\n",
      " ...\n",
      " [0. 1. 0. 0.]\n",
      " [0. 0. 0. 0.]\n",
      " [0. 1. 0. 0.]]\n",
      "0.6575984990619137\n"
     ]
    }
   ],
   "source": [
    "import pandas as pd\n",
    "import numpy as np\n",
    "\n",
    "from sklearn.model_selection import cross_val_score\n",
    "from sklearn.ensemble import RandomForestClassifier\n",
    "\n",
    "list=pd.read_csv('dataset.csv')\n",
    "X=list[['Honk_duration','RMS','Intersection count','WiFi density']].values\n",
    "X_d=pd.DataFrame(X)\n",
    "y=list['Class'].values\n",
    "print(\"c\")\n",
    "y_d=pd.DataFrame(y)\n",
    "y_d_2=pd.get_dummies(y_d)\n",
    "X_train, X_test, y_train, y_test = train_test_split(X_d,y_d_2,test_size=0.2,random_state=42)\n",
    "print(\"b\")\n",
    "clf=RandomForestClassifier(n_estimators=170,max_depth=10,min_samples_split=4)\n",
    "clf.fit(X_train,y_train)\n",
    "print(\"a\")\n",
    "y_pred=clf.predict(X_test)\n",
    "print(y_pred)\n",
    "print(clf.score(X_test,y_test))"
   ]
  },
  {
   "cell_type": "code",
   "execution_count": 96,
   "metadata": {},
   "outputs": [
    {
     "name": "stdout",
     "output_type": "stream",
     "text": [
      "c\n",
      "b\n",
      "a\n",
      "[[0. 1. 0. 0.]\n",
      " [0. 1. 0. 0.]\n",
      " [0. 1. 0. 0.]\n",
      " ...\n",
      " [0. 1. 0. 0.]\n",
      " [0. 0. 0. 0.]\n",
      " [0. 1. 0. 0.]]\n",
      "0.6519699812382739\n"
     ]
    }
   ],
   "source": [
    "import pandas as pd\n",
    "import numpy as np\n",
    "\n",
    "from sklearn.model_selection import cross_val_score\n",
    "from sklearn.ensemble import RandomForestClassifier\n",
    "\n",
    "list=pd.read_csv('dataset.csv')\n",
    "X=list[['Honk_duration','RMS','Intersection count','WiFi density']].values\n",
    "X_d=pd.DataFrame(X)\n",
    "y=list['Class'].values\n",
    "print(\"c\")\n",
    "y_d=pd.DataFrame(y)\n",
    "y_d_2=pd.get_dummies(y_d)\n",
    "X_train, X_test, y_train, y_test = train_test_split(X_d,y_d_2,test_size=0.2,random_state=42)\n",
    "print(\"b\")\n",
    "clf=RandomForestClassifier(n_estimators=170,max_depth=10,min_samples_split=5,min_samples_leaf=4)\n",
    "clf.fit(X_train,y_train)\n",
    "print(\"a\")\n",
    "y_pred=clf.predict(X_test)\n",
    "print(y_pred)\n",
    "print(clf.score(X_test,y_test))"
   ]
  },
  {
   "cell_type": "code",
   "execution_count": 97,
   "metadata": {},
   "outputs": [
    {
     "name": "stdout",
     "output_type": "stream",
     "text": [
      "c\n",
      "b\n",
      "a\n",
      "[[0. 1. 0. 0.]\n",
      " [0. 1. 0. 0.]\n",
      " [0. 1. 0. 0.]\n",
      " ...\n",
      " [0. 1. 0. 0.]\n",
      " [0. 0. 0. 0.]\n",
      " [0. 1. 0. 0.]]\n",
      "0.6575984990619137\n"
     ]
    }
   ],
   "source": [
    "import pandas as pd\n",
    "import numpy as np\n",
    "\n",
    "from sklearn.model_selection import cross_val_score\n",
    "from sklearn.ensemble import RandomForestClassifier\n",
    "\n",
    "list=pd.read_csv('dataset.csv')\n",
    "X=list[['Honk_duration','RMS','Intersection count','WiFi density']].values\n",
    "X_d=pd.DataFrame(X)\n",
    "y=list['Class'].values\n",
    "print(\"c\")\n",
    "y_d=pd.DataFrame(y)\n",
    "y_d_2=pd.get_dummies(y_d)\n",
    "X_train, X_test, y_train, y_test = train_test_split(X_d,y_d_2,test_size=0.2,random_state=42)\n",
    "print(\"b\")\n",
    "clf=RandomForestClassifier(n_estimators=170,max_depth=10,min_samples_split=5,min_samples_leaf=2)\n",
    "clf.fit(X_train,y_train)\n",
    "print(\"a\")\n",
    "y_pred=clf.predict(X_test)\n",
    "print(y_pred)\n",
    "print(clf.score(X_test,y_test))"
   ]
  },
  {
   "cell_type": "code",
   "execution_count": 98,
   "metadata": {},
   "outputs": [
    {
     "name": "stdout",
     "output_type": "stream",
     "text": [
      "c\n",
      "b\n",
      "a\n",
      "[[0. 1. 0. 0.]\n",
      " [0. 1. 0. 0.]\n",
      " [0. 1. 0. 0.]\n",
      " ...\n",
      " [0. 1. 0. 0.]\n",
      " [0. 0. 0. 1.]\n",
      " [0. 1. 0. 0.]]\n",
      "0.6538461538461539\n"
     ]
    }
   ],
   "source": [
    "import pandas as pd\n",
    "import numpy as np\n",
    "import seaborn as sns\n",
    "from sklearn.model_selection import cross_val_score\n",
    "from sklearn.ensemble import RandomForestClassifier\n",
    "\n",
    "list=pd.read_csv('dataset.csv')\n",
    "X=list[['Honk_duration','RMS','Intersection count','WiFi density']].values\n",
    "X_d=pd.DataFrame(X)\n",
    "y=list['Class'].values\n",
    "print(\"c\")\n",
    "y_d=pd.DataFrame(y)\n",
    "y_d_2=pd.get_dummies(y_d)\n",
    "X_train, X_test, y_train, y_test = train_test_split(X_d,y_d_2,test_size=0.2,random_state=42)\n",
    "print(\"b\")\n",
    "clf=RandomForestClassifier(n_estimators=170,max_depth=10,min_samples_split=5)\n",
    "clf.fit(X_train,y_train)\n",
    "print(\"a\")\n",
    "y_pred=clf.predict(X_test)\n",
    "print(y_pred)\n",
    "print(clf.score(X_test,y_test))"
   ]
  },
  {
   "cell_type": "code",
   "execution_count": 103,
   "metadata": {},
   "outputs": [
    {
     "name": "stdout",
     "output_type": "stream",
     "text": [
      "c\n",
      "b\n"
     ]
    },
    {
     "name": "stderr",
     "output_type": "stream",
     "text": [
      "No handles with labels found to put in legend.\n"
     ]
    },
    {
     "name": "stdout",
     "output_type": "stream",
     "text": [
      "a\n",
      "[[0. 1. 0. 0.]\n",
      " [0. 1. 0. 0.]\n",
      " [0. 1. 0. 0.]\n",
      " ...\n",
      " [0. 1. 0. 0.]\n",
      " [0. 0. 0. 1.]\n",
      " [0. 1. 0. 0.]]\n",
      "0.6613508442776735\n"
     ]
    },
    {
     "data": {
      "image/png": "[encoded data removed]",
      "text/plain": [
       "<matplotlib.figure.Figure at 0x7f020c859cc0>"
      ]
     },
     "metadata": {
      "needs_background": "light"
     },
     "output_type": "display_data"
    }
   ],
   "source": [
    "import pandas as pd\n",
    "import numpy as np\n",
    "import seaborn as sns\n",
    "from sklearn.model_selection import cross_val_score\n",
    "from sklearn.ensemble import RandomForestClassifier\n",
    "\n",
    "list=pd.read_csv('dataset.csv')\n",
    "X=list[['Honk_duration','RMS','Intersection count','WiFi density']].values\n",
    "X_d=pd.DataFrame(X)\n",
    "y=list['Class'].values\n",
    "print(\"c\")\n",
    "y_d=pd.DataFrame(y)\n",
    "y_d_2=pd.get_dummies(y_d)\n",
    "X_train, X_test, y_train, y_test = train_test_split(X_d,y_d_2,test_size=0.2,random_state=42)\n",
    "print(\"b\")\n",
    "clf=RandomForestClassifier(n_estimators=170,max_depth=10,min_samples_split=5)\n",
    "clf.fit(X_train,y_train)\n",
    "print(\"a\")\n",
    "y_pred=clf.predict(X_test)\n",
    "print(y_pred)\n",
    "print(clf.score(X_test,y_test))\n",
    "feature_imp = pd.Series(clf.feature_importances_,index=['Honk_duration','RMS','Intersection count','WiFi density']).sort_values(ascending=False)\n",
    "sns.barplot(x=feature_imp, y=feature_imp.index)\n",
    "# Add labels to your graph\n",
    "plt.xlabel('Feature Importance Score')\n",
    "plt.ylabel('Features')\n",
    "plt.title(\"Visualizing Important Features\")\n",
    "plt.legend()\n",
    "plt.show()\n"
   ]
  },
  {
   "cell_type": "code",
   "execution_count": 106,
   "metadata": {},
   "outputs": [
    {
     "name": "stdout",
     "output_type": "stream",
     "text": [
      "[[ 292  203    1   56]\n",
      " [ 158 1032   29   14]\n",
      " [   7  100   62    0]\n",
      " [  48    9    0  121]]\n",
      "              precision    recall  f1-score   support\n",
      "\n",
      "        Fast       0.58      0.53      0.55       552\n",
      "      Normal       0.77      0.84      0.80      1233\n",
      "        Slow       0.67      0.37      0.48       169\n",
      "   Very Fast       0.63      0.68      0.66       178\n",
      "\n",
      "   micro avg       0.71      0.71      0.71      2132\n",
      "   macro avg       0.66      0.60      0.62      2132\n",
      "weighted avg       0.70      0.71      0.70      2132\n",
      "\n"
     ]
    }
   ],
   "source": [
    "from sklearn.metrics import classification_report\n",
    "from sklearn.metrics import confusion_matrix\n",
    "from sklearn.ensemble import RandomForestClassifier\n",
    "import pandas as pd\n",
    "# Create training and test set\n",
    "X_train, X_test, y_train, y_test = train_test_split(X,y,test_size=0.4,random_state=42)\n",
    "# Instantiate a k-NN classifier: knn\n",
    "\n",
    "list=pd.read_csv('dataset.csv')\n",
    "x=['Honk_duration','RMS','Intersection density','WiFi density']\n",
    "X=list[['Honk_duration','RMS','Intersection density','WiFi density']].values\n",
    "X_d=pd.DataFrame(X)\n",
    "Y=list['Class'].values\n",
    "Y_d=pd.DataFrame(Y)\n",
    "Y_d_2=pd.get_dummies(Y_d)\n",
    "clf=RandomForestClassifier(n_estimators=170,max_depth=10,min_samples_split=5)\n",
    "\n",
    "# Fit the classifier to the training data\n",
    "clf.fit(X_train,y_train)\n",
    "\n",
    "# Predict the labels of the test data: y_pred\n",
    "y_pred = clf.predict(X_test)\n",
    "\n",
    "# Generate the confusion matrix and classification report\n",
    "print(confusion_matrix(y_test,y_pred))\n",
    "print(classification_report(y_test,y_pred))"
   ]
  },
  {
   "cell_type": "code",
   "execution_count": 117,
   "metadata": {},
   "outputs": [
    {
     "ename": "ValueError",
     "evalue": "bad input shape (3197, 4)",
     "output_type": "error",
     "traceback": [
      "\u001b[0;31m---------------------------------------------------------------------------\u001b[0m",
      "\u001b[0;31mValueError\u001b[0m                                Traceback (most recent call last)",
      "\u001b[0;32m<ipython-input-117-c24d3d8f04fc>\u001b[0m in \u001b[0;36m<module>\u001b[0;34m\u001b[0m\n\u001b[1;32m     18\u001b[0m \u001b[0mgbc\u001b[0m\u001b[0;34m=\u001b[0m\u001b[0mGradientBoostingClassifier\u001b[0m\u001b[0;34m(\u001b[0m\u001b[0mlearning_rate\u001b[0m\u001b[0;34m=\u001b[0m\u001b[0;36m0.3\u001b[0m\u001b[0;34m,\u001b[0m\u001b[0mn_estimators\u001b[0m\u001b[0;34m=\u001b[0m\u001b[0;36m100\u001b[0m\u001b[0;34m,\u001b[0m\u001b[0mmax_depth\u001b[0m\u001b[0;34m=\u001b[0m\u001b[0;36m6\u001b[0m\u001b[0;34m,\u001b[0m\u001b[0mmin_samples_split\u001b[0m\u001b[0;34m=\u001b[0m\u001b[0;36m3\u001b[0m\u001b[0;34m,\u001b[0m\u001b[0mmin_samples_leaf\u001b[0m\u001b[0;34m=\u001b[0m\u001b[0;36m3\u001b[0m\u001b[0;34m)\u001b[0m\u001b[0;34m\u001b[0m\u001b[0;34m\u001b[0m\u001b[0m\n\u001b[1;32m     19\u001b[0m \u001b[0;34m\u001b[0m\u001b[0m\n\u001b[0;32m---> 20\u001b[0;31m \u001b[0mgbc\u001b[0m\u001b[0;34m.\u001b[0m\u001b[0mfit\u001b[0m\u001b[0;34m(\u001b[0m\u001b[0mX_train\u001b[0m\u001b[0;34m,\u001b[0m\u001b[0my_train\u001b[0m\u001b[0;34m)\u001b[0m\u001b[0;34m\u001b[0m\u001b[0;34m\u001b[0m\u001b[0m\n\u001b[0m\u001b[1;32m     21\u001b[0m \u001b[0my_pred\u001b[0m\u001b[0;34m=\u001b[0m\u001b[0mgbc\u001b[0m\u001b[0;34m.\u001b[0m\u001b[0mpredict\u001b[0m\u001b[0;34m(\u001b[0m\u001b[0mX_test\u001b[0m\u001b[0;34m)\u001b[0m\u001b[0;34m\u001b[0m\u001b[0;34m\u001b[0m\u001b[0m\n\u001b[1;32m     22\u001b[0m \u001b[0;34m\u001b[0m\u001b[0m\n",
      "\u001b[0;32m~/.local/lib/python3.6/site-packages/sklearn/ensemble/gradient_boosting.py\u001b[0m in \u001b[0;36mfit\u001b[0;34m(self, X, y, sample_weight, monitor)\u001b[0m\n\u001b[1;32m   1393\u001b[0m \u001b[0;34m\u001b[0m\u001b[0m\n\u001b[1;32m   1394\u001b[0m         \u001b[0;31m# Check input\u001b[0m\u001b[0;34m\u001b[0m\u001b[0;34m\u001b[0m\u001b[0;34m\u001b[0m\u001b[0m\n\u001b[0;32m-> 1395\u001b[0;31m         \u001b[0mX\u001b[0m\u001b[0;34m,\u001b[0m \u001b[0my\u001b[0m \u001b[0;34m=\u001b[0m \u001b[0mcheck_X_y\u001b[0m\u001b[0;34m(\u001b[0m\u001b[0mX\u001b[0m\u001b[0;34m,\u001b[0m \u001b[0my\u001b[0m\u001b[0;34m,\u001b[0m \u001b[0maccept_sparse\u001b[0m\u001b[0;34m=\u001b[0m\u001b[0;34m[\u001b[0m\u001b[0;34m'csr'\u001b[0m\u001b[0;34m,\u001b[0m \u001b[0;34m'csc'\u001b[0m\u001b[0;34m,\u001b[0m \u001b[0;34m'coo'\u001b[0m\u001b[0;34m]\u001b[0m\u001b[0;34m,\u001b[0m \u001b[0mdtype\u001b[0m\u001b[0;34m=\u001b[0m\u001b[0mDTYPE\u001b[0m\u001b[0;34m)\u001b[0m\u001b[0;34m\u001b[0m\u001b[0;34m\u001b[0m\u001b[0m\n\u001b[0m\u001b[1;32m   1396\u001b[0m         \u001b[0mn_samples\u001b[0m\u001b[0;34m,\u001b[0m \u001b[0mself\u001b[0m\u001b[0;34m.\u001b[0m\u001b[0mn_features_\u001b[0m \u001b[0;34m=\u001b[0m \u001b[0mX\u001b[0m\u001b[0;34m.\u001b[0m\u001b[0mshape\u001b[0m\u001b[0;34m\u001b[0m\u001b[0;34m\u001b[0m\u001b[0m\n\u001b[1;32m   1397\u001b[0m         \u001b[0;32mif\u001b[0m \u001b[0msample_weight\u001b[0m \u001b[0;32mis\u001b[0m \u001b[0;32mNone\u001b[0m\u001b[0;34m:\u001b[0m\u001b[0;34m\u001b[0m\u001b[0;34m\u001b[0m\u001b[0m\n",
      "\u001b[0;32m~/.local/lib/python3.6/site-packages/sklearn/utils/validation.py\u001b[0m in \u001b[0;36mcheck_X_y\u001b[0;34m(X, y, accept_sparse, accept_large_sparse, dtype, order, copy, force_all_finite, ensure_2d, allow_nd, multi_output, ensure_min_samples, ensure_min_features, y_numeric, warn_on_dtype, estimator)\u001b[0m\n\u001b[1;32m    759\u001b[0m                         dtype=None)\n\u001b[1;32m    760\u001b[0m     \u001b[0;32melse\u001b[0m\u001b[0;34m:\u001b[0m\u001b[0;34m\u001b[0m\u001b[0;34m\u001b[0m\u001b[0m\n\u001b[0;32m--> 761\u001b[0;31m         \u001b[0my\u001b[0m \u001b[0;34m=\u001b[0m \u001b[0mcolumn_or_1d\u001b[0m\u001b[0;34m(\u001b[0m\u001b[0my\u001b[0m\u001b[0;34m,\u001b[0m \u001b[0mwarn\u001b[0m\u001b[0;34m=\u001b[0m\u001b[0;32mTrue\u001b[0m\u001b[0;34m)\u001b[0m\u001b[0;34m\u001b[0m\u001b[0;34m\u001b[0m\u001b[0m\n\u001b[0m\u001b[1;32m    762\u001b[0m         \u001b[0m_assert_all_finite\u001b[0m\u001b[0;34m(\u001b[0m\u001b[0my\u001b[0m\u001b[0;34m)\u001b[0m\u001b[0;34m\u001b[0m\u001b[0;34m\u001b[0m\u001b[0m\n\u001b[1;32m    763\u001b[0m     \u001b[0;32mif\u001b[0m \u001b[0my_numeric\u001b[0m \u001b[0;32mand\u001b[0m \u001b[0my\u001b[0m\u001b[0;34m.\u001b[0m\u001b[0mdtype\u001b[0m\u001b[0;34m.\u001b[0m\u001b[0mkind\u001b[0m \u001b[0;34m==\u001b[0m \u001b[0;34m'O'\u001b[0m\u001b[0;34m:\u001b[0m\u001b[0;34m\u001b[0m\u001b[0;34m\u001b[0m\u001b[0m\n",
      "\u001b[0;32m~/.local/lib/python3.6/site-packages/sklearn/utils/validation.py\u001b[0m in \u001b[0;36mcolumn_or_1d\u001b[0;34m(y, warn)\u001b[0m\n\u001b[1;32m    795\u001b[0m         \u001b[0;32mreturn\u001b[0m \u001b[0mnp\u001b[0m\u001b[0;34m.\u001b[0m\u001b[0mravel\u001b[0m\u001b[0;34m(\u001b[0m\u001b[0my\u001b[0m\u001b[0;34m)\u001b[0m\u001b[0;34m\u001b[0m\u001b[0;34m\u001b[0m\u001b[0m\n\u001b[1;32m    796\u001b[0m \u001b[0;34m\u001b[0m\u001b[0m\n\u001b[0;32m--> 797\u001b[0;31m     \u001b[0;32mraise\u001b[0m \u001b[0mValueError\u001b[0m\u001b[0;34m(\u001b[0m\u001b[0;34m\"bad input shape {0}\"\u001b[0m\u001b[0;34m.\u001b[0m\u001b[0mformat\u001b[0m\u001b[0;34m(\u001b[0m\u001b[0mshape\u001b[0m\u001b[0;34m)\u001b[0m\u001b[0;34m)\u001b[0m\u001b[0;34m\u001b[0m\u001b[0;34m\u001b[0m\u001b[0m\n\u001b[0m\u001b[1;32m    798\u001b[0m \u001b[0;34m\u001b[0m\u001b[0m\n\u001b[1;32m    799\u001b[0m \u001b[0;34m\u001b[0m\u001b[0m\n",
      "\u001b[0;31mValueError\u001b[0m: bad input shape (3197, 4)"
     ]
    }
   ],
   "source": [
    "import pandas as pd\n",
    "import numpy as np\n",
    "from sklearn.model_selection import cross_val_score\n",
    "from sklearn.ensemble import GradientBoostingClassifier\n",
    "\n",
    "list=pd.read_csv('dataset.csv')\n",
    "\n",
    "X=list.drop(['Class','Time'],axis=1).values\n",
    "X_d=pd.DataFrame(X)\n",
    "y=list['Class'].values\n",
    "y_d=pd.DataFrame(y)\n",
    "\n",
    "X_d_2=pd.get_dummies(X_d)\n",
    "y_d_2=pd.get_dummies(y_d)\n",
    "\n",
    "X_train, X_test, y_train, y_test = train_test_split(X_d_2,Y_d_2,test_size=0.4,random_state=42)\n",
    "\n",
    "gbc=GradientBoostingClassifier(learning_rate=0.3,n_estimators=100,max_depth=6,min_samples_split=3,min_samples_leaf=3)\n",
    "\n",
    "gbc.fit(X_train,y_train)\n",
    "y_pred=gbc.predict(X_test)\n",
    "\n",
    "print(gbc.score(X_test,y_test))\n",
    "\n",
    "\n"
   ]
  },
  {
   "cell_type": "code",
   "execution_count": 123,
   "metadata": {},
   "outputs": [
    {
     "name": "stderr",
     "output_type": "stream",
     "text": [
      "/home/abhijit/.local/lib/python3.6/site-packages/sklearn/utils/validation.py:761: DataConversionWarning: A column-vector y was passed when a 1d array was expected. Please change the shape of y to (n_samples, ), for example using ravel().\n",
      "  y = column_or_1d(y, warn=True)\n"
     ]
    },
    {
     "name": "stdout",
     "output_type": "stream",
     "text": [
      "0.6679174484052532\n"
     ]
    }
   ],
   "source": [
    "import pandas as pd\n",
    "import numpy as np\n",
    "from sklearn.model_selection import cross_val_score\n",
    "from sklearn.ensemble import GradientBoostingClassifier\n",
    "\n",
    "list=pd.read_csv('dataset.csv')\n",
    "\n",
    "X=list[['Honk_duration','RMS','Intersection count','WiFi density']].values\n",
    "X_d=pd.DataFrame(X)\n",
    "y=list['Class'].values\n",
    "y_d=pd.DataFrame(y)\n",
    "\n",
    "X_d_2=pd.get_dummies(X_d)\n",
    "y_d_2=pd.get_dummies(y_d)\n",
    "\n",
    "X_train, X_test, y_train, y_test = train_test_split(X_d,Y_d,test_size=0.4,random_state=42)\n",
    "\n",
    "gbc=GradientBoostingClassifier(learning_rate=0.3,n_estimators=100,max_depth=6,min_samples_split=3,min_samples_leaf=3)\n",
    "\n",
    "gbc.fit(X_train,y_train)\n",
    "y_pred=gbc.predict(X_test)\n",
    "\n",
    "print(gbc.score(X_test,y_test))\n",
    "\n",
    "\n"
   ]
  },
  {
   "cell_type": "code",
   "execution_count": 124,
   "metadata": {},
   "outputs": [
    {
     "name": "stderr",
     "output_type": "stream",
     "text": [
      "/home/abhijit/.local/lib/python3.6/site-packages/sklearn/utils/validation.py:761: DataConversionWarning: A column-vector y was passed when a 1d array was expected. Please change the shape of y to (n_samples, ), for example using ravel().\n",
      "  y = column_or_1d(y, warn=True)\n"
     ]
    },
    {
     "name": "stdout",
     "output_type": "stream",
     "text": [
      "0.6693245778611632\n"
     ]
    }
   ],
   "source": [
    "import pandas as pd\n",
    "import numpy as np\n",
    "from sklearn.model_selection import cross_val_score\n",
    "from sklearn.ensemble import GradientBoostingClassifier\n",
    "\n",
    "list=pd.read_csv('dataset.csv')\n",
    "\n",
    "X=list[['Honk_duration','RMS','Intersection density','WiFi density']].values\n",
    "X_d=pd.DataFrame(X)\n",
    "y=list['Class'].values\n",
    "y_d=pd.DataFrame(y)\n",
    "\n",
    "X_d_2=pd.get_dummies(X_d)\n",
    "y_d_2=pd.get_dummies(y_d)\n",
    "\n",
    "X_train, X_test, y_train, y_test = train_test_split(X_d,Y_d,test_size=0.4,random_state=42)\n",
    "\n",
    "gbc=GradientBoostingClassifier(learning_rate=0.3,n_estimators=100,max_depth=6,min_samples_split=3,min_samples_leaf=3)\n",
    "\n",
    "gbc.fit(X_train,y_train)\n",
    "y_pred=gbc.predict(X_test)\n",
    "\n",
    "print(gbc.score(X_test,y_test))\n",
    "\n",
    "\n"
   ]
  },
  {
   "cell_type": "code",
   "execution_count": 125,
   "metadata": {},
   "outputs": [
    {
     "name": "stderr",
     "output_type": "stream",
     "text": [
      "/home/abhijit/.local/lib/python3.6/site-packages/sklearn/utils/validation.py:761: DataConversionWarning: A column-vector y was passed when a 1d array was expected. Please change the shape of y to (n_samples, ), for example using ravel().\n",
      "  y = column_or_1d(y, warn=True)\n"
     ]
    },
    {
     "name": "stdout",
     "output_type": "stream",
     "text": [
      "0.650562851782364\n"
     ]
    }
   ],
   "source": [
    "import pandas as pd\n",
    "import numpy as np\n",
    "from sklearn.model_selection import cross_val_score\n",
    "from sklearn.ensemble import GradientBoostingClassifier\n",
    "\n",
    "list=pd.read_csv('dataset.csv')\n",
    "\n",
    "X=list[['Honk_duration','RMS','Intersection count','WiFi count']].values\n",
    "X_d=pd.DataFrame(X)\n",
    "y=list['Class'].values\n",
    "y_d=pd.DataFrame(y)\n",
    "\n",
    "X_d_2=pd.get_dummies(X_d)\n",
    "y_d_2=pd.get_dummies(y_d)\n",
    "\n",
    "X_train, X_test, y_train, y_test = train_test_split(X_d,Y_d,test_size=0.4,random_state=42)\n",
    "\n",
    "gbc=GradientBoostingClassifier(learning_rate=0.3,n_estimators=100,max_depth=6,min_samples_split=3,min_samples_leaf=3)\n",
    "\n",
    "gbc.fit(X_train,y_train)\n",
    "y_pred=gbc.predict(X_test)\n",
    "\n",
    "print(gbc.score(X_test,y_test))\n",
    "\n",
    "\n"
   ]
  },
  {
   "cell_type": "code",
   "execution_count": 127,
   "metadata": {},
   "outputs": [
    {
     "name": "stderr",
     "output_type": "stream",
     "text": [
      "/home/abhijit/.local/lib/python3.6/site-packages/sklearn/utils/validation.py:761: DataConversionWarning: A column-vector y was passed when a 1d array was expected. Please change the shape of y to (n_samples, ), for example using ravel().\n",
      "  y = column_or_1d(y, warn=True)\n"
     ]
    },
    {
     "name": "stdout",
     "output_type": "stream",
     "text": [
      "0.6636960600375235\n"
     ]
    }
   ],
   "source": [
    "import pandas as pd\n",
    "import numpy as np\n",
    "from sklearn.model_selection import cross_val_score\n",
    "from sklearn.ensemble import GradientBoostingClassifier\n",
    "\n",
    "list=pd.read_csv('dataset.csv')\n",
    "\n",
    "X=list[['Honk_duration','RMS','Intersection density','WiFi density']].values\n",
    "X_d=pd.DataFrame(X)\n",
    "y=list['Class'].values\n",
    "y_d=pd.DataFrame(y)\n",
    "\n",
    "X_d_2=pd.get_dummies(X_d)\n",
    "y_d_2=pd.get_dummies(y_d)\n",
    "\n",
    "X_train, X_test, y_train, y_test = train_test_split(X_d,Y_d,test_size=0.4,random_state=42)\n",
    "\n",
    "gbc=GradientBoostingClassifier(learning_rate=0.3,n_estimators=100,max_depth=6,min_samples_split=3,min_samples_leaf=3)\n",
    "\n",
    "gbc.fit(X_train,y_train)\n",
    "y_pred=gbc.predict(X_test)\n",
    "\n",
    "print(gbc.score(X_test,y_test))\n",
    "\n",
    "\n"
   ]
  },
  {
   "cell_type": "code",
   "execution_count": 128,
   "metadata": {},
   "outputs": [
    {
     "name": "stderr",
     "output_type": "stream",
     "text": [
      "/home/abhijit/.local/lib/python3.6/site-packages/sklearn/utils/validation.py:761: DataConversionWarning: A column-vector y was passed when a 1d array was expected. Please change the shape of y to (n_samples, ), for example using ravel().\n",
      "  y = column_or_1d(y, warn=True)\n"
     ]
    },
    {
     "name": "stdout",
     "output_type": "stream",
     "text": [
      "0.6787054409005628\n"
     ]
    }
   ],
   "source": [
    "import pandas as pd\n",
    "import numpy as np\n",
    "from sklearn.model_selection import cross_val_score\n",
    "from sklearn.ensemble import GradientBoostingClassifier\n",
    "\n",
    "list=pd.read_csv('dataset.csv')\n",
    "\n",
    "X=list[['Honk_duration','RMS','Intersection density','WiFi density']].values\n",
    "X_d=pd.DataFrame(X)\n",
    "y=list['Class'].values\n",
    "y_d=pd.DataFrame(y)\n",
    "\n",
    "X_d_2=pd.get_dummies(X_d)\n",
    "y_d_2=pd.get_dummies(y_d)\n",
    "\n",
    "X_train, X_test, y_train, y_test = train_test_split(X_d,Y_d,test_size=0.4,random_state=42)\n",
    "\n",
    "gbc=GradientBoostingClassifier(learning_rate=0.2,n_estimators=100,max_depth=6,min_samples_split=3,min_samples_leaf=3)\n",
    "\n",
    "gbc.fit(X_train,y_train)\n",
    "y_pred=gbc.predict(X_test)\n",
    "\n",
    "print(gbc.score(X_test,y_test))\n",
    "\n",
    "\n"
   ]
  },
  {
   "cell_type": "code",
   "execution_count": 129,
   "metadata": {},
   "outputs": [
    {
     "name": "stderr",
     "output_type": "stream",
     "text": [
      "/home/abhijit/.local/lib/python3.6/site-packages/sklearn/utils/validation.py:761: DataConversionWarning: A column-vector y was passed when a 1d array was expected. Please change the shape of y to (n_samples, ), for example using ravel().\n",
      "  y = column_or_1d(y, warn=True)\n"
     ]
    },
    {
     "name": "stdout",
     "output_type": "stream",
     "text": [
      "0.6857410881801126\n"
     ]
    }
   ],
   "source": [
    "import pandas as pd\n",
    "import numpy as np\n",
    "from sklearn.model_selection import cross_val_score\n",
    "from sklearn.ensemble import GradientBoostingClassifier\n",
    "\n",
    "list=pd.read_csv('dataset.csv')\n",
    "\n",
    "X=list[['Honk_duration','RMS','Intersection density','WiFi density']].values\n",
    "X_d=pd.DataFrame(X)\n",
    "y=list['Class'].values\n",
    "y_d=pd.DataFrame(y)\n",
    "\n",
    "X_d_2=pd.get_dummies(X_d)\n",
    "y_d_2=pd.get_dummies(y_d)\n",
    "\n",
    "X_train, X_test, y_train, y_test = train_test_split(X_d,Y_d,test_size=0.4,random_state=42)\n",
    "\n",
    "gbc=GradientBoostingClassifier(learning_rate=0.1,n_estimators=100,max_depth=6,min_samples_split=3,min_samples_leaf=3)\n",
    "\n",
    "gbc.fit(X_train,y_train)\n",
    "y_pred=gbc.predict(X_test)\n",
    "\n",
    "print(gbc.score(X_test,y_test))\n",
    "\n",
    "\n"
   ]
  },
  {
   "cell_type": "code",
   "execution_count": 130,
   "metadata": {},
   "outputs": [
    {
     "name": "stderr",
     "output_type": "stream",
     "text": [
      "/home/abhijit/.local/lib/python3.6/site-packages/sklearn/utils/validation.py:761: DataConversionWarning: A column-vector y was passed when a 1d array was expected. Please change the shape of y to (n_samples, ), for example using ravel().\n",
      "  y = column_or_1d(y, warn=True)\n"
     ]
    },
    {
     "name": "stdout",
     "output_type": "stream",
     "text": [
      "0.6866791744840526\n"
     ]
    }
   ],
   "source": [
    "import pandas as pd\n",
    "import numpy as np\n",
    "from sklearn.model_selection import cross_val_score\n",
    "from sklearn.ensemble import GradientBoostingClassifier\n",
    "\n",
    "list=pd.read_csv('dataset.csv')\n",
    "\n",
    "X=list[['Honk_duration','RMS','Intersection density','WiFi density']].values\n",
    "X_d=pd.DataFrame(X)\n",
    "y=list['Class'].values\n",
    "y_d=pd.DataFrame(y)\n",
    "\n",
    "X_d_2=pd.get_dummies(X_d)\n",
    "y_d_2=pd.get_dummies(y_d)\n",
    "\n",
    "X_train, X_test, y_train, y_test = train_test_split(X_d,Y_d,test_size=0.4,random_state=42)\n",
    "\n",
    "gbc=GradientBoostingClassifier(learning_rate=0.1,n_estimators=120,max_depth=6,min_samples_split=3,min_samples_leaf=3)\n",
    "\n",
    "gbc.fit(X_train,y_train)\n",
    "y_pred=gbc.predict(X_test)\n",
    "\n",
    "print(gbc.score(X_test,y_test))\n",
    "\n",
    "\n"
   ]
  },
  {
   "cell_type": "code",
   "execution_count": 131,
   "metadata": {},
   "outputs": [
    {
     "name": "stderr",
     "output_type": "stream",
     "text": [
      "/home/abhijit/.local/lib/python3.6/site-packages/sklearn/utils/validation.py:761: DataConversionWarning: A column-vector y was passed when a 1d array was expected. Please change the shape of y to (n_samples, ), for example using ravel().\n",
      "  y = column_or_1d(y, warn=True)\n"
     ]
    },
    {
     "name": "stdout",
     "output_type": "stream",
     "text": [
      "0.6848030018761726\n"
     ]
    }
   ],
   "source": [
    "import pandas as pd\n",
    "import numpy as np\n",
    "from sklearn.model_selection import cross_val_score\n",
    "from sklearn.ensemble import GradientBoostingClassifier\n",
    "\n",
    "list=pd.read_csv('dataset.csv')\n",
    "\n",
    "X=list[['Honk_duration','RMS','Intersection density','WiFi density']].values\n",
    "X_d=pd.DataFrame(X)\n",
    "y=list['Class'].values\n",
    "y_d=pd.DataFrame(y)\n",
    "\n",
    "X_d_2=pd.get_dummies(X_d)\n",
    "y_d_2=pd.get_dummies(y_d)\n",
    "\n",
    "X_train, X_test, y_train, y_test = train_test_split(X_d,Y_d,test_size=0.4,random_state=42)\n",
    "\n",
    "gbc=GradientBoostingClassifier(learning_rate=0.1,n_estimators=130,max_depth=6,min_samples_split=3,min_samples_leaf=3)\n",
    "\n",
    "gbc.fit(X_train,y_train)\n",
    "y_pred=gbc.predict(X_test)\n",
    "\n",
    "print(gbc.score(X_test,y_test))\n",
    "\n",
    "\n"
   ]
  },
  {
   "cell_type": "code",
   "execution_count": 132,
   "metadata": {},
   "outputs": [
    {
     "name": "stderr",
     "output_type": "stream",
     "text": [
      "/home/abhijit/.local/lib/python3.6/site-packages/sklearn/utils/validation.py:761: DataConversionWarning: A column-vector y was passed when a 1d array was expected. Please change the shape of y to (n_samples, ), for example using ravel().\n",
      "  y = column_or_1d(y, warn=True)\n"
     ]
    },
    {
     "name": "stdout",
     "output_type": "stream",
     "text": [
      "0.6862101313320825\n"
     ]
    }
   ],
   "source": [
    "import pandas as pd\n",
    "import numpy as np\n",
    "from sklearn.model_selection import cross_val_score\n",
    "from sklearn.ensemble import GradientBoostingClassifier\n",
    "\n",
    "list=pd.read_csv('dataset.csv')\n",
    "\n",
    "X=list[['Honk_duration','RMS','Intersection density','WiFi density']].values\n",
    "X_d=pd.DataFrame(X)\n",
    "y=list['Class'].values\n",
    "y_d=pd.DataFrame(y)\n",
    "\n",
    "X_d_2=pd.get_dummies(X_d)\n",
    "y_d_2=pd.get_dummies(y_d)\n",
    "\n",
    "X_train, X_test, y_train, y_test = train_test_split(X_d,Y_d,test_size=0.4,random_state=42)\n",
    "\n",
    "gbc=GradientBoostingClassifier(learning_rate=0.1,n_estimators=125,max_depth=6,min_samples_split=3,min_samples_leaf=3)\n",
    "\n",
    "gbc.fit(X_train,y_train)\n",
    "y_pred=gbc.predict(X_test)\n",
    "\n",
    "print(gbc.score(X_test,y_test))\n",
    "\n",
    "\n"
   ]
  },
  {
   "cell_type": "code",
   "execution_count": 135,
   "metadata": {},
   "outputs": [
    {
     "name": "stderr",
     "output_type": "stream",
     "text": [
      "/home/abhijit/.local/lib/python3.6/site-packages/sklearn/utils/validation.py:761: DataConversionWarning: A column-vector y was passed when a 1d array was expected. Please change the shape of y to (n_samples, ), for example using ravel().\n",
      "  y = column_or_1d(y, warn=True)\n"
     ]
    },
    {
     "name": "stdout",
     "output_type": "stream",
     "text": [
      "0.6796435272045028\n"
     ]
    }
   ],
   "source": [
    "import pandas as pd\n",
    "import numpy as np\n",
    "from sklearn.model_selection import cross_val_score\n",
    "from sklearn.ensemble import GradientBoostingClassifier\n",
    "\n",
    "list=pd.read_csv('dataset.csv')\n",
    "\n",
    "X=list[['Honk_duration','RMS','Intersection density','WiFi density']].values\n",
    "X_d=pd.DataFrame(X)\n",
    "y=list['Class'].values\n",
    "y_d=pd.DataFrame(y)\n",
    "\n",
    "X_d_2=pd.get_dummies(X_d)\n",
    "y_d_2=pd.get_dummies(y_d)\n",
    "\n",
    "X_train, X_test, y_train, y_test = train_test_split(X_d,Y_d,test_size=0.4,random_state=42)\n",
    "\n",
    "gbc=GradientBoostingClassifier(learning_rate=0.1,n_estimators=120,max_depth=8,min_samples_split=3,min_samples_leaf=3)\n",
    "\n",
    "gbc.fit(X_train,y_train)\n",
    "y_pred=gbc.predict(X_test)\n",
    "\n",
    "print(gbc.score(X_test,y_test))\n",
    "\n",
    "\n"
   ]
  },
  {
   "cell_type": "code",
   "execution_count": 136,
   "metadata": {},
   "outputs": [
    {
     "name": "stderr",
     "output_type": "stream",
     "text": [
      "/home/abhijit/.local/lib/python3.6/site-packages/sklearn/utils/validation.py:761: DataConversionWarning: A column-vector y was passed when a 1d array was expected. Please change the shape of y to (n_samples, ), for example using ravel().\n",
      "  y = column_or_1d(y, warn=True)\n"
     ]
    },
    {
     "name": "stdout",
     "output_type": "stream",
     "text": [
      "0.6787054409005628\n"
     ]
    }
   ],
   "source": [
    "import pandas as pd\n",
    "import numpy as np\n",
    "from sklearn.model_selection import cross_val_score\n",
    "from sklearn.ensemble import GradientBoostingClassifier\n",
    "\n",
    "list=pd.read_csv('dataset.csv')\n",
    "\n",
    "X=list[['Honk_duration','RMS','Intersection density','WiFi density']].values\n",
    "X_d=pd.DataFrame(X)\n",
    "y=list['Class'].values\n",
    "y_d=pd.DataFrame(y)\n",
    "\n",
    "X_d_2=pd.get_dummies(X_d)\n",
    "y_d_2=pd.get_dummies(y_d)\n",
    "\n",
    "X_train, X_test, y_train, y_test = train_test_split(X_d,Y_d,test_size=0.4,random_state=42)\n",
    "\n",
    "gbc=GradientBoostingClassifier(learning_rate=0.1,n_estimators=120,max_depth=7,min_samples_split=3,min_samples_leaf=3)\n",
    "\n",
    "gbc.fit(X_train,y_train)\n",
    "y_pred=gbc.predict(X_test)\n",
    "\n",
    "print(gbc.score(X_test,y_test))\n",
    "\n",
    "\n"
   ]
  },
  {
   "cell_type": "code",
   "execution_count": 137,
   "metadata": {},
   "outputs": [
    {
     "name": "stderr",
     "output_type": "stream",
     "text": [
      "/home/abhijit/.local/lib/python3.6/site-packages/sklearn/utils/validation.py:761: DataConversionWarning: A column-vector y was passed when a 1d array was expected. Please change the shape of y to (n_samples, ), for example using ravel().\n",
      "  y = column_or_1d(y, warn=True)\n"
     ]
    },
    {
     "name": "stdout",
     "output_type": "stream",
     "text": [
      "0.6772983114446529\n"
     ]
    }
   ],
   "source": [
    "import pandas as pd\n",
    "import numpy as np\n",
    "from sklearn.model_selection import cross_val_score\n",
    "from sklearn.ensemble import GradientBoostingClassifier\n",
    "\n",
    "list=pd.read_csv('dataset.csv')\n",
    "\n",
    "X=list[['Honk_duration','RMS','Intersection density','WiFi density']].values\n",
    "X_d=pd.DataFrame(X)\n",
    "y=list['Class'].values\n",
    "y_d=pd.DataFrame(y)\n",
    "\n",
    "X_d_2=pd.get_dummies(X_d)\n",
    "y_d_2=pd.get_dummies(y_d)\n",
    "\n",
    "X_train, X_test, y_train, y_test = train_test_split(X_d,Y_d,test_size=0.4,random_state=42)\n",
    "\n",
    "gbc=GradientBoostingClassifier(learning_rate=0.1,n_estimators=120,max_depth=6,min_samples_split=5,min_samples_leaf=3)\n",
    "\n",
    "gbc.fit(X_train,y_train)\n",
    "y_pred=gbc.predict(X_test)\n",
    "\n",
    "print(gbc.score(X_test,y_test))\n",
    "\n",
    "\n"
   ]
  },
  {
   "cell_type": "code",
   "execution_count": 138,
   "metadata": {},
   "outputs": [
    {
     "name": "stderr",
     "output_type": "stream",
     "text": [
      "/home/abhijit/.local/lib/python3.6/site-packages/sklearn/utils/validation.py:761: DataConversionWarning: A column-vector y was passed when a 1d array was expected. Please change the shape of y to (n_samples, ), for example using ravel().\n",
      "  y = column_or_1d(y, warn=True)\n"
     ]
    },
    {
     "name": "stdout",
     "output_type": "stream",
     "text": [
      "0.6857410881801126\n"
     ]
    }
   ],
   "source": [
    "import pandas as pd\n",
    "import numpy as np\n",
    "from sklearn.model_selection import cross_val_score\n",
    "from sklearn.ensemble import GradientBoostingClassifier\n",
    "\n",
    "list=pd.read_csv('dataset.csv')\n",
    "\n",
    "X=list[['Honk_duration','RMS','Intersection density','WiFi density']].values\n",
    "X_d=pd.DataFrame(X)\n",
    "y=list['Class'].values\n",
    "y_d=pd.DataFrame(y)\n",
    "\n",
    "X_d_2=pd.get_dummies(X_d)\n",
    "y_d_2=pd.get_dummies(y_d)\n",
    "\n",
    "X_train, X_test, y_train, y_test = train_test_split(X_d,Y_d,test_size=0.4,random_state=42)\n",
    "\n",
    "gbc=GradientBoostingClassifier(learning_rate=0.1,n_estimators=120,max_depth=6,min_samples_split=2,min_samples_leaf=3)\n",
    "\n",
    "gbc.fit(X_train,y_train)\n",
    "y_pred=gbc.predict(X_test)\n",
    "\n",
    "print(gbc.score(X_test,y_test))\n",
    "\n",
    "\n"
   ]
  },
  {
   "cell_type": "code",
   "execution_count": 4,
   "metadata": {
    "scrolled": true
   },
   "outputs": [
    {
     "ename": "NameError",
     "evalue": "name 'Y_d' is not defined",
     "output_type": "error",
     "traceback": [
      "\u001b[0;31m---------------------------------------------------------------------------\u001b[0m",
      "\u001b[0;31mNameError\u001b[0m                                 Traceback (most recent call last)",
      "\u001b[0;32m<ipython-input-4-723419f63aaf>\u001b[0m in \u001b[0;36m<module>\u001b[0;34m\u001b[0m\n\u001b[1;32m     16\u001b[0m \u001b[0my_d_2\u001b[0m\u001b[0;34m=\u001b[0m\u001b[0mpd\u001b[0m\u001b[0;34m.\u001b[0m\u001b[0mget_dummies\u001b[0m\u001b[0;34m(\u001b[0m\u001b[0my_d\u001b[0m\u001b[0;34m)\u001b[0m\u001b[0;34m\u001b[0m\u001b[0;34m\u001b[0m\u001b[0m\n\u001b[1;32m     17\u001b[0m \u001b[0;34m\u001b[0m\u001b[0m\n\u001b[0;32m---> 18\u001b[0;31m \u001b[0mX_train\u001b[0m\u001b[0;34m,\u001b[0m \u001b[0mX_test\u001b[0m\u001b[0;34m,\u001b[0m \u001b[0my_train\u001b[0m\u001b[0;34m,\u001b[0m \u001b[0my_test\u001b[0m \u001b[0;34m=\u001b[0m \u001b[0mtrain_test_split\u001b[0m\u001b[0;34m(\u001b[0m\u001b[0mX_d\u001b[0m\u001b[0;34m,\u001b[0m\u001b[0mY_d\u001b[0m\u001b[0;34m,\u001b[0m\u001b[0mtest_size\u001b[0m\u001b[0;34m=\u001b[0m\u001b[0;36m0.4\u001b[0m\u001b[0;34m,\u001b[0m\u001b[0mrandom_state\u001b[0m\u001b[0;34m=\u001b[0m\u001b[0;36m42\u001b[0m\u001b[0;34m)\u001b[0m\u001b[0;34m\u001b[0m\u001b[0;34m\u001b[0m\u001b[0m\n\u001b[0m\u001b[1;32m     19\u001b[0m \u001b[0;34m\u001b[0m\u001b[0m\n\u001b[1;32m     20\u001b[0m \u001b[0mgbc\u001b[0m\u001b[0;34m=\u001b[0m\u001b[0mGradientBoostingClassifier\u001b[0m\u001b[0;34m(\u001b[0m\u001b[0mlearning_rate\u001b[0m\u001b[0;34m=\u001b[0m\u001b[0;36m0.1\u001b[0m\u001b[0;34m,\u001b[0m\u001b[0mn_estimators\u001b[0m\u001b[0;34m=\u001b[0m\u001b[0;36m120\u001b[0m\u001b[0;34m,\u001b[0m\u001b[0mmax_depth\u001b[0m\u001b[0;34m=\u001b[0m\u001b[0;36m6\u001b[0m\u001b[0;34m,\u001b[0m\u001b[0mmin_samples_split\u001b[0m\u001b[0;34m=\u001b[0m\u001b[0;36m2\u001b[0m\u001b[0;34m,\u001b[0m\u001b[0mmin_samples_leaf\u001b[0m\u001b[0;34m=\u001b[0m\u001b[0;36m3\u001b[0m\u001b[0;34m)\u001b[0m\u001b[0;34m\u001b[0m\u001b[0;34m\u001b[0m\u001b[0m\n",
      "\u001b[0;31mNameError\u001b[0m: name 'Y_d' is not defined"
     ]
    }
   ],
   "source": [
    "from sklearn.metrics import classification_report\n",
    "from sklearn.metrics import confusion_matrix\n",
    "import pandas as pd\n",
    "import numpy as np\n",
    "from sklearn.model_selection import cross_val_score\n",
    "from sklearn.ensemble import GradientBoostingClassifier\n",
    "\n",
    "list=pd.read_csv('dataset.csv')\n",
    "\n",
    "X=list[['Honk_duration','RMS','Intersection density','WiFi density']].values\n",
    "X_d=pd.DataFrame(X)\n",
    "y=list['Class'].values\n",
    "y_d=pd.DataFrame(y)\n",
    "\n",
    "X_d_2=pd.get_dummies(X_d)\n",
    "y_d_2=pd.get_dummies(y_d)\n",
    "\n",
    "X_train, X_test, y_train, y_test = train_test_split(X_d,Y_d,test_size=0.4,random_state=42)\n",
    "\n",
    "gbc=GradientBoostingClassifier(learning_rate=0.1,n_estimators=120,max_depth=6,min_samples_split=2,min_samples_leaf=3)\n",
    "\n",
    "gbc.fit(X_train,y_train)\n",
    "y_pred=gbc.predict(X_test)\n",
    "\n",
    "print(gbc.score(X_test,y_test))\n",
    "#y_pred = clf.predict(X_test)\n",
    "\n",
    "# Generate the confusion matrix and classification report\n",
    "print(confusion_matrix(y_test,y_pred))\n",
    "print(classification_report(y_test,y_pred))\n",
    "\n"
   ]
  },
  {
   "cell_type": "code",
   "execution_count": 8,
   "metadata": {
    "scrolled": false
   },
   "outputs": [
    {
     "name": "stdout",
     "output_type": "stream",
     "text": [
      "0.4821763602251407\n"
     ]
    }
   ],
   "source": [
    "from sklearn.preprocessing import MultiLabelBinarizer\n",
    "import pandas as pd\n",
    "import numpy as np\n",
    "from sklearn.model_selection import train_test_split\n",
    "from sklearn.tree import DecisionTreeClassifier\n",
    "\n",
    "list=pd.read_csv('6mar.csv')\n",
    "\n",
    "cond=list['Mean_speed_kmph'].values\n",
    "cond_d=pd.DataFrame(cond)\n",
    "X=list[['Honk_duration','Road_surface','Intersection density','WiFi density']].values\n",
    "X_d=pd.DataFrame(X)\n",
    "y=list[['SpeedRange']].values\n",
    "y_d=pd.DataFrame(y)\n",
    "y_d_2=pd.get_dummies(y_d)\n",
    "#print(y_d_2)\n",
    "#print(cond_d)\n",
    "y_d.loc[cond_d[0]<=22.5,'SpeedRange']=['1']\n",
    "y_d.loc[cond_d[0]>22.5,'SpeedRange']=['2']\n",
    "y_d.loc[cond_d[0]>37.5,'SpeedRange']=['3']\n",
    "y_d.loc[cond_d[0]>52.5,'SpeedRange']=['4']\n",
    "i=0\n",
    "#range=5328\n",
    "while i<5328:\n",
    "    if cond_d.iloc[i,0]>=18.5 and cond_d.iloc[i,0]<22.5:\n",
    "        y_d.at[i,'SpeedRange']=['1','2']\n",
    "    if cond_d.iloc[i,0]>=32.5 and cond_d.iloc[i,0]<37.5:\n",
    "        y_d.at[i,'SpeedRange']=['2','3']\n",
    "    if cond_d.iloc[i,0]>=47.5 and cond_d.iloc[i,0]<52.5:\n",
    "        y_d.at[i,'SpeedRange']=['3','4']\n",
    "    i=i+1\n",
    "    \n",
    "    \n",
    "#print(y_d['SpeedRange'])\n",
    "new_y=y_d['SpeedRange'].copy()\n",
    "new_y_d=pd.DataFrame(new_y)\n",
    "#print(new_y)\n",
    "y_l=new_y.values.tolist()\n",
    "\n",
    "#print(y_l)\n",
    "#print(y_l.type())\n",
    "new_y_d2=MultiLabelBinarizer().fit_transform(y_l)\n",
    "#print(new_y_d2)\n",
    "\n",
    "X_train,X_test,y_train,y_test=train_test_split(X_d,new_y_d2,test_size=0.4,random_state=21)\n",
    "clf = DecisionTreeClassifier(max_depth=9,min_samples_leaf=6)\n",
    "clf.fit(X_train,y_train)\n",
    "print(clf.score(X_test,y_test))\n",
    "\n",
    "\n",
    "\n",
    "\n"
   ]
  },
  {
   "cell_type": "code",
   "execution_count": 93,
   "metadata": {},
   "outputs": [
    {
     "ename": "AttributeError",
     "evalue": "'list' object has no attribute 'type'",
     "output_type": "error",
     "traceback": [
      "\u001b[0;31m---------------------------------------------------------------------------\u001b[0m",
      "\u001b[0;31mAttributeError\u001b[0m                            Traceback (most recent call last)",
      "\u001b[0;32m<ipython-input-93-782c8b7c2ec2>\u001b[0m in \u001b[0;36m<module>\u001b[0;34m\u001b[0m\n\u001b[1;32m      3\u001b[0m \u001b[0my\u001b[0m \u001b[0;34m=\u001b[0m \u001b[0;34m[\u001b[0m\u001b[0;34m[\u001b[0m\u001b[0;34m'2'\u001b[0m\u001b[0;34m,\u001b[0m\u001b[0;34m'3'\u001b[0m\u001b[0;34m,\u001b[0m \u001b[0;34m'4'\u001b[0m\u001b[0;34m]\u001b[0m\u001b[0;34m,\u001b[0m \u001b[0;34m[\u001b[0m\u001b[0;34m'2'\u001b[0m\u001b[0;34m]\u001b[0m\u001b[0;34m,\u001b[0m \u001b[0;34m[\u001b[0m\u001b[0;34m'0'\u001b[0m\u001b[0;34m,\u001b[0m \u001b[0;34m'1'\u001b[0m\u001b[0;34m,\u001b[0m \u001b[0;34m'3'\u001b[0m\u001b[0;34m]\u001b[0m\u001b[0;34m,\u001b[0m\u001b[0;34m[\u001b[0m\u001b[0;34m'2'\u001b[0m\u001b[0;34m]\u001b[0m\u001b[0;34m,\u001b[0m \u001b[0;34m[\u001b[0m\u001b[0;34m'0'\u001b[0m\u001b[0;34m,\u001b[0m \u001b[0;34m'1'\u001b[0m\u001b[0;34m,\u001b[0m\u001b[0;34m'2'\u001b[0m\u001b[0;34m,\u001b[0m \u001b[0;34m'3'\u001b[0m\u001b[0;34m,\u001b[0m \u001b[0;34m'4'\u001b[0m\u001b[0;34m]\u001b[0m\u001b[0;34m,\u001b[0m \u001b[0;34m[\u001b[0m\u001b[0;34m'0'\u001b[0m\u001b[0;34m,\u001b[0m \u001b[0;34m'1'\u001b[0m\u001b[0;34m,\u001b[0m \u001b[0;34m'2'\u001b[0m\u001b[0;34m]\u001b[0m\u001b[0;34m]\u001b[0m\u001b[0;34m\u001b[0m\u001b[0;34m\u001b[0m\u001b[0m\n\u001b[1;32m      4\u001b[0m \u001b[0mdf\u001b[0m\u001b[0;34m=\u001b[0m\u001b[0mpd\u001b[0m\u001b[0;34m.\u001b[0m\u001b[0mDataFrame\u001b[0m\u001b[0;34m(\u001b[0m\u001b[0my\u001b[0m\u001b[0;34m)\u001b[0m\u001b[0;34m\u001b[0m\u001b[0;34m\u001b[0m\u001b[0m\n\u001b[0;32m----> 5\u001b[0;31m \u001b[0mprint\u001b[0m\u001b[0;34m(\u001b[0m\u001b[0my\u001b[0m\u001b[0;34m.\u001b[0m\u001b[0mtype\u001b[0m\u001b[0;34m(\u001b[0m\u001b[0;34m)\u001b[0m\u001b[0;34m)\u001b[0m\u001b[0;34m\u001b[0m\u001b[0;34m\u001b[0m\u001b[0m\n\u001b[0m\u001b[1;32m      6\u001b[0m \u001b[0mMultiLabelBinarizer\u001b[0m\u001b[0;34m(\u001b[0m\u001b[0;34m)\u001b[0m\u001b[0;34m.\u001b[0m\u001b[0mfit_transform\u001b[0m\u001b[0;34m(\u001b[0m\u001b[0my\u001b[0m\u001b[0;34m)\u001b[0m\u001b[0;34m\u001b[0m\u001b[0;34m\u001b[0m\u001b[0m\n",
      "\u001b[0;31mAttributeError\u001b[0m: 'list' object has no attribute 'type'"
     ]
    }
   ],
   "source": [
    "from sklearn.preprocessing import MultiLabelBinarizer\n",
    "import pandas as pd\n",
    "y = [['2','3', '4'], ['2'], ['0', '1', '3'],['2'], ['0', '1','2', '3', '4'], ['0', '1', '2']]\n",
    "df=pd.DataFrame(y)\n",
    "print(y.type())\n",
    "MultiLabelBinarizer().fit_transform(y)"
   ]
  },
  {
   "cell_type": "code",
   "execution_count": 21,
   "metadata": {
    "scrolled": true
   },
   "outputs": [
    {
     "name": "stdout",
     "output_type": "stream",
     "text": [
      "         0         1         2         3\n",
      "1323   1.0  3.085571  0.005212  0.130302\n",
      "1839   0.0  5.172046  0.022128  0.243410\n",
      "798    0.0  2.545230  0.013541  0.379138\n",
      "3855   1.0  4.259374  0.032495  0.019497\n",
      "4552   3.0  2.509777  0.006388  0.076659\n",
      "856    0.0  2.076659  0.005213  0.109464\n",
      "2333   0.0  1.106034  0.000000  0.005952\n",
      "2499   0.0  4.495125  0.011891  0.089184\n",
      "5010  13.0  3.579910  0.000000  0.546133\n",
      "4379   0.0  8.011461  0.031487  0.018892\n",
      "4733   0.0  3.654303  0.000000  0.000000\n",
      "655    0.0  3.588144  0.011785  0.129637\n",
      "2101   0.0  0.726065  0.000000  0.013668\n",
      "893    1.0  4.956470  0.011841  0.082884\n",
      "373    0.0  3.289301  0.016111  0.281948\n",
      "297    0.0  3.499739  0.012103  0.102880\n",
      "3817   4.0  0.929351  0.022881  0.011440\n",
      "1808   0.0  2.795294  0.012137  0.121367\n",
      "4392   4.0  5.524710  0.019157  0.287361\n",
      "3585   7.0  6.477202  0.019052  0.152418\n",
      "240    0.0  4.181343  0.006051  0.127079\n",
      "4650   0.0  4.177690  0.000000  0.068097\n",
      "2951   0.0  3.072988  0.007079  0.028314\n",
      "2860   0.0  2.580487  0.000000  0.040184\n",
      "465    2.0  3.657031  0.016694  0.100161\n",
      "3685   0.0  0.355616  0.000000  0.061995\n",
      "4316   0.0  8.378208  0.013982  0.027965\n",
      "84     1.0  2.985339  0.018774  0.093868\n",
      "1498   1.0  4.544012  0.018051  0.090256\n",
      "803    0.0  2.144665  0.005977  0.089654\n",
      "...    ...       ...       ...       ...\n",
      "1620   0.0  4.551687  0.006167  0.111004\n",
      "3613   0.0  2.268525  0.000000  0.000000\n",
      "5049   3.0  2.064370  0.000000  0.325231\n",
      "1703   0.0  3.082930  0.005802  0.087037\n",
      "3976   3.0  0.958905  0.012458  0.130813\n",
      "1684   3.0  5.547713  0.023014  0.138083\n",
      "5206   0.0  3.136275  0.000000  0.103768\n",
      "3246   0.0  2.908421  0.000000  0.042317\n",
      "490    0.0  3.257320  0.022103  0.204456\n",
      "3906   7.0  3.230347  0.006371  0.070083\n",
      "862    0.0  2.435436  0.015017  0.270300\n",
      "1006   3.0  4.623713  0.011966  0.125640\n",
      "2759   0.0  4.774666  0.000000  0.013247\n",
      "1383   0.0  3.333634  0.009596  0.403033\n",
      "3503   0.0  0.864596  0.024889  0.049778\n",
      "2788   1.0  3.184042  0.006166  0.043159\n",
      "5167   4.0  6.557342  0.000000  0.228832\n",
      "1362   2.0  3.215229  0.023446  0.123093\n",
      "3647   0.0  0.430162  0.006384  0.038304\n",
      "506    0.0  2.133835  0.005891  0.076588\n",
      "1417   2.0  3.637084  0.025689  0.237624\n",
      "3043   8.0  3.654065  0.024413  0.268538\n",
      "25     0.0  2.969921  0.005951  0.077359\n",
      "1817   0.0  5.078699  0.015766  0.136637\n",
      "2259   0.0  1.130231  0.000000  0.011211\n",
      "1222   0.0  4.508358  0.012138  0.157792\n",
      "4092   1.0  0.949508  0.011477  0.206589\n",
      "1113   0.0  2.977285  0.012232  0.116206\n",
      "2671   1.0  2.198797  0.006865  0.006865\n",
      "2045   0.0  0.907999  0.000000  0.012474\n",
      "\n",
      "[1599 rows x 4 columns]\n",
      "              0\n",
      "1323     Normal\n",
      "1839     Normal\n",
      "798      Normal\n",
      "3855     Normal\n",
      "4552     Normal\n",
      "856      Normal\n",
      "2333  Very Fast\n",
      "2499     Normal\n",
      "5010     Normal\n",
      "4379     Normal\n",
      "4733     Normal\n",
      "655      Normal\n",
      "2101  Very Fast\n",
      "893      Normal\n",
      "373      Normal\n",
      "297      Normal\n",
      "3817       Slow\n",
      "1808     Normal\n",
      "4392     Normal\n",
      "3585       Slow\n",
      "240      Normal\n",
      "4650     Normal\n",
      "2951     Normal\n",
      "2860       Fast\n",
      "465      Normal\n",
      "3685       Fast\n",
      "4316     Normal\n",
      "84       Normal\n",
      "1498     Normal\n",
      "803      Normal\n",
      "...         ...\n",
      "1620     Normal\n",
      "3613       Fast\n",
      "5049       Fast\n",
      "1703       Fast\n",
      "3976     Normal\n",
      "1684     Normal\n",
      "5206     Normal\n",
      "3246       Fast\n",
      "490      Normal\n",
      "3906     Normal\n",
      "862      Normal\n",
      "1006       Fast\n",
      "2759       Fast\n",
      "1383     Normal\n",
      "3503     Normal\n",
      "2788     Normal\n",
      "5167     Normal\n",
      "1362     Normal\n",
      "3647       Fast\n",
      "506      Normal\n",
      "1417       Fast\n",
      "3043     Normal\n",
      "25       Normal\n",
      "1817       Fast\n",
      "2259  Very Fast\n",
      "1222     Normal\n",
      "4092       Slow\n",
      "1113       Slow\n",
      "2671       Fast\n",
      "2045  Very Fast\n",
      "\n",
      "[1599 rows x 1 columns]\n"
     ]
    },
    {
     "name": "stderr",
     "output_type": "stream",
     "text": [
      "/home/abhijit/.local/lib/python3.6/site-packages/sklearn/utils/validation.py:761: DataConversionWarning: A column-vector y was passed when a 1d array was expected. Please change the shape of y to (n_samples, ), for example using ravel().\n",
      "  y = column_or_1d(y, warn=True)\n"
     ]
    },
    {
     "name": "stdout",
     "output_type": "stream",
     "text": [
      "0.6841776110068793\n",
      "['Normal' 'Normal' 'Normal' ... 'Normal' 'Fast' 'Very Fast']\n",
      "[[205 166   1  45]\n",
      " [127 748  43  11]\n",
      " [  6  60  59   0]\n",
      " [ 37   9   0  82]]\n"
     ]
    }
   ],
   "source": [
    "from sklearn.metrics import classification_report\n",
    "from sklearn.metrics import confusion_matrix\n",
    "import pandas as pd\n",
    "import numpy as np\n",
    "from sklearn.model_selection import train_test_split\n",
    "from sklearn.model_selection import cross_val_score\n",
    "from sklearn.ensemble import GradientBoostingClassifier\n",
    "\n",
    "list=pd.read_csv('dataset.csv')\n",
    "\n",
    "X=list[['Honk_duration','RMS','Intersection density','WiFi density']].values\n",
    "X_d=pd.DataFrame(X)\n",
    "y=list['Class'].values\n",
    "y_d=pd.DataFrame(y)\n",
    "\n",
    "X_d_2=pd.get_dummies(X_d)\n",
    "y_d_2=pd.get_dummies(y_d)\n",
    "\n",
    "X_train, X_test, y_train, y_test = train_test_split(X_d,y_d,test_size=0.3,random_state=42)\n",
    "print(X_test)\n",
    "print(y_test)\n",
    "gbc=GradientBoostingClassifier(learning_rate=0.1,n_estimators=120,max_depth=6,min_samples_split=2,min_samples_leaf=3)\n",
    "\n",
    "gbc.fit(X_train,y_train)\n",
    "y_pred=gbc.predict(X_test)\n",
    "\n",
    "print(gbc.score(X_test,y_test))\n",
    "y_pred = gbc.predict(X_test)\n",
    "print(y_pred)\n",
    "# Generate the confusion matrix and classification report\n",
    "a=confusion_matrix(y_test,y_pred)\n",
    "print(a)"
   ]
  },
  {
   "cell_type": "code",
   "execution_count": 29,
   "metadata": {},
   "outputs": [
    {
     "ename": "ImportError",
     "evalue": "cannot import name 'multilabel_confusion_matrix'",
     "output_type": "error",
     "traceback": [
      "\u001b[0;31m---------------------------------------------------------------------------\u001b[0m",
      "\u001b[0;31mImportError\u001b[0m                               Traceback (most recent call last)",
      "\u001b[0;32m<ipython-input-29-1b765d267f30>\u001b[0m in \u001b[0;36m<module>\u001b[0;34m\u001b[0m\n\u001b[1;32m      2\u001b[0m \u001b[0;32mfrom\u001b[0m \u001b[0msklearn\u001b[0m\u001b[0;34m.\u001b[0m\u001b[0mpreprocessing\u001b[0m \u001b[0;32mimport\u001b[0m \u001b[0mMultiLabelBinarizer\u001b[0m\u001b[0;34m\u001b[0m\u001b[0;34m\u001b[0m\u001b[0m\n\u001b[1;32m      3\u001b[0m \u001b[0;32mfrom\u001b[0m \u001b[0msklearn\u001b[0m\u001b[0;34m.\u001b[0m\u001b[0mmetrics\u001b[0m \u001b[0;32mimport\u001b[0m \u001b[0mclassification_report\u001b[0m\u001b[0;34m\u001b[0m\u001b[0;34m\u001b[0m\u001b[0m\n\u001b[0;32m----> 4\u001b[0;31m \u001b[0;32mfrom\u001b[0m \u001b[0msklearn\u001b[0m\u001b[0;34m.\u001b[0m\u001b[0mmetrics\u001b[0m \u001b[0;32mimport\u001b[0m \u001b[0mmultilabel_confusion_matrix\u001b[0m\u001b[0;34m\u001b[0m\u001b[0;34m\u001b[0m\u001b[0m\n\u001b[0m\u001b[1;32m      5\u001b[0m \u001b[0;32mimport\u001b[0m \u001b[0mpandas\u001b[0m \u001b[0;32mas\u001b[0m \u001b[0mpd\u001b[0m\u001b[0;34m\u001b[0m\u001b[0;34m\u001b[0m\u001b[0m\n\u001b[1;32m      6\u001b[0m \u001b[0;32mimport\u001b[0m \u001b[0mnumpy\u001b[0m \u001b[0;32mas\u001b[0m \u001b[0mnp\u001b[0m\u001b[0;34m\u001b[0m\u001b[0;34m\u001b[0m\u001b[0m\n",
      "\u001b[0;31mImportError\u001b[0m: cannot import name 'multilabel_confusion_matrix'"
     ]
    }
   ],
   "source": [
    "#from sklearn.metrics import classification_report\n",
    "from sklearn.preprocessing import MultiLabelBinarizer\n",
    "from sklearn.metrics import classification_report\n",
    "from sklearn.metrics import multilabel_confusion_matrix\n",
    "import pandas as pd\n",
    "import numpy as np\n",
    "from sklearn.model_selection import train_test_split\n",
    "from sklearn.model_selection import cross_val_score\n",
    "from sklearn.tree import DecisionTreeClassifier\n",
    "\n",
    "list=pd.read_csv('6mar.csv')\n",
    "\n",
    "cond=list['Mean_speed_kmph'].values\n",
    "cond_d=pd.DataFrame(cond)\n",
    "X=list[['Honk_duration','Road_surface','Intersection density','WiFi density']].values\n",
    "X_d=pd.DataFrame(X)\n",
    "y=list[['SpeedRange']].values\n",
    "y_d=pd.DataFrame(y)\n",
    "y_d_2=pd.get_dummies(y_d)\n",
    "#print(y_d_2)\n",
    "#print(cond_d)\n",
    "y_d.loc[cond_d[0]<=22.5,'SpeedRange']=['1']\n",
    "y_d.loc[cond_d[0]>22.5,'SpeedRange']=['2']\n",
    "y_d.loc[cond_d[0]>37.5,'SpeedRange']=['3']\n",
    "y_d.loc[cond_d[0]>52.5,'SpeedRange']=['4']\n",
    "i=0\n",
    "#range=5328\n",
    "while i<5328:\n",
    "    if cond_d.iloc[i,0]>=18.5 and cond_d.iloc[i,0]<22.5:\n",
    "        y_d.at[i,'SpeedRange']=['1','2']\n",
    "    if cond_d.iloc[i,0]>=32.5 and cond_d.iloc[i,0]<37.5:\n",
    "        y_d.at[i,'SpeedRange']=['2','3']\n",
    "    if cond_d.iloc[i,0]>=47.5 and cond_d.iloc[i,0]<52.5:\n",
    "        y_d.at[i,'SpeedRange']=['3','4']\n",
    "    i=i+1\n",
    "    \n",
    "    \n",
    "#print(y_d['SpeedRange'])\n",
    "new_y=y_d['SpeedRange'].copy()\n",
    "new_y_d=pd.DataFrame(new_y)\n",
    "#print(new_y)\n",
    "y_l=new_y.values.tolist()\n",
    "\n",
    "#print(y_l)\n",
    "#print(y_l.type())\n",
    "new_y_d2=MultiLabelBinarizer().fit_transform(y_l)\n",
    "#print(new_y_d2)\n",
    "\n",
    "X_train,X_test,y_train,y_test=train_test_split(X_d,new_y_d2,test_size=0.4,random_state=21)\n",
    "clf = DecisionTreeClassifier(max_depth=9,min_samples_leaf=6)\n",
    "clf.fit(X_train,y_train)\n",
    "print(clf.score(X_test,y_test))\n",
    "\n",
    "y_pred = clf.predict(X_test)\n",
    "print(y_pred)\n",
    "# Generate the confusion matrix and classification report\n",
    "a=multilabel_confusion_matrix(y_test, y_pred)\n",
    "print(a)\n",
    "\n",
    "\n"
   ]
  },
  {
   "cell_type": "code",
   "execution_count": 23,
   "metadata": {},
   "outputs": [
    {
     "name": "stdout",
     "output_type": "stream",
     "text": [
      "         0         1         2         3\n",
      "1323   1.0  3.085571  0.005212  0.130302\n",
      "1839   0.0  5.172046  0.022128  0.243410\n",
      "798    0.0  2.545230  0.013541  0.379138\n",
      "3855   1.0  4.259374  0.032495  0.019497\n",
      "4552   3.0  2.509777  0.006388  0.076659\n",
      "856    0.0  2.076659  0.005213  0.109464\n",
      "2333   0.0  1.106034  0.000000  0.005952\n",
      "2499   0.0  4.495125  0.011891  0.089184\n",
      "5010  13.0  3.579910  0.000000  0.546133\n",
      "4379   0.0  8.011461  0.031487  0.018892\n",
      "4733   0.0  3.654303  0.000000  0.000000\n",
      "655    0.0  3.588144  0.011785  0.129637\n",
      "2101   0.0  0.726065  0.000000  0.013668\n",
      "893    1.0  4.956470  0.011841  0.082884\n",
      "373    0.0  3.289301  0.016111  0.281948\n",
      "297    0.0  3.499739  0.012103  0.102880\n",
      "3817   4.0  0.929351  0.022881  0.011440\n",
      "1808   0.0  2.795294  0.012137  0.121367\n",
      "4392   4.0  5.524710  0.019157  0.287361\n",
      "3585   7.0  6.477202  0.019052  0.152418\n",
      "240    0.0  4.181343  0.006051  0.127079\n",
      "4650   0.0  4.177690  0.000000  0.068097\n",
      "2951   0.0  3.072988  0.007079  0.028314\n",
      "2860   0.0  2.580487  0.000000  0.040184\n",
      "465    2.0  3.657031  0.016694  0.100161\n",
      "3685   0.0  0.355616  0.000000  0.061995\n",
      "4316   0.0  8.378208  0.013982  0.027965\n",
      "84     1.0  2.985339  0.018774  0.093868\n",
      "1498   1.0  4.544012  0.018051  0.090256\n",
      "803    0.0  2.144665  0.005977  0.089654\n",
      "...    ...       ...       ...       ...\n",
      "1620   0.0  4.551687  0.006167  0.111004\n",
      "3613   0.0  2.268525  0.000000  0.000000\n",
      "5049   3.0  2.064370  0.000000  0.325231\n",
      "1703   0.0  3.082930  0.005802  0.087037\n",
      "3976   3.0  0.958905  0.012458  0.130813\n",
      "1684   3.0  5.547713  0.023014  0.138083\n",
      "5206   0.0  3.136275  0.000000  0.103768\n",
      "3246   0.0  2.908421  0.000000  0.042317\n",
      "490    0.0  3.257320  0.022103  0.204456\n",
      "3906   7.0  3.230347  0.006371  0.070083\n",
      "862    0.0  2.435436  0.015017  0.270300\n",
      "1006   3.0  4.623713  0.011966  0.125640\n",
      "2759   0.0  4.774666  0.000000  0.013247\n",
      "1383   0.0  3.333634  0.009596  0.403033\n",
      "3503   0.0  0.864596  0.024889  0.049778\n",
      "2788   1.0  3.184042  0.006166  0.043159\n",
      "5167   4.0  6.557342  0.000000  0.228832\n",
      "1362   2.0  3.215229  0.023446  0.123093\n",
      "3647   0.0  0.430162  0.006384  0.038304\n",
      "506    0.0  2.133835  0.005891  0.076588\n",
      "1417   2.0  3.637084  0.025689  0.237624\n",
      "3043   8.0  3.654065  0.024413  0.268538\n",
      "25     0.0  2.969921  0.005951  0.077359\n",
      "1817   0.0  5.078699  0.015766  0.136637\n",
      "2259   0.0  1.130231  0.000000  0.011211\n",
      "1222   0.0  4.508358  0.012138  0.157792\n",
      "4092   1.0  0.949508  0.011477  0.206589\n",
      "1113   0.0  2.977285  0.012232  0.116206\n",
      "2671   1.0  2.198797  0.006865  0.006865\n",
      "2045   0.0  0.907999  0.000000  0.012474\n",
      "\n",
      "[1599 rows x 4 columns]\n",
      "              0\n",
      "1323     Normal\n",
      "1839     Normal\n",
      "798      Normal\n",
      "3855     Normal\n",
      "4552     Normal\n",
      "856      Normal\n",
      "2333  Very Fast\n",
      "2499     Normal\n",
      "5010     Normal\n",
      "4379     Normal\n",
      "4733     Normal\n",
      "655      Normal\n",
      "2101  Very Fast\n",
      "893      Normal\n",
      "373      Normal\n",
      "297      Normal\n",
      "3817       Slow\n",
      "1808     Normal\n",
      "4392     Normal\n",
      "3585       Slow\n",
      "240      Normal\n",
      "4650     Normal\n",
      "2951     Normal\n",
      "2860       Fast\n",
      "465      Normal\n",
      "3685       Fast\n",
      "4316     Normal\n",
      "84       Normal\n",
      "1498     Normal\n",
      "803      Normal\n",
      "...         ...\n",
      "1620     Normal\n",
      "3613       Fast\n",
      "5049       Fast\n",
      "1703       Fast\n",
      "3976     Normal\n",
      "1684     Normal\n",
      "5206     Normal\n",
      "3246       Fast\n",
      "490      Normal\n",
      "3906     Normal\n",
      "862      Normal\n",
      "1006       Fast\n",
      "2759       Fast\n",
      "1383     Normal\n",
      "3503     Normal\n",
      "2788     Normal\n",
      "5167     Normal\n",
      "1362     Normal\n",
      "3647       Fast\n",
      "506      Normal\n",
      "1417       Fast\n",
      "3043     Normal\n",
      "25       Normal\n",
      "1817       Fast\n",
      "2259  Very Fast\n",
      "1222     Normal\n",
      "4092       Slow\n",
      "1113       Slow\n",
      "2671       Fast\n",
      "2045  Very Fast\n",
      "\n",
      "[1599 rows x 1 columns]\n"
     ]
    },
    {
     "name": "stderr",
     "output_type": "stream",
     "text": [
      "/home/abhijit/.local/lib/python3.6/site-packages/sklearn/utils/validation.py:761: DataConversionWarning: A column-vector y was passed when a 1d array was expected. Please change the shape of y to (n_samples, ), for example using ravel().\n",
      "  y = column_or_1d(y, warn=True)\n"
     ]
    },
    {
     "name": "stdout",
     "output_type": "stream",
     "text": [
      "0.6816760475297061\n",
      "['Normal' 'Normal' 'Normal' ... 'Normal' 'Fast' 'Very Fast']\n",
      "[[205 164   3  45]\n",
      " [129 747  39  14]\n",
      " [  6  63  56   0]\n",
      " [ 39   7   0  82]]\n"
     ]
    }
   ],
   "source": [
    "from sklearn.metrics import classification_report\n",
    "from sklearn.metrics import confusion_matrix\n",
    "import pandas as pd\n",
    "import numpy as np\n",
    "from sklearn.model_selection import train_test_split\n",
    "from sklearn.model_selection import cross_val_score\n",
    "from sklearn.ensemble import GradientBoostingClassifier\n",
    "\n",
    "list=pd.read_csv('6mar.csv')\n",
    "\n",
    "X=list[['Honk_duration','Road_surface','Intersection density','WiFi density']].values\n",
    "X_d=pd.DataFrame(X)\n",
    "y=list['Class'].values\n",
    "y_d=pd.DataFrame(y)\n",
    "\n",
    "X_d_2=pd.get_dummies(X_d)\n",
    "y_d_2=pd.get_dummies(y_d)\n",
    "\n",
    "X_train, X_test, y_train, y_test = train_test_split(X_d,y_d,test_size=0.3,random_state=42)\n",
    "print(X_test)\n",
    "print(y_test)\n",
    "gbc=GradientBoostingClassifier(learning_rate=0.1,n_estimators=120,max_depth=6,min_samples_split=2,min_samples_leaf=3)\n",
    "\n",
    "gbc.fit(X_train,y_train)\n",
    "y_pred=gbc.predict(X_test)\n",
    "\n",
    "print(gbc.score(X_test,y_test))\n",
    "y_pred = gbc.predict(X_test)\n",
    "print(y_pred)\n",
    "# Generate the confusion matrix and classification report\n",
    "a=confusion_matrix(y_test,y_pred)\n",
    "print(a)"
   ]
  },
  {
   "cell_type": "code",
   "execution_count": 27,
   "metadata": {},
   "outputs": [
    {
     "name": "stdout",
     "output_type": "stream",
     "text": [
      "         0         1         2         3\n",
      "1323   1.0  3.085571  0.005212  0.130302\n",
      "1839   0.0  5.172046  0.022128  0.243410\n",
      "798    0.0  2.545230  0.013541  0.379138\n",
      "3855   1.0  4.259374  0.032495  0.019497\n",
      "4552   3.0  2.509777  0.006388  0.076659\n",
      "856    0.0  2.076659  0.005213  0.109464\n",
      "2333   0.0  1.106034  0.000000  0.005952\n",
      "2499   0.0  4.495125  0.011891  0.089184\n",
      "5010  13.0  3.579910  0.000000  0.546133\n",
      "4379   0.0  8.011461  0.031487  0.018892\n",
      "4733   0.0  3.654303  0.000000  0.000000\n",
      "655    0.0  3.588144  0.011785  0.129637\n",
      "2101   0.0  0.726065  0.000000  0.013668\n",
      "893    1.0  4.956470  0.011841  0.082884\n",
      "373    0.0  3.289301  0.016111  0.281948\n",
      "297    0.0  3.499739  0.012103  0.102880\n",
      "3817   4.0  0.929351  0.022881  0.011440\n",
      "1808   0.0  2.795294  0.012137  0.121367\n",
      "4392   4.0  5.524710  0.019157  0.287361\n",
      "3585   7.0  6.477202  0.019052  0.152418\n",
      "240    0.0  4.181343  0.006051  0.127079\n",
      "4650   0.0  4.177690  0.000000  0.068097\n",
      "2951   0.0  3.072988  0.007079  0.028314\n",
      "2860   0.0  2.580487  0.000000  0.040184\n",
      "465    2.0  3.657031  0.016694  0.100161\n",
      "3685   0.0  0.355616  0.000000  0.061995\n",
      "4316   0.0  8.378208  0.013982  0.027965\n",
      "84     1.0  2.985339  0.018774  0.093868\n",
      "1498   1.0  4.544012  0.018051  0.090256\n",
      "803    0.0  2.144665  0.005977  0.089654\n",
      "...    ...       ...       ...       ...\n",
      "1620   0.0  4.551687  0.006167  0.111004\n",
      "3613   0.0  2.268525  0.000000  0.000000\n",
      "5049   3.0  2.064370  0.000000  0.325231\n",
      "1703   0.0  3.082930  0.005802  0.087037\n",
      "3976   3.0  0.958905  0.012458  0.130813\n",
      "1684   3.0  5.547713  0.023014  0.138083\n",
      "5206   0.0  3.136275  0.000000  0.103768\n",
      "3246   0.0  2.908421  0.000000  0.042317\n",
      "490    0.0  3.257320  0.022103  0.204456\n",
      "3906   7.0  3.230347  0.006371  0.070083\n",
      "862    0.0  2.435436  0.015017  0.270300\n",
      "1006   3.0  4.623713  0.011966  0.125640\n",
      "2759   0.0  4.774666  0.000000  0.013247\n",
      "1383   0.0  3.333634  0.009596  0.403033\n",
      "3503   0.0  0.864596  0.024889  0.049778\n",
      "2788   1.0  3.184042  0.006166  0.043159\n",
      "5167   4.0  6.557342  0.000000  0.228832\n",
      "1362   2.0  3.215229  0.023446  0.123093\n",
      "3647   0.0  0.430162  0.006384  0.038304\n",
      "506    0.0  2.133835  0.005891  0.076588\n",
      "1417   2.0  3.637084  0.025689  0.237624\n",
      "3043   8.0  3.654065  0.024413  0.268538\n",
      "25     0.0  2.969921  0.005951  0.077359\n",
      "1817   0.0  5.078699  0.015766  0.136637\n",
      "2259   0.0  1.130231  0.000000  0.011211\n",
      "1222   0.0  4.508358  0.012138  0.157792\n",
      "4092   1.0  0.949508  0.011477  0.206589\n",
      "1113   0.0  2.977285  0.012232  0.116206\n",
      "2671   1.0  2.198797  0.006865  0.006865\n",
      "2045   0.0  0.907999  0.000000  0.012474\n",
      "\n",
      "[1599 rows x 4 columns]\n",
      "              0        1\n",
      "1323     Normal  32.8906\n",
      "1839     Normal  27.1147\n",
      "798      Normal  25.3206\n",
      "3855     Normal  22.1571\n",
      "4552     Normal  26.8351\n",
      "856      Normal   34.532\n",
      "2333  Very Fast  67.2025\n",
      "2499     Normal  30.2745\n",
      "5010     Normal  29.9627\n",
      "4379     Normal  27.2221\n",
      "4733     Normal  20.7327\n",
      "655      Normal  30.5468\n",
      "2101  Very Fast  65.8472\n",
      "893      Normal  30.4039\n",
      "373      Normal  31.9208\n",
      "297      Normal  29.7434\n",
      "3817       Slow  17.4819\n",
      "1808     Normal  28.2495\n",
      "4392     Normal  20.8796\n",
      "3585       Slow  11.3372\n",
      "240      Normal  29.7452\n",
      "4650     Normal   23.261\n",
      "2951     Normal  33.9055\n",
      "2860       Fast  48.8663\n",
      "465      Normal  34.0504\n",
      "3685       Fast  40.2017\n",
      "4316     Normal  20.5973\n",
      "84       Normal   26.149\n",
      "1498     Normal  33.2387\n",
      "803      Normal  28.6815\n",
      "...         ...      ...\n",
      "1620     Normal  27.7982\n",
      "3613       Fast  39.9468\n",
      "5049       Fast  41.7219\n",
      "1703       Fast  41.3619\n",
      "3976     Normal  25.1271\n",
      "1684     Normal  25.0285\n",
      "5206     Normal  32.6519\n",
      "3246       Fast  42.5364\n",
      "490      Normal  25.0571\n",
      "3906     Normal   26.907\n",
      "862      Normal   28.204\n",
      "1006       Fast  35.3953\n",
      "2759       Fast  38.8216\n",
      "1383     Normal   31.263\n",
      "3503     Normal  26.2984\n",
      "2788     Normal  30.7311\n",
      "5167     Normal  29.7161\n",
      "1362     Normal  22.7471\n",
      "3647       Fast  35.2441\n",
      "506      Normal  33.9479\n",
      "1417       Fast  40.0392\n",
      "3043     Normal  21.0665\n",
      "25       Normal  28.8081\n",
      "1817       Fast  36.0541\n",
      "2259  Very Fast  58.3848\n",
      "1222     Normal  29.6593\n",
      "4092       Slow  13.3475\n",
      "1113       Slow  18.9874\n",
      "2671       Fast  43.6971\n",
      "2045  Very Fast  57.7205\n",
      "\n",
      "[1599 rows x 2 columns]\n"
     ]
    },
    {
     "name": "stderr",
     "output_type": "stream",
     "text": [
      "/home/abhijit/.local/lib/python3.6/site-packages/sklearn/utils/validation.py:761: DataConversionWarning: A column-vector y was passed when a 1d array was expected. Please change the shape of y to (n_samples, ), for example using ravel().\n",
      "  y = column_or_1d(y, warn=True)\n"
     ]
    },
    {
     "name": "stdout",
     "output_type": "stream",
     "text": [
      "0.6910569105691057\n",
      "['Normal' 'Normal' 'Normal' ... 'Normal' 'Fast' 'Very Fast']\n",
      "[[206 169   2  40]\n",
      " [121 758  39  11]\n",
      " [  6  63  56   0]\n",
      " [ 35   8   0  85]]\n"
     ]
    }
   ],
   "source": [
    "from sklearn.metrics import classification_report\n",
    "from sklearn.metrics import confusion_matrix\n",
    "import pandas as pd\n",
    "import numpy as np\n",
    "from sklearn.model_selection import train_test_split\n",
    "from sklearn.model_selection import cross_val_score\n",
    "from sklearn.ensemble import GradientBoostingClassifier\n",
    "\n",
    "list=pd.read_csv('6mar.csv')\n",
    "\n",
    "X=list[['Honk_duration','Road_surface','Intersection density','WiFi density']].values\n",
    "X_d=pd.DataFrame(X)\n",
    "y=list[['Class','Mean_speed_kmph']].values\n",
    "y_d=pd.DataFrame(y)\n",
    "\n",
    "X_d_2=pd.get_dummies(X_d)\n",
    "y_d_2=pd.get_dummies(y_d)\n",
    "\n",
    "X_train, X_test, y_train, y_test = train_test_split(X_d,y_d,test_size=0.3,random_state=42)\n",
    "print(X_test)\n",
    "print(y_test)\n",
    "new_y_2=y_train[0].copy()\n",
    "new_y_d_2=pd.DataFrame(new_y_2)\n",
    "new_y=y_test[0].copy()\n",
    "new_y_d=pd.DataFrame(new_y)\n",
    "gbc=GradientBoostingClassifier(learning_rate=0.1,n_estimators=120,max_depth=6,min_samples_split=2,min_samples_leaf=3)\n",
    "\n",
    "gbc.fit(X_train,new_y_d_2)\n",
    "y_pred=gbc.predict(X_test)\n",
    "\n",
    "print(gbc.score(X_test,new_y_d))\n",
    "y_pred = gbc.predict(X_test)\n",
    "print(y_pred)\n",
    "# Generate the confusion matrix and classification report\n",
    "a=confusion_matrix(new_y_d,y_pred)\n",
    "print(a)\n",
    "#new_y=y_d['SpeedRange'].copy()\n",
    "#new_y_d=pd.DataFrame(new_y)"
   ]
  },
  {
   "cell_type": "code",
   "execution_count": 37,
   "metadata": {},
   "outputs": [
    {
     "name": "stdout",
     "output_type": "stream",
     "text": [
      "              0        1\n",
      "1323     Normal  32.8906\n",
      "1839     Normal  27.1147\n",
      "798      Normal  25.3206\n",
      "3855     Normal  22.1571\n",
      "4552     Normal  26.8351\n",
      "856      Normal   34.532\n",
      "2333  Very Fast  67.2025\n",
      "2499     Normal  30.2745\n",
      "5010     Normal  29.9627\n",
      "4379     Normal  27.2221\n",
      "4733     Normal  20.7327\n",
      "655      Normal  30.5468\n",
      "2101  Very Fast  65.8472\n",
      "893      Normal  30.4039\n",
      "373      Normal  31.9208\n",
      "297      Normal  29.7434\n",
      "3817       Slow  17.4819\n",
      "1808     Normal  28.2495\n",
      "4392     Normal  20.8796\n",
      "3585       Slow  11.3372\n",
      "240      Normal  29.7452\n",
      "4650     Normal   23.261\n",
      "2951     Normal  33.9055\n",
      "2860       Fast  48.8663\n",
      "465      Normal  34.0504\n",
      "3685       Fast  40.2017\n",
      "4316     Normal  20.5973\n",
      "84       Normal   26.149\n",
      "1498     Normal  33.2387\n",
      "803      Normal  28.6815\n",
      "...         ...      ...\n",
      "1620     Normal  27.7982\n",
      "3613       Fast  39.9468\n",
      "5049       Fast  41.7219\n",
      "1703       Fast  41.3619\n",
      "3976     Normal  25.1271\n",
      "1684     Normal  25.0285\n",
      "5206     Normal  32.6519\n",
      "3246       Fast  42.5364\n",
      "490      Normal  25.0571\n",
      "3906     Normal   26.907\n",
      "862      Normal   28.204\n",
      "1006       Fast  35.3953\n",
      "2759       Fast  38.8216\n",
      "1383     Normal   31.263\n",
      "3503     Normal  26.2984\n",
      "2788     Normal  30.7311\n",
      "5167     Normal  29.7161\n",
      "1362     Normal  22.7471\n",
      "3647       Fast  35.2441\n",
      "506      Normal  33.9479\n",
      "1417       Fast  40.0392\n",
      "3043     Normal  21.0665\n",
      "25       Normal  28.8081\n",
      "1817       Fast  36.0541\n",
      "2259  Very Fast  58.3848\n",
      "1222     Normal  29.6593\n",
      "4092       Slow  13.3475\n",
      "1113       Slow  18.9874\n",
      "2671       Fast  43.6971\n",
      "2045  Very Fast  57.7205\n",
      "\n",
      "[1599 rows x 2 columns]\n",
      "['Normal', 'Normal', 'Normal', 'Normal', 'Normal', 'Normal', 'Very Fast', 'Normal', 'Normal', 'Normal', 'Normal', 'Normal', 'Very Fast', 'Normal', 'Normal', 'Normal', 'Slow', 'Normal', 'Normal', 'Slow', 'Normal', 'Normal', 'Normal', 'Fast', 'Normal', 'Fast', 'Normal', 'Normal', 'Normal', 'Normal', 'Fast', 'Normal', 'Very Fast', 'Fast', 'Normal', 'Normal', 'Very Fast', 'Normal', 'Fast', 'Normal', 'Normal', 'Normal', 'Fast', 'Normal', 'Fast', 'Normal', 'Normal', 'Fast', 'Normal', 'Slow', 'Normal', 'Normal', 'Very Fast', 'Normal', 'Fast', 'Slow', 'Normal', 'Normal', 'Normal', 'Normal', 'Fast', 'Slow', 'Normal', 'Slow', 'Fast', 'Fast', 'Very Fast', 'Very Fast', 'Fast', 'Fast', 'Normal', 'Fast', 'Normal', 'Normal', 'Very Fast', 'Slow', 'Very Fast', 'Normal', 'Normal', 'Fast', 'Normal', 'Fast', 'Normal', 'Very Fast', 'Slow', 'Fast', 'Normal', 'Normal', 'Normal', 'Normal', 'Fast', 'Normal', 'Normal', 'Normal', 'Fast', 'Fast', 'Normal', 'Fast', 'Normal', 'Fast', 'Fast', 'Normal', 'Fast', 'Normal', 'Normal', 'Normal', 'Slow', 'Normal', 'Normal', 'Normal', 'Normal', 'Normal', 'Normal', 'Normal', 'Slow', 'Normal', 'Normal', 'Fast', 'Normal', 'Normal', 'Normal', 'Fast', 'Normal', 'Normal', 'Normal', 'Very Fast', 'Normal', 'Fast', 'Normal', 'Fast', 'Fast', 'Normal', 'Normal', 'Very Fast', 'Fast', 'Normal', 'Normal', 'Fast', 'Fast', 'Normal', 'Slow', 'Normal', 'Normal', 'Normal', 'Fast', 'Slow', 'Normal', 'Normal', 'Slow', 'Slow', 'Normal', 'Fast', 'Normal', 'Fast', 'Normal', 'Normal', 'Normal', 'Normal', 'Fast', 'Normal', 'Fast', 'Slow', 'Normal', 'Fast', 'Normal', 'Normal', 'Normal', 'Fast', 'Slow', 'Fast', 'Normal', 'Slow', 'Very Fast', 'Normal', 'Fast', 'Slow', 'Normal', 'Normal', 'Fast', 'Normal', 'Normal', 'Normal', 'Normal', 'Normal', 'Normal', 'Normal', 'Fast', 'Normal', 'Slow', 'Normal', 'Fast', 'Normal', 'Slow', 'Normal', 'Normal', 'Very Fast', 'Very Fast', 'Fast', 'Normal', 'Slow', 'Fast', 'Normal', 'Normal', 'Normal', 'Normal', 'Fast', 'Normal', 'Normal', 'Normal', 'Normal', 'Fast', 'Normal', 'Very Fast', 'Normal', 'Fast', 'Normal', 'Fast', 'Normal', 'Normal', 'Fast', 'Fast', 'Normal', 'Normal', 'Normal', 'Normal', 'Slow', 'Normal', 'Normal', 'Normal', 'Slow', 'Normal', 'Very Fast', 'Normal', 'Normal', 'Fast', 'Normal', 'Fast', 'Very Fast', 'Normal', 'Normal', 'Fast', 'Normal', 'Fast', 'Very Fast', 'Normal', 'Normal', 'Fast', 'Fast', 'Fast', 'Fast', 'Fast', 'Normal', 'Fast', 'Normal', 'Fast', 'Normal', 'Very Fast', 'Normal', 'Fast', 'Normal', 'Fast', 'Normal', 'Normal', 'Fast', 'Normal', 'Slow', 'Normal', 'Fast', 'Fast', 'Normal', 'Normal', 'Slow', 'Normal', 'Normal', 'Fast', 'Normal', 'Normal', 'Very Fast', 'Very Fast', 'Normal', 'Normal', 'Normal', 'Normal', 'Fast', 'Normal', 'Normal', 'Normal', 'Slow', 'Normal', 'Normal', 'Normal', 'Fast', 'Normal', 'Slow', 'Normal', 'Normal', 'Normal', 'Normal', 'Normal', 'Normal', 'Fast', 'Fast', 'Normal', 'Fast', 'Normal', 'Normal', 'Normal', 'Fast', 'Fast', 'Normal', 'Fast', 'Fast', 'Fast', 'Normal', 'Very Fast', 'Slow', 'Normal', 'Slow', 'Normal', 'Normal', 'Fast', 'Normal', 'Normal', 'Normal', 'Normal', 'Normal', 'Normal', 'Normal', 'Fast', 'Normal', 'Normal', 'Normal', 'Normal', 'Slow', 'Fast', 'Normal', 'Slow', 'Very Fast', 'Fast', 'Fast', 'Normal', 'Fast', 'Normal', 'Normal', 'Normal', 'Normal', 'Normal', 'Very Fast', 'Very Fast', 'Normal', 'Normal', 'Normal', 'Normal', 'Slow', 'Fast', 'Normal', 'Fast', 'Normal', 'Normal', 'Normal', 'Fast', 'Normal', 'Normal', 'Normal', 'Fast', 'Fast', 'Fast', 'Fast', 'Normal', 'Normal', 'Normal', 'Fast', 'Normal', 'Normal', 'Normal', 'Normal', 'Fast', 'Very Fast', 'Slow', 'Fast', 'Slow', 'Slow', 'Fast', 'Normal', 'Normal', 'Normal', 'Fast', 'Slow', 'Fast', 'Very Fast', 'Normal', 'Fast', 'Fast', 'Normal', 'Normal', 'Normal', 'Fast', 'Normal', 'Fast', 'Fast', 'Very Fast', 'Normal', 'Fast', 'Very Fast', 'Fast', 'Normal', 'Slow', 'Fast', 'Fast', 'Normal', 'Normal', 'Normal', 'Fast', 'Fast', 'Normal', 'Slow', 'Normal', 'Fast', 'Normal', 'Fast', 'Normal', 'Fast', 'Normal', 'Normal', 'Normal', 'Slow', 'Normal', 'Normal', 'Slow', 'Normal', 'Fast', 'Normal', 'Normal', 'Normal', 'Very Fast', 'Normal', 'Normal', 'Fast', 'Fast', 'Normal', 'Normal', 'Normal', 'Normal', 'Fast', 'Fast', 'Normal', 'Very Fast', 'Normal', 'Normal', 'Normal', 'Very Fast', 'Normal', 'Normal', 'Slow', 'Normal', 'Normal', 'Fast', 'Fast', 'Fast', 'Fast', 'Normal', 'Fast', 'Fast', 'Slow', 'Fast', 'Normal', 'Normal', 'Normal', 'Slow', 'Normal', 'Fast', 'Normal', 'Normal', 'Normal', 'Normal', 'Fast', 'Normal', 'Normal', 'Fast', 'Normal', 'Normal', 'Normal', 'Fast', 'Slow', 'Normal', 'Normal', 'Normal', 'Normal', 'Fast', 'Very Fast', 'Normal', 'Normal', 'Fast', 'Normal', 'Normal', 'Fast', 'Fast', 'Fast', 'Normal', 'Slow', 'Normal', 'Normal', 'Slow', 'Fast', 'Normal', 'Fast', 'Fast', 'Fast', 'Fast', 'Very Fast', 'Fast', 'Normal', 'Fast', 'Normal', 'Normal', 'Fast', 'Slow', 'Normal', 'Fast', 'Normal', 'Normal', 'Fast', 'Normal', 'Normal', 'Normal', 'Normal', 'Slow', 'Normal', 'Fast', 'Normal', 'Normal', 'Normal', 'Normal', 'Normal', 'Very Fast', 'Normal', 'Fast', 'Normal', 'Normal', 'Very Fast', 'Normal', 'Fast', 'Fast', 'Normal', 'Normal', 'Very Fast', 'Normal', 'Normal', 'Very Fast', 'Normal', 'Normal', 'Normal', 'Normal', 'Normal', 'Normal', 'Normal', 'Normal', 'Normal', 'Normal', 'Normal', 'Normal', 'Fast', 'Slow', 'Fast', 'Very Fast', 'Fast', 'Normal', 'Normal', 'Fast', 'Slow', 'Fast', 'Fast', 'Normal', 'Normal', 'Slow', 'Normal', 'Normal', 'Normal', 'Fast', 'Normal', 'Normal', 'Fast', 'Fast', 'Very Fast', 'Slow', 'Slow', 'Normal', 'Fast', 'Normal', 'Normal', 'Fast', 'Normal', 'Fast', 'Fast', 'Fast', 'Normal', 'Normal', 'Fast', 'Normal', 'Very Fast', 'Fast', 'Normal', 'Fast', 'Normal', 'Normal', 'Very Fast', 'Normal', 'Slow', 'Fast', 'Normal', 'Normal', 'Very Fast', 'Fast', 'Normal', 'Normal', 'Normal', 'Very Fast', 'Normal', 'Normal', 'Normal', 'Slow', 'Normal', 'Normal', 'Fast', 'Normal', 'Normal', 'Very Fast', 'Normal', 'Slow', 'Fast', 'Normal', 'Normal', 'Fast', 'Normal', 'Normal', 'Fast', 'Normal', 'Normal', 'Fast', 'Normal', 'Normal', 'Fast', 'Normal', 'Normal', 'Normal', 'Normal', 'Normal', 'Normal', 'Fast', 'Fast', 'Normal', 'Normal', 'Normal', 'Normal', 'Fast', 'Normal', 'Normal', 'Normal', 'Normal', 'Slow', 'Very Fast', 'Normal', 'Fast', 'Normal', 'Normal', 'Very Fast', 'Normal', 'Slow', 'Normal', 'Fast', 'Fast', 'Normal', 'Fast', 'Normal', 'Normal', 'Normal', 'Very Fast', 'Normal', 'Normal', 'Normal', 'Normal', 'Normal', 'Normal', 'Normal', 'Normal', 'Fast', 'Fast', 'Normal', 'Very Fast', 'Slow', 'Slow', 'Normal', 'Slow', 'Fast', 'Normal', 'Fast', 'Normal', 'Normal', 'Normal', 'Very Fast', 'Normal', 'Normal', 'Normal', 'Fast', 'Normal', 'Fast', 'Fast', 'Normal', 'Very Fast', 'Normal', 'Fast', 'Fast', 'Fast', 'Normal', 'Slow', 'Normal', 'Very Fast', 'Slow', 'Normal', 'Slow', 'Fast', 'Normal', 'Fast', 'Normal', 'Normal', 'Fast', 'Normal', 'Slow', 'Normal', 'Normal', 'Normal', 'Normal', 'Fast', 'Normal', 'Fast', 'Very Fast', 'Normal', 'Normal', 'Fast', 'Normal', 'Fast', 'Normal', 'Normal', 'Normal', 'Fast', 'Very Fast', 'Very Fast', 'Fast', 'Very Fast', 'Normal', 'Slow', 'Very Fast', 'Fast', 'Normal', 'Fast', 'Normal', 'Fast', 'Normal', 'Normal', 'Normal', 'Fast', 'Normal', 'Fast', 'Very Fast', 'Normal', 'Very Fast', 'Fast', 'Normal', 'Normal', 'Slow', 'Normal', 'Normal', 'Normal', 'Normal', 'Normal', 'Normal', 'Normal', 'Normal', 'Slow', 'Fast', 'Normal', 'Normal', 'Normal', 'Normal', 'Slow', 'Fast', 'Normal', 'Normal', 'Fast', 'Normal', 'Very Fast', 'Fast', 'Normal', 'Normal', 'Slow', 'Normal', 'Normal', 'Normal', 'Fast', 'Fast', 'Fast', 'Fast', 'Fast', 'Fast', 'Fast', 'Normal', 'Normal', 'Fast', 'Fast', 'Fast', 'Very Fast', 'Fast', 'Normal', 'Normal', 'Normal', 'Normal', 'Very Fast', 'Normal', 'Normal', 'Normal', 'Normal', 'Fast', 'Normal', 'Slow', 'Normal', 'Fast', 'Slow', 'Fast', 'Fast', 'Normal', 'Normal', 'Normal', 'Fast', 'Normal', 'Normal', 'Normal', 'Normal', 'Slow', 'Very Fast', 'Slow', 'Normal', 'Fast', 'Normal', 'Normal', 'Normal', 'Slow', 'Normal', 'Normal', 'Normal', 'Fast', 'Normal', 'Fast', 'Normal', 'Fast', 'Normal', 'Slow', 'Normal', 'Normal', 'Normal', 'Normal', 'Normal', 'Fast', 'Fast', 'Normal', 'Normal', 'Normal', 'Fast', 'Normal', 'Normal', 'Normal', 'Fast', 'Normal', 'Fast', 'Fast', 'Very Fast', 'Normal', 'Normal', 'Normal', 'Slow', 'Slow', 'Very Fast', 'Normal', 'Slow', 'Normal', 'Normal', 'Slow', 'Normal', 'Very Fast', 'Fast', 'Normal', 'Normal', 'Fast', 'Normal', 'Normal', 'Fast', 'Normal', 'Fast', 'Normal', 'Normal', 'Slow', 'Normal', 'Very Fast', 'Slow', 'Normal', 'Very Fast', 'Normal', 'Fast', 'Slow', 'Normal', 'Fast', 'Very Fast', 'Very Fast', 'Fast', 'Normal', 'Normal', 'Normal', 'Normal', 'Normal', 'Very Fast', 'Very Fast', 'Fast', 'Normal', 'Normal', 'Normal', 'Fast', 'Slow', 'Fast', 'Normal', 'Fast', 'Normal', 'Fast', 'Normal', 'Normal', 'Slow', 'Normal', 'Very Fast', 'Normal', 'Normal', 'Slow', 'Fast', 'Normal', 'Slow', 'Fast', 'Normal', 'Fast', 'Fast', 'Normal', 'Normal', 'Very Fast', 'Normal', 'Normal', 'Normal', 'Fast', 'Very Fast', 'Very Fast', 'Normal', 'Normal', 'Fast', 'Normal', 'Very Fast', 'Normal', 'Normal', 'Normal', 'Normal', 'Normal', 'Fast', 'Normal', 'Very Fast', 'Fast', 'Fast', 'Fast', 'Normal', 'Normal', 'Normal', 'Fast', 'Fast', 'Normal', 'Normal', 'Normal', 'Slow', 'Fast', 'Normal', 'Normal', 'Normal', 'Fast', 'Fast', 'Slow', 'Normal', 'Normal', 'Normal', 'Normal', 'Normal', 'Fast', 'Normal', 'Normal', 'Normal', 'Normal', 'Normal', 'Normal', 'Normal', 'Fast', 'Normal', 'Normal', 'Normal', 'Slow', 'Normal', 'Normal', 'Normal', 'Normal', 'Fast', 'Slow', 'Fast', 'Normal', 'Normal', 'Normal', 'Fast', 'Normal', 'Fast', 'Normal', 'Fast', 'Normal', 'Normal', 'Fast', 'Normal', 'Normal', 'Normal', 'Normal', 'Normal', 'Normal', 'Fast', 'Fast', 'Normal', 'Normal', 'Normal', 'Normal', 'Slow', 'Fast', 'Normal', 'Very Fast', 'Normal', 'Normal', 'Normal', 'Normal', 'Normal', 'Normal', 'Slow', 'Fast', 'Normal', 'Normal', 'Normal', 'Fast', 'Normal', 'Fast', 'Fast', 'Fast', 'Slow', 'Normal', 'Normal', 'Normal', 'Normal', 'Normal', 'Fast', 'Slow', 'Slow', 'Very Fast', 'Normal', 'Normal', 'Normal', 'Normal', 'Normal', 'Normal', 'Very Fast', 'Fast', 'Normal', 'Normal', 'Very Fast', 'Normal', 'Very Fast', 'Fast', 'Normal', 'Normal', 'Normal', 'Normal', 'Normal', 'Normal', 'Fast', 'Normal', 'Normal', 'Normal', 'Very Fast', 'Normal', 'Fast', 'Normal', 'Normal', 'Normal', 'Slow', 'Normal', 'Slow', 'Fast', 'Normal', 'Normal', 'Normal', 'Normal', 'Normal', 'Fast', 'Normal', 'Fast', 'Normal', 'Normal', 'Fast', 'Slow', 'Fast', 'Very Fast', 'Normal', 'Normal', 'Fast', 'Normal', 'Normal', 'Normal', 'Normal', 'Normal', 'Normal', 'Normal', 'Fast', 'Fast', 'Normal', 'Fast', 'Normal', 'Normal', 'Normal', 'Fast', 'Normal', 'Normal', 'Normal', 'Very Fast', 'Fast', 'Fast', 'Normal', 'Normal', 'Normal', 'Normal', 'Normal', 'Slow', 'Normal', 'Fast', 'Normal', 'Normal', 'Normal', 'Very Fast', 'Normal', 'Normal', 'Normal', 'Normal', 'Normal', 'Slow', 'Fast', 'Normal', 'Normal', 'Normal', 'Fast', 'Normal', 'Fast', 'Normal', 'Normal', 'Normal', 'Normal', 'Normal', 'Very Fast', 'Fast', 'Fast', 'Normal', 'Normal', 'Normal', 'Normal', 'Normal', 'Very Fast', 'Slow', 'Slow', 'Normal', 'Normal', 'Slow', 'Normal', 'Normal', 'Normal', 'Normal', 'Normal', 'Very Fast', 'Fast', 'Fast', 'Normal', 'Fast', 'Normal', 'Normal', 'Fast', 'Fast', 'Normal', 'Normal', 'Normal', 'Fast', 'Fast', 'Fast', 'Normal', 'Normal', 'Normal', 'Fast', 'Normal', 'Fast', 'Normal', 'Very Fast', 'Normal', 'Normal', 'Normal', 'Fast', 'Normal', 'Normal', 'Normal', 'Slow', 'Normal', 'Normal', 'Normal', 'Normal', 'Fast', 'Normal', 'Normal', 'Normal', 'Fast', 'Normal', 'Fast', 'Normal', 'Normal', 'Normal', 'Fast', 'Normal', 'Normal', 'Normal', 'Normal', 'Fast', 'Very Fast', 'Fast', 'Fast', 'Slow', 'Fast', 'Normal', 'Normal', 'Normal', 'Normal', 'Very Fast', 'Normal', 'Normal', 'Normal', 'Fast', 'Normal', 'Fast', 'Normal', 'Normal', 'Fast', 'Fast', 'Normal', 'Normal', 'Fast', 'Fast', 'Normal', 'Fast', 'Normal', 'Fast', 'Normal', 'Normal', 'Very Fast', 'Normal', 'Fast', 'Normal', 'Normal', 'Very Fast', 'Normal', 'Fast', 'Very Fast', 'Fast', 'Fast', 'Fast', 'Slow', 'Normal', 'Fast', 'Normal', 'Normal', 'Normal', 'Fast', 'Normal', 'Fast', 'Normal', 'Normal', 'Very Fast', 'Slow', 'Normal', 'Normal', 'Normal', 'Fast', 'Fast', 'Normal', 'Normal', 'Fast', 'Normal', 'Normal', 'Fast', 'Normal', 'Normal', 'Normal', 'Normal', 'Normal', 'Normal', 'Normal', 'Very Fast', 'Fast', 'Fast', 'Normal', 'Very Fast', 'Normal', 'Very Fast', 'Normal', 'Fast', 'Normal', 'Normal', 'Slow', 'Very Fast', 'Normal', 'Normal', 'Very Fast', 'Normal', 'Fast', 'Very Fast', 'Normal', 'Normal', 'Normal', 'Normal', 'Very Fast', 'Normal', 'Normal', 'Normal', 'Very Fast', 'Normal', 'Normal', 'Normal', 'Normal', 'Normal', 'Normal', 'Fast', 'Normal', 'Normal', 'Normal', 'Fast', 'Normal', 'Normal', 'Fast', 'Normal', 'Normal', 'Normal', 'Fast', 'Normal', 'Normal', 'Fast', 'Slow', 'Normal', 'Normal', 'Normal', 'Fast', 'Normal', 'Normal', 'Fast', 'Fast', 'Fast', 'Normal', 'Normal', 'Fast', 'Fast', 'Fast', 'Fast', 'Fast', 'Normal', 'Slow', 'Normal', 'Normal', 'Normal', 'Fast', 'Fast', 'Fast', 'Normal', 'Normal', 'Normal', 'Fast', 'Normal', 'Fast', 'Normal', 'Fast', 'Normal', 'Normal', 'Very Fast', 'Fast', 'Normal', 'Normal', 'Normal', 'Normal', 'Very Fast', 'Normal', 'Normal', 'Normal', 'Very Fast', 'Fast', 'Normal', 'Normal', 'Very Fast', 'Normal', 'Slow', 'Fast', 'Normal', 'Very Fast', 'Normal', 'Fast', 'Normal', 'Very Fast', 'Normal', 'Normal', 'Normal', 'Normal', 'Normal', 'Normal', 'Fast', 'Normal', 'Fast', 'Normal', 'Normal', 'Slow', 'Normal', 'Very Fast', 'Normal', 'Normal', 'Very Fast', 'Very Fast', 'Normal', 'Fast', 'Normal', 'Fast', 'Normal', 'Normal', 'Normal', 'Normal', 'Slow', 'Slow', 'Normal', 'Fast', 'Normal', 'Fast', 'Normal', 'Normal', 'Very Fast', 'Normal', 'Slow', 'Normal', 'Fast', 'Normal', 'Normal', 'Slow', 'Fast', 'Normal', 'Normal', 'Fast', 'Normal', 'Fast', 'Normal', 'Normal', 'Normal', 'Normal', 'Fast', 'Normal', 'Normal', 'Normal', 'Normal', 'Normal', 'Normal', 'Normal', 'Normal', 'Slow', 'Very Fast', 'Normal', 'Slow', 'Normal', 'Very Fast', 'Fast', 'Slow', 'Normal', 'Normal', 'Fast', 'Normal', 'Very Fast', 'Normal', 'Fast', 'Fast', 'Normal', 'Fast', 'Fast', 'Normal', 'Normal', 'Fast', 'Normal', 'Very Fast', 'Normal', 'Normal', 'Fast', 'Fast', 'Very Fast', 'Very Fast', 'Normal', 'Very Fast', 'Very Fast', 'Normal', 'Normal', 'Normal', 'Fast', 'Fast', 'Normal', 'Normal', 'Normal', 'Very Fast', 'Fast', 'Normal', 'Normal', 'Fast', 'Normal', 'Normal', 'Fast', 'Fast', 'Normal', 'Fast', 'Normal', 'Normal', 'Fast', 'Slow', 'Normal', 'Normal', 'Fast', 'Normal', 'Normal', 'Slow', 'Normal', 'Normal', 'Normal', 'Normal', 'Normal', 'Normal', 'Fast', 'Normal', 'Fast', 'Fast', 'Normal', 'Fast', 'Fast', 'Normal', 'Fast', 'Fast', 'Fast', 'Very Fast', 'Normal', 'Fast', 'Normal', 'Normal', 'Normal', 'Fast', 'Normal', 'Normal', 'Slow', 'Normal', 'Normal', 'Fast', 'Fast', 'Fast', 'Normal', 'Normal', 'Normal', 'Fast', 'Normal', 'Normal', 'Normal', 'Fast', 'Fast', 'Normal', 'Normal', 'Normal', 'Normal', 'Normal', 'Fast', 'Normal', 'Fast', 'Normal', 'Normal', 'Fast', 'Very Fast', 'Normal', 'Slow', 'Slow', 'Fast', 'Very Fast']\n"
     ]
    },
    {
     "name": "stderr",
     "output_type": "stream",
     "text": [
      "/home/abhijit/.local/lib/python3.6/site-packages/sklearn/utils/validation.py:761: DataConversionWarning: A column-vector y was passed when a 1d array was expected. Please change the shape of y to (n_samples, ), for example using ravel().\n",
      "  y = column_or_1d(y, warn=True)\n"
     ]
    },
    {
     "name": "stdout",
     "output_type": "stream",
     "text": [
      "[[206 169   2  40]\n",
      " [121 758  39  11]\n",
      " [  6  63  56   0]\n",
      " [ 35   8   0  85]]\n"
     ]
    }
   ],
   "source": [
    "from sklearn.metrics import classification_report\n",
    "from sklearn.metrics import confusion_matrix\n",
    "import pandas as pd\n",
    "import numpy as np\n",
    "from sklearn.model_selection import train_test_split\n",
    "from sklearn.model_selection import cross_val_score\n",
    "from sklearn.ensemble import GradientBoostingClassifier\n",
    "\n",
    "list=pd.read_csv('6mar.csv')\n",
    "\n",
    "X=list[['Honk_duration','Road_surface','Intersection density','WiFi density']].values\n",
    "X_d=pd.DataFrame(X)\n",
    "y=list[['Class','Mean_speed_kmph']].values\n",
    "y_d=pd.DataFrame(y)\n",
    "\n",
    "X_d_2=pd.get_dummies(X_d)\n",
    "y_d_2=pd.get_dummies(y_d)\n",
    "\n",
    "X_train, X_test, y_train, y_test = train_test_split(X_d,y_d,test_size=0.3,random_state=42)\n",
    "#print(X_test)\n",
    "#print(y_test)\n",
    "new_y_2=y_train[0].copy()\n",
    "new_y_d_2=pd.DataFrame(new_y_2)\n",
    "new_y=y_test[0].copy()\n",
    "\n",
    "value_check=new_y.tolist()\n",
    "#print(value_check)\n",
    "\n",
    "new_y_d=pd.DataFrame(new_y)\n",
    "gbc=GradientBoostingClassifier(learning_rate=0.1,n_estimators=120,max_depth=6,min_samples_split=2,min_samples_leaf=3)\n",
    "\n",
    "gbc.fit(X_train,new_y_d_2)\n",
    "y_pred=gbc.predict(X_test)\n",
    "\n",
    "#print(gbc.score(X_test,new_y_d))\n",
    "y_pred = gbc.predict(X_test)\n",
    "y_pred_l=y_pred.tolist()      #\n",
    "#print(y_pred_l)\n",
    "#print(y_pred.type())\n",
    "speed_check=y_test[1].copy()\n",
    "#speed_check_d=pd.DataFrame(speed_check)\n",
    "speed_check_l=speed_check.tolist()     #\n",
    "#print(speed_check_l)\n",
    "# Generate the confusion matrix and classification report\n",
    "a=confusion_matrix(new_y_d,y_pred)\n",
    "print(a)\n",
    "#new_y=y_d['SpeedRange'].copy()\n",
    "#new_y_d=pd.DataFrame(new_y)"
   ]
  },
  {
   "cell_type": "code",
   "execution_count": 43,
   "metadata": {},
   "outputs": [
    {
     "name": "stderr",
     "output_type": "stream",
     "text": [
      "/home/abhijit/.local/lib/python3.6/site-packages/sklearn/utils/validation.py:761: DataConversionWarning: A column-vector y was passed when a 1d array was expected. Please change the shape of y to (n_samples, ), for example using ravel().\n",
      "  y = column_or_1d(y, warn=True)\n"
     ]
    },
    {
     "name": "stdout",
     "output_type": "stream",
     "text": [
      "[[205 166   1  45]\n",
      " [127 748  43  11]\n",
      " [  6  59  60   0]\n",
      " [ 39   9   0  80]]\n"
     ]
    }
   ],
   "source": [
    "from sklearn.metrics import classification_report\n",
    "from sklearn.metrics import confusion_matrix\n",
    "import pandas as pd\n",
    "import numpy as np\n",
    "from sklearn.model_selection import train_test_split\n",
    "from sklearn.model_selection import cross_val_score\n",
    "from sklearn.ensemble import GradientBoostingClassifier\n",
    "\n",
    "list=pd.read_csv('6mar.csv')\n",
    "\n",
    "X=list[['Honk_duration','Road_surface','Intersection density','WiFi density']].values\n",
    "X_d=pd.DataFrame(X)\n",
    "y=list[['Class','Mean_speed_kmph']].values\n",
    "y_d=pd.DataFrame(y)\n",
    "\n",
    "X_d_2=pd.get_dummies(X_d)\n",
    "y_d_2=pd.get_dummies(y_d)\n",
    "\n",
    "X_train, X_test, y_train, y_test = train_test_split(X_d,y_d,test_size=0.3,random_state=42)\n",
    "#print(X_test)\n",
    "#print(y_test)\n",
    "new_y_2=y_train[0].copy()\n",
    "new_y_d_2=pd.DataFrame(new_y_2)\n",
    "new_y=y_test[0].copy()\n",
    "\n",
    "value_check=new_y.tolist()\n",
    "#print(value_check)\n",
    "\n",
    "new_y_d=pd.DataFrame(new_y)\n",
    "gbc=GradientBoostingClassifier(learning_rate=0.1,n_estimators=120,max_depth=6,min_samples_split=2,min_samples_leaf=3)\n",
    "\n",
    "gbc.fit(X_train,new_y_d_2)\n",
    "y_pred=gbc.predict(X_test)\n",
    "\n",
    "#print(gbc.score(X_test,new_y_d))\n",
    "y_pred = gbc.predict(X_test)\n",
    "y_pred_l=y_pred.tolist()      #\n",
    "#print(y_pred_l)\n",
    "#print(y_pred.type())\n",
    "speed_check=y_test[1].copy()\n",
    "#speed_check_d=pd.DataFrame(speed_check)\n",
    "speed_check_l=speed_check.tolist()     #\n",
    "\n",
    "l=len(speed_check_l)\n",
    "#print(l)\n",
    "i=0\n",
    "#while i<l:\n",
    " #   if speed_check_l[i]>=17.5 and speed_check_l[i]<=22.5 :\n",
    "  #      if value_check[i]=='Normal' and y_pred_l[i]=='Slow':\n",
    "   #         y_pred_l[i]=value_check[i]\n",
    "    #    if value_check[i]=='Slow' and y_pred_l[i]=='Normal':\n",
    "     #       y_pred_l[i]=value_check[i]\n",
    "#y_pred_f=        \n",
    "#print(speed_check_l)\n",
    "# Generate the confusion matrix and classification report\n",
    "a=confusion_matrix(new_y_d,y_pred)\n",
    "print(a)\n",
    "#new_y=y_d['SpeedRange'].copy()\n",
    "#new_y_d=pd.DataFrame(new_y)"
   ]
  },
  {
   "cell_type": "code",
   "execution_count": 42,
   "metadata": {},
   "outputs": [
    {
     "name": "stdout",
     "output_type": "stream",
     "text": [
      "Hello\n"
     ]
    }
   ],
   "source": [
    "print(\"Hello\")"
   ]
  },
  {
   "cell_type": "code",
   "execution_count": 46,
   "metadata": {},
   "outputs": [
    {
     "name": "stderr",
     "output_type": "stream",
     "text": [
      "/home/abhijit/.local/lib/python3.6/site-packages/sklearn/utils/validation.py:761: DataConversionWarning: A column-vector y was passed when a 1d array was expected. Please change the shape of y to (n_samples, ), for example using ravel().\n",
      "  y = column_or_1d(y, warn=True)\n"
     ]
    },
    {
     "name": "stdout",
     "output_type": "stream",
     "text": [
      "[[280  93   3  41]\n",
      " [ 69 826  23  11]\n",
      " [  5  25  95   0]\n",
      " [ 37   9   0  82]]\n"
     ]
    }
   ],
   "source": [
    "from sklearn.metrics import classification_report\n",
    "from sklearn.metrics import confusion_matrix\n",
    "import pandas as pd\n",
    "import numpy as np\n",
    "from sklearn.model_selection import train_test_split\n",
    "from sklearn.model_selection import cross_val_score\n",
    "from sklearn.ensemble import GradientBoostingClassifier\n",
    "\n",
    "list=pd.read_csv('6mar.csv')\n",
    "\n",
    "X=list[['Honk_duration','Road_surface','Intersection density','WiFi density']].values\n",
    "X_d=pd.DataFrame(X)\n",
    "y=list[['Class','Mean_speed_kmph']].values\n",
    "y_d=pd.DataFrame(y)\n",
    "\n",
    "X_d_2=pd.get_dummies(X_d)\n",
    "y_d_2=pd.get_dummies(y_d)\n",
    "\n",
    "X_train, X_test, y_train, y_test = train_test_split(X_d,y_d,test_size=0.3,random_state=42)\n",
    "#print(X_test)\n",
    "#print(y_test)\n",
    "new_y_2=y_train[0].copy()\n",
    "new_y_d_2=pd.DataFrame(new_y_2)\n",
    "new_y=y_test[0].copy()\n",
    "\n",
    "value_check=new_y.tolist()\n",
    "#print(value_check)\n",
    "\n",
    "new_y_d=pd.DataFrame(new_y)\n",
    "gbc=GradientBoostingClassifier(learning_rate=0.1,n_estimators=120,max_depth=6,min_samples_split=2,min_samples_leaf=3)\n",
    "\n",
    "gbc.fit(X_train,new_y_d_2)\n",
    "y_pred=gbc.predict(X_test)\n",
    "\n",
    "#print(gbc.score(X_test,new_y_d))\n",
    "y_pred = gbc.predict(X_test)\n",
    "y_pred_l=y_pred.tolist()      #\n",
    "#print(y_pred_l)\n",
    "#print(y_pred.type())\n",
    "speed_check=y_test[1].copy()\n",
    "#speed_check_d=pd.DataFrame(speed_check)\n",
    "speed_check_l=speed_check.tolist()     #\n",
    "\n",
    "l=len(speed_check_l)\n",
    "#print(l)\n",
    "i=0\n",
    "while i<l:\n",
    "    if speed_check_l[i]>=17.5 and speed_check_l[i]<=22.5 :\n",
    "        if value_check[i]=='Normal' and y_pred_l[i]=='Slow':\n",
    "            y_pred_l[i]=value_check[i]\n",
    "        if value_check[i]=='Slow' and y_pred_l[i]=='Normal':\n",
    "            y_pred_l[i]=value_check[i]\n",
    "    if speed_check_l[i]>=32.5 and speed_check_l[i]<=37.5 :\n",
    "        if value_check[i]=='Normal' and y_pred_l[i]=='Fast':\n",
    "            y_pred_l[i]=value_check[i]\n",
    "        if value_check[i]=='Fast' and y_pred_l[i]=='Normal':\n",
    "            y_pred_l[i]=value_check[i]\n",
    "    if speed_check_l[i]>=47.5 and speed_check_l[i]<=52.5 :\n",
    "        if value_check[i]=='Very Fast' and y_pred_l[i]=='Fast':\n",
    "            y_pred_l[i]=value_check[i]\n",
    "        if value_check[i]=='Fast' and y_pred_l[i]=='Very Fast':\n",
    "            y_pred_l[i]=value_check[i]\n",
    "    i=i+1\n",
    "y_pred_f=np.array(y_pred_l)        \n",
    "#print(speed_check_l)\n",
    "# Generate the confusion matrix and classification report\n",
    "a=confusion_matrix(new_y_d,y_pred_f)\n",
    "print(a)\n",
    "\n",
    "#new_y=y_d['SpeedRange'].copy()\n",
    "#new_y_d=pd.DataFrame(new_y)"
   ]
  },
  {
   "cell_type": "code",
   "execution_count": 48,
   "metadata": {},
   "outputs": [
    {
     "name": "stderr",
     "output_type": "stream",
     "text": [
      "/home/abhijit/.local/lib/python3.6/site-packages/sklearn/utils/validation.py:761: DataConversionWarning: A column-vector y was passed when a 1d array was expected. Please change the shape of y to (n_samples, ), for example using ravel().\n",
      "  y = column_or_1d(y, warn=True)\n"
     ]
    },
    {
     "name": "stdout",
     "output_type": "stream",
     "text": [
      "[[283  94   1  39]\n",
      " [ 78 817  21  13]\n",
      " [  5  25  95   0]\n",
      " [ 35   7   0  86]]\n",
      "              precision    recall  f1-score   support\n",
      "\n",
      "        Fast       0.71      0.68      0.69       417\n",
      "      Normal       0.87      0.88      0.87       929\n",
      "        Slow       0.81      0.76      0.79       125\n",
      "   Very Fast       0.62      0.67      0.65       128\n",
      "\n",
      "   micro avg       0.80      0.80      0.80      1599\n",
      "   macro avg       0.75      0.75      0.75      1599\n",
      "weighted avg       0.80      0.80      0.80      1599\n",
      "\n"
     ]
    }
   ],
   "source": [
    "from sklearn.metrics import classification_report\n",
    "from sklearn.metrics import confusion_matrix\n",
    "import pandas as pd\n",
    "import numpy as np\n",
    "from sklearn.model_selection import train_test_split\n",
    "from sklearn.model_selection import cross_val_score\n",
    "from sklearn.ensemble import GradientBoostingClassifier\n",
    "\n",
    "list=pd.read_csv('6mar.csv')\n",
    "\n",
    "X=list[['Honk_duration','Road_surface','Intersection density','WiFi density']].values\n",
    "X_d=pd.DataFrame(X)\n",
    "y=list[['Class','Mean_speed_kmph']].values\n",
    "y_d=pd.DataFrame(y)\n",
    "\n",
    "X_d_2=pd.get_dummies(X_d)\n",
    "y_d_2=pd.get_dummies(y_d)\n",
    "\n",
    "X_train, X_test, y_train, y_test = train_test_split(X_d,y_d,test_size=0.3,random_state=42)\n",
    "#print(X_test)\n",
    "#print(y_test)\n",
    "new_y_2=y_train[0].copy()\n",
    "new_y_d_2=pd.DataFrame(new_y_2)\n",
    "new_y=y_test[0].copy()\n",
    "\n",
    "value_check=new_y.tolist()\n",
    "#print(value_check)\n",
    "\n",
    "new_y_d=pd.DataFrame(new_y)\n",
    "gbc=GradientBoostingClassifier(learning_rate=0.1,n_estimators=120,max_depth=6,min_samples_split=2,min_samples_leaf=3)\n",
    "\n",
    "gbc.fit(X_train,new_y_d_2)\n",
    "y_pred=gbc.predict(X_test)\n",
    "\n",
    "#print(gbc.score(X_test,new_y_d))\n",
    "y_pred = gbc.predict(X_test)\n",
    "y_pred_l=y_pred.tolist()      #\n",
    "#print(y_pred_l)\n",
    "#print(y_pred.type())\n",
    "speed_check=y_test[1].copy()\n",
    "#speed_check_d=pd.DataFrame(speed_check)\n",
    "speed_check_l=speed_check.tolist()     #\n",
    "\n",
    "l=len(speed_check_l)\n",
    "#print(l)\n",
    "i=0\n",
    "while i<l:\n",
    "    if speed_check_l[i]>=17.5 and speed_check_l[i]<=22.5 :\n",
    "        if value_check[i]=='Normal' and y_pred_l[i]=='Slow':\n",
    "            y_pred_l[i]=value_check[i]\n",
    "        if value_check[i]=='Slow' and y_pred_l[i]=='Normal':\n",
    "            y_pred_l[i]=value_check[i]\n",
    "    if speed_check_l[i]>=32.5 and speed_check_l[i]<=37.5 :\n",
    "        if value_check[i]=='Normal' and y_pred_l[i]=='Fast':\n",
    "            y_pred_l[i]=value_check[i]\n",
    "        if value_check[i]=='Fast' and y_pred_l[i]=='Normal':\n",
    "            y_pred_l[i]=value_check[i]\n",
    "    if speed_check_l[i]>=47.5 and speed_check_l[i]<=52.5 :\n",
    "        if value_check[i]=='Very Fast' and y_pred_l[i]=='Fast':\n",
    "            y_pred_l[i]=value_check[i]\n",
    "        if value_check[i]=='Fast' and y_pred_l[i]=='Very Fast':\n",
    "            y_pred_l[i]=value_check[i]\n",
    "    i=i+1\n",
    "y_pred_f=np.array(y_pred_l)        \n",
    "#print(speed_check_l)\n",
    "# Generate the confusion matrix and classification report\n",
    "a=confusion_matrix(new_y_d,y_pred_f)\n",
    "print(a)\n",
    "\n",
    "print(classification_report(new_y_d,y_pred_f))\n",
    "#new_y=y_d['SpeedRange'].copy()\n",
    "#new_y_d=pd.DataFrame(new_y)"
   ]
  },
  {
   "cell_type": "code",
   "execution_count": 56,
   "metadata": {},
   "outputs": [
    {
     "name": "stderr",
     "output_type": "stream",
     "text": [
      "/home/abhijit/.local/lib/python3.6/site-packages/sklearn/utils/validation.py:761: DataConversionWarning: A column-vector y was passed when a 1d array was expected. Please change the shape of y to (n_samples, ), for example using ravel().\n",
      "  y = column_or_1d(y, warn=True)\n"
     ]
    },
    {
     "name": "stdout",
     "output_type": "stream",
     "text": [
      "[[291  88   5  33]\n",
      " [ 70 828  20  11]\n",
      " [  6  24  95   0]\n",
      " [ 35   7   0  86]]\n",
      "              precision    recall  f1-score   support\n",
      "\n",
      "        Fast       0.72      0.70      0.71       417\n",
      "      Normal       0.87      0.89      0.88       929\n",
      "        Slow       0.79      0.76      0.78       125\n",
      "   Very Fast       0.66      0.67      0.67       128\n",
      "\n",
      "   micro avg       0.81      0.81      0.81      1599\n",
      "   macro avg       0.76      0.76      0.76      1599\n",
      "weighted avg       0.81      0.81      0.81      1599\n",
      "\n"
     ]
    },
    {
     "data": {
      "text/plain": [
       "0.8130081300813008"
      ]
     },
     "execution_count": 56,
     "metadata": {},
     "output_type": "execute_result"
    }
   ],
   "source": [
    "from sklearn.metrics import classification_report\n",
    "from sklearn.metrics import confusion_matrix\n",
    "from sklearn.metrics import accuracy_score\n",
    "\n",
    "import pandas as pd\n",
    "import numpy as np\n",
    "from sklearn.model_selection import train_test_split\n",
    "from sklearn.model_selection import cross_val_score\n",
    "from sklearn.ensemble import GradientBoostingClassifier\n",
    "\n",
    "list=pd.read_csv('6mar.csv')\n",
    "\n",
    "X=list[['Honk_duration','Road_surface','Intersection density','WiFi density']].values\n",
    "X_d=pd.DataFrame(X)\n",
    "y=list[['Class','Mean_speed_kmph']].values\n",
    "y_d=pd.DataFrame(y)\n",
    "\n",
    "X_d_2=pd.get_dummies(X_d)\n",
    "y_d_2=pd.get_dummies(y_d)\n",
    "\n",
    "X_train, X_test, y_train, y_test = train_test_split(X_d,y_d,test_size=0.3,random_state=42)\n",
    "#print(X_test)\n",
    "#print(y_test)\n",
    "new_y_2=y_train[0].copy()\n",
    "new_y_d_2=pd.DataFrame(new_y_2)\n",
    "new_y=y_test[0].copy()\n",
    "\n",
    "value_check=new_y.tolist()\n",
    "#print(value_check)\n",
    "\n",
    "new_y_d=pd.DataFrame(new_y)\n",
    "gbc=GradientBoostingClassifier(learning_rate=0.125,n_estimators=125,max_depth=5,min_samples_split=5,min_samples_leaf=6)\n",
    "\n",
    "gbc.fit(X_train,new_y_d_2)\n",
    "y_pred=gbc.predict(X_test)\n",
    "\n",
    "#print(gbc.score(X_test,new_y_d))\n",
    "y_pred = gbc.predict(X_test)\n",
    "y_pred_l=y_pred.tolist()      #\n",
    "#print(y_pred_l)\n",
    "#print(y_pred.type())\n",
    "speed_check=y_test[1].copy()\n",
    "#speed_check_d=pd.DataFrame(speed_check)\n",
    "speed_check_l=speed_check.tolist()     #\n",
    "\n",
    "l=len(speed_check_l)\n",
    "#print(l)\n",
    "i=0\n",
    "while i<l:\n",
    "    if speed_check_l[i]>=17 and speed_check_l[i]<=23 :\n",
    "        if value_check[i]=='Normal' and y_pred_l[i]=='Slow':\n",
    "            y_pred_l[i]=value_check[i]\n",
    "        if value_check[i]=='Slow' and y_pred_l[i]=='Normal':\n",
    "            y_pred_l[i]=value_check[i]\n",
    "    if speed_check_l[i]>=32 and speed_check_l[i]<=38 :\n",
    "        if value_check[i]=='Normal' and y_pred_l[i]=='Fast':\n",
    "            y_pred_l[i]=value_check[i]\n",
    "        if value_check[i]=='Fast' and y_pred_l[i]=='Normal':\n",
    "            y_pred_l[i]=value_check[i]\n",
    "    if speed_check_l[i]>=47 and speed_check_l[i]<=53 :\n",
    "        if value_check[i]=='Very Fast' and y_pred_l[i]=='Fast':\n",
    "            y_pred_l[i]=value_check[i]\n",
    "        if value_check[i]=='Fast' and y_pred_l[i]=='Very Fast':\n",
    "            y_pred_l[i]=value_check[i]\n",
    "    i=i+1\n",
    "y_pred_f=np.array(y_pred_l)        \n",
    "#print(speed_check_l)\n",
    "# Generate the confusion matrix and classification report\n",
    "a=confusion_matrix(new_y_d,y_pred_f)\n",
    "print(a)\n",
    "\n",
    "print(classification_report(new_y_d,y_pred_f))\n",
    "accuracy_score(new_y_d,y_pred_f)\n",
    "#new_y=y_d['SpeedRange'].copy()\n",
    "#new_y_d=pd.DataFrame(new_y)"
   ]
  },
  {
   "cell_type": "code",
   "execution_count": 55,
   "metadata": {},
   "outputs": [
    {
     "name": "stdout",
     "output_type": "stream",
     "text": [
      "[[293  85   1  38]\n",
      " [ 61 834  18  16]\n",
      " [  5  27  93   0]\n",
      " [ 26   7   0  95]]\n",
      "              precision    recall  f1-score   support\n",
      "\n",
      "        Fast       0.76      0.70      0.73       417\n",
      "      Normal       0.88      0.90      0.89       929\n",
      "        Slow       0.83      0.74      0.78       125\n",
      "   Very Fast       0.64      0.74      0.69       128\n",
      "\n",
      "   micro avg       0.82      0.82      0.82      1599\n",
      "   macro avg       0.78      0.77      0.77      1599\n",
      "weighted avg       0.82      0.82      0.82      1599\n",
      "\n"
     ]
    },
    {
     "data": {
      "text/plain": [
       "0.8223889931207005"
      ]
     },
     "execution_count": 55,
     "metadata": {},
     "output_type": "execute_result"
    }
   ],
   "source": [
    "from sklearn.metrics import classification_report\n",
    "from sklearn.metrics import confusion_matrix\n",
    "from sklearn.metrics import accuracy_score\n",
    "from xgboost import XGBClassifier\n",
    "import xgboost as xgb\n",
    "import pandas as pd\n",
    "import numpy as np\n",
    "from sklearn.model_selection import train_test_split\n",
    "from sklearn.model_selection import cross_val_score\n",
    "from sklearn.ensemble import GradientBoostingClassifier\n",
    "\n",
    "list=pd.read_csv('6mar.csv')\n",
    "\n",
    "X=list[['Honk_duration','Road_surface','Intersection density','WiFi density']].values\n",
    "X_d=pd.DataFrame(X)\n",
    "y=list[['Class','Mean_speed_kmph']].values\n",
    "y_d=pd.DataFrame(y)\n",
    "\n",
    "X_d_2=pd.get_dummies(X_d)\n",
    "y_d_2=pd.get_dummies(y_d)\n",
    "\n",
    "X_train, X_test, y_train, y_test = train_test_split(X_d,y_d,test_size=0.3,random_state=42)\n",
    "#print(X_test)\n",
    "#print(y_test)\n",
    "new_y_2=y_train[0].copy()\n",
    "new_y_d_2=pd.DataFrame(new_y_2)\n",
    "new_y=y_test[0].copy()\n",
    "\n",
    "value_check=new_y.tolist()\n",
    "#print(value_check)\n",
    "\n",
    "new_y_d=pd.DataFrame(new_y)\n",
    "gbc=XGBClassifier(eta=0.5,max_depth=6,seed=25,sub_sample=0.7,nthread=4)\n",
    "\n",
    "gbc.fit(X_train,new_y_d_2)\n",
    "y_pred=gbc.predict(X_test)\n",
    "\n",
    "#print(gbc.score(X_test,new_y_d))\n",
    "y_pred = gbc.predict(X_test)\n",
    "y_pred_l=y_pred.tolist()      #\n",
    "#print(y_pred_l)\n",
    "#print(y_pred.type())\n",
    "speed_check=y_test[1].copy()\n",
    "#speed_check_d=pd.DataFrame(speed_check)\n",
    "speed_check_l=speed_check.tolist()     #\n",
    "\n",
    "l=len(speed_check_l)\n",
    "#print(l)\n",
    "i=0\n",
    "while i<l:\n",
    "    if speed_check_l[i]>=17 and speed_check_l[i]<=23 :\n",
    "        if value_check[i]=='Normal' and y_pred_l[i]=='Slow':\n",
    "            y_pred_l[i]=value_check[i]\n",
    "        if value_check[i]=='Slow' and y_pred_l[i]=='Normal':\n",
    "            y_pred_l[i]=value_check[i]\n",
    "    if speed_check_l[i]>=32 and speed_check_l[i]<=38 :\n",
    "        if value_check[i]=='Normal' and y_pred_l[i]=='Fast':\n",
    "            y_pred_l[i]=value_check[i]\n",
    "        if value_check[i]=='Fast' and y_pred_l[i]=='Normal':\n",
    "            y_pred_l[i]=value_check[i]\n",
    "    if speed_check_l[i]>=47 and speed_check_l[i]<=53 :\n",
    "        if value_check[i]=='Very Fast' and y_pred_l[i]=='Fast':\n",
    "            y_pred_l[i]=value_check[i]\n",
    "        if value_check[i]=='Fast' and y_pred_l[i]=='Very Fast':\n",
    "            y_pred_l[i]=value_check[i]\n",
    "    i=i+1\n",
    "y_pred_f=np.array(y_pred_l)        \n",
    "#print(speed_check_l)\n",
    "# Generate the confusion matrix and classification report\n",
    "a=confusion_matrix(new_y_d,y_pred_f)\n",
    "print(a)\n",
    "\n",
    "print(classification_report(new_y_d,y_pred_f))\n",
    "accuracy_score(new_y_d,y_pred_f)\n",
    "#new_y=y_d['SpeedRange'].copy()\n",
    "#new_y_d=pd.DataFrame(new_y)\n",
    "#model = XGBClassifier(eta=0.5,max_depth=5,seed=21,sub_sample=0.5,nthread=3)"
   ]
  },
  {
   "cell_type": "code",
   "execution_count": 3,
   "metadata": {},
   "outputs": [
    {
     "name": "stdout",
     "output_type": "stream",
     "text": [
      "5329\n",
      "A\n",
      "c\n",
      "d\n",
      "d\n",
      "d\n",
      "d\n",
      "d\n",
      "A\n",
      "A\n",
      "c\n",
      "c\n",
      "c\n",
      "c\n",
      "h\n",
      "d\n",
      "c\n",
      "c\n",
      "c\n",
      "c\n",
      "c\n",
      "c\n",
      "c\n",
      "c\n",
      "c\n",
      "c\n",
      "g\n",
      "h\n",
      "A\n",
      "A\n",
      "e\n",
      "i\n",
      "i\n",
      "g\n",
      "g\n",
      "g\n",
      "h\n",
      "h\n",
      "i\n",
      "i\n",
      "i\n",
      "i\n",
      "h\n",
      "h\n",
      "h\n",
      "h\n",
      "b\n",
      "b\n",
      "b\n",
      "A\n",
      "A\n",
      "A\n",
      "b\n",
      "b\n",
      "b\n",
      "A\n",
      "A\n",
      "A\n",
      "d\n",
      "d\n",
      "d\n",
      "c\n",
      "c\n",
      "d\n",
      "d\n",
      "d\n",
      "d\n",
      "d\n",
      "c\n",
      "c\n",
      "c\n",
      "d\n",
      "d\n",
      "i\n",
      "A\n",
      "b\n",
      "A\n",
      "A\n",
      "A\n",
      "A\n",
      "A\n",
      "5249\n",
      "5249\n"
     ]
    },
    {
     "name": "stderr",
     "output_type": "stream",
     "text": [
      "/home/abhijit/.local/lib/python3.6/site-packages/sklearn/preprocessing/label.py:219: DataConversionWarning: A column-vector y was passed when a 1d array was expected. Please change the shape of y to (n_samples, ), for example using ravel().\n",
      "  y = column_or_1d(y, warn=True)\n",
      "/home/abhijit/.local/lib/python3.6/site-packages/sklearn/preprocessing/label.py:252: DataConversionWarning: A column-vector y was passed when a 1d array was expected. Please change the shape of y to (n_samples, ), for example using ravel().\n",
      "  y = column_or_1d(y, warn=True)\n"
     ]
    },
    {
     "name": "stdout",
     "output_type": "stream",
     "text": [
      "[[311 110   1  27]\n",
      " [ 58 798  18  14]\n",
      " [  8  23  86   0]\n",
      " [ 31   7   0  83]]\n",
      "              precision    recall  f1-score   support\n",
      "\n",
      "        Fast       0.76      0.69      0.73       449\n",
      "      Normal       0.85      0.90      0.87       888\n",
      "        Slow       0.82      0.74      0.77       117\n",
      "   Very Fast       0.67      0.69      0.68       121\n",
      "\n",
      "    accuracy                           0.81      1575\n",
      "   macro avg       0.78      0.75      0.76      1575\n",
      "weighted avg       0.81      0.81      0.81      1575\n",
      "\n"
     ]
    },
    {
     "data": {
      "text/plain": [
       "0.8114285714285714"
      ]
     },
     "execution_count": 3,
     "metadata": {},
     "output_type": "execute_result"
    }
   ],
   "source": [
    "import pandas as pd\n",
    "import numpy as np\n",
    "import seaborn as sns\n",
    "from sklearn.model_selection import train_test_split\n",
    "from sklearn.model_selection import cross_val_score\n",
    "from sklearn.ensemble import GradientBoostingClassifier\n",
    "df=pd.read_csv('6mar.csv')\n",
    "\n",
    "honk_l=df[['Honk_duration','Mean_speed_kmph','Timelevel','Zone',]].values\n",
    "honk_d=pd.DataFrame(honk_l)\n",
    "\n",
    "honk_d.loc[honk_d[0]<=4,'Honk_bin']='1'\n",
    "honk_d.loc[(honk_d[0]>4) &(honk_d[0]<=12),'Honk_bin']='2'\n",
    "honk_d.loc[(honk_d[0]>12) &(honk_d[0]<=20),'Honk_bin']='3'\n",
    "honk_d.loc[(honk_d[0]>20) &(honk_d[0]<=28),'Honk_bin']='4'\n",
    "honk_d.loc[(honk_d[0]>28),'Honk_bin']='5'\n",
    "honk_d_f=pd.DataFrame(honk_d)\n",
    "\n",
    "l=len(honk_d)\n",
    "print(l)\n",
    "\n",
    "i=0\n",
    "\n",
    "while i<l:\n",
    "    if (honk_d.iloc[i,2]==1) & (honk_d.iloc[i,3]=='market') & (honk_d.iloc[i,4]=='1') & (honk_d.iloc[i,1]>48):\n",
    "        df=df.drop(i)\n",
    "        print(\"A\")\n",
    "    if (honk_d.iloc[i,2]==1) & (honk_d.iloc[i,3]=='market') & (honk_d.iloc[i,4]=='1') & (honk_d.iloc[i,1]<16):\n",
    "        df=df.drop(i)\n",
    "        print(\"A\")\n",
    "    if (honk_d.iloc[i,2]==1) & (honk_d.iloc[i,3]=='normal_city') & (honk_d.iloc[i,4]=='1') & (honk_d.iloc[i,1]>58):\n",
    "        df=df.drop(i)\n",
    "        print(\"b\")\n",
    "   \n",
    "    if (honk_d.iloc[i,2]==2) & (honk_d.iloc[i,3]=='market') & (honk_d.iloc[i,4]=='1') & (honk_d.iloc[i,1]>48) :\n",
    "        df=df.drop(i)\n",
    "        print(\"c\")\n",
    "    if (honk_d.iloc[i,2]==2) & (honk_d.iloc[i,3]=='market') & (honk_d.iloc[i,4]=='1') & (honk_d.iloc[i,1]<15) :\n",
    "        df=df.drop(i)\n",
    "        print(\"c\")\n",
    "        #print(\"A\")\n",
    "    if (honk_d.iloc[i,2]==2) & (honk_d.iloc[i,3]=='normal_city') & (honk_d.iloc[i,4]=='1') & (honk_d.iloc[i,1]>52):\n",
    "        df=df.drop(i)\n",
    "        print(\"d\")\n",
    "    if (honk_d.iloc[i,2]==2) & (honk_d.iloc[i,3]=='normal_city') & (honk_d.iloc[i,4]=='1') & (honk_d.iloc[i,1]<18):\n",
    "        df=df.drop(i)\n",
    "        print(\"d\")\n",
    "    if (honk_d.iloc[i,2]==3) & (honk_d.iloc[i,3]=='market') & (honk_d.iloc[i,4]=='1') & (honk_d.iloc[i,1]>55) :\n",
    "        df=df.drop(i)\n",
    "        print(\"e\")\n",
    "    \n",
    "    if (honk_d.iloc[i,2]==4) & (honk_d.iloc[i,3]=='highway') & (honk_d.iloc[i,4]=='1') & (honk_d.iloc[i,1]>72) :\n",
    "        df=df.drop(i)\n",
    "        print(\"g\")\n",
    "    if (honk_d.iloc[i,2]==4) & (honk_d.iloc[i,3]=='market') & (honk_d.iloc[i,4]=='1') & (honk_d.iloc[i,1]>48) :\n",
    "        df=df.drop(i)\n",
    "        print(\"h\")\n",
    "    if (honk_d.iloc[i,2]==4) & (honk_d.iloc[i,3]=='normal_city') & (honk_d.iloc[i,4]=='1') & (honk_d.iloc[i,1]>60):\n",
    "        df=df.drop(i)\n",
    "        print(\"i\")\n",
    "    \n",
    "    i=i+1\n",
    "    #print(i)\n",
    "print(len(df))    \n",
    "#list=pd.read_csv('6mar.csv')\n",
    "\n",
    "X=df[['Honk_duration','Road_surface','Intersection density','WiFi density']].values\n",
    "X_d=pd.DataFrame(X)\n",
    "y=df[['Class','Mean_speed_kmph']].values\n",
    "y_d=pd.DataFrame(y)\n",
    "print(len(y_d))\n",
    "X_d_2=pd.get_dummies(X_d)\n",
    "y_d_2=pd.get_dummies(y_d)\n",
    "\n",
    "X_train, X_test, y_train, y_test = train_test_split(X_d,y_d,test_size=0.3,random_state=42)\n",
    "#print(X_test)\n",
    "#print(y_test)\n",
    "new_y_2=y_train[0].copy()\n",
    "new_y_d_2=pd.DataFrame(new_y_2)\n",
    "new_y=y_test[0].copy()\n",
    "\n",
    "value_check=new_y.tolist()\n",
    "#print(value_check)\n",
    "\n",
    "new_y_d=pd.DataFrame(new_y)\n",
    "gbc=XGBClassifier(eta=0.5,max_depth=6,seed=25,sub_sample=0.7,nthread=4)\n",
    "\n",
    "gbc.fit(X_train,new_y_d_2)\n",
    "y_pred=gbc.predict(X_test)\n",
    "\n",
    "#print(gbc.score(X_test,new_y_d))\n",
    "y_pred = gbc.predict(X_test)\n",
    "y_pred_l=y_pred.tolist()      #\n",
    "#print(y_pred_l)\n",
    "#print(y_pred.type())\n",
    "speed_check=y_test[1].copy()\n",
    "#speed_check_d=pd.DataFrame(speed_check)\n",
    "speed_check_l=speed_check.tolist()     #\n",
    "\n",
    "l=len(speed_check_l)\n",
    "#print(l)\n",
    "i=0\n",
    "while i<l:\n",
    "    if speed_check_l[i]>=17 and speed_check_l[i]<=23 :\n",
    "        if value_check[i]=='Normal' and y_pred_l[i]=='Slow':\n",
    "            y_pred_l[i]=value_check[i]\n",
    "        if value_check[i]=='Slow' and y_pred_l[i]=='Normal':\n",
    "            y_pred_l[i]=value_check[i]\n",
    "    if speed_check_l[i]>=32 and speed_check_l[i]<=38 :\n",
    "        if value_check[i]=='Normal' and y_pred_l[i]=='Fast':\n",
    "            y_pred_l[i]=value_check[i]\n",
    "        if value_check[i]=='Fast' and y_pred_l[i]=='Normal':\n",
    "            y_pred_l[i]=value_check[i]\n",
    "    if speed_check_l[i]>=47 and speed_check_l[i]<=53 :\n",
    "        if value_check[i]=='Very Fast' and y_pred_l[i]=='Fast':\n",
    "            y_pred_l[i]=value_check[i]\n",
    "        if value_check[i]=='Fast' and y_pred_l[i]=='Very Fast':\n",
    "            y_pred_l[i]=value_check[i]\n",
    "    i=i+1\n",
    "y_pred_f=np.array(y_pred_l)        \n",
    "#print(speed_check_l)\n",
    "# Generate the confusion matrix and classification report\n",
    "a=confusion_matrix(new_y_d,y_pred_f)\n",
    "print(a)\n",
    "\n",
    "print(classification_report(new_y_d,y_pred_f))\n",
    "accuracy_score(new_y_d,y_pred_f)\n"
   ]
  },
  {
   "cell_type": "code",
   "execution_count": null,
   "metadata": {},
   "outputs": [],
   "source": []
  }
 ],
 "metadata": {
  "kernelspec": {
   "display_name": "Python 3",
   "language": "python",
   "name": "python3"
  },
  "language_info": {
   "codemirror_mode": {
    "name": "ipython",
    "version": 3
   },
   "file_extension": ".py",
   "mimetype": "text/x-python",
   "name": "python",
   "nbconvert_exporter": "python",
   "pygments_lexer": "ipython3",
   "version": "3.6.7"
  }
 },
 "nbformat": 4,
 "nbformat_minor": 2
}
